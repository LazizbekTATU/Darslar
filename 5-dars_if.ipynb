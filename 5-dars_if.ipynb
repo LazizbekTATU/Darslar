{
 "cells": [
  {
   "cell_type": "code",
   "execution_count": 1,
   "id": "c3da401a",
   "metadata": {},
   "outputs": [
    {
     "name": "stdout",
     "output_type": "stream",
     "text": [
      "a=56\n",
      "57\n"
     ]
    }
   ],
   "source": [
    "#if 1\n",
    "a=int(input(\"a=\"))\n",
    "if a>0:\n",
    "    print(a+1)"
   ]
  },
  {
   "cell_type": "code",
   "execution_count": 3,
   "id": "55e3f65b",
   "metadata": {},
   "outputs": [
    {
     "name": "stdout",
     "output_type": "stream",
     "text": [
      "a=-90\n",
      "-92\n"
     ]
    }
   ],
   "source": [
    "#if 2\n",
    "a=int(input(\"a=\"))\n",
    "if a>0:\n",
    "    print(a+1)\n",
    "else:\n",
    "    print(a-2)"
   ]
  },
  {
   "cell_type": "code",
   "execution_count": 4,
   "id": "057d84a7",
   "metadata": {},
   "outputs": [
    {
     "name": "stdout",
     "output_type": "stream",
     "text": [
      "a=23\n",
      "24\n"
     ]
    }
   ],
   "source": [
    "#if 3\n",
    "a=int(input(\"a=\"))\n",
    "if a>0:\n",
    "    print(a+1)\n",
    "elif a<0:\n",
    "    print(a-2)\n",
    "else:\n",
    "    print(10)"
   ]
  },
  {
   "cell_type": "code",
   "execution_count": 1,
   "id": "cc6ac070",
   "metadata": {},
   "outputs": [
    {
     "name": "stdout",
     "output_type": "stream",
     "text": [
      "a=2\n",
      "b=3\n",
      "c=4\n",
      "3\n"
     ]
    }
   ],
   "source": [
    "#if 4\n",
    "\n",
    "a=int(input(\"a=\"))\n",
    "b=int(input(\"b=\"))\n",
    "c=int(input(\"c=\"))\n",
    "\n",
    "S=0\n",
    "\n",
    "if a>0:\n",
    "    S = S+1\n",
    "if b>0:\n",
    "    S = S+1\n",
    "if c>0:\n",
    "    S = S+1\n",
    "print(S)\n"
   ]
  },
  {
   "cell_type": "code",
   "execution_count": 3,
   "id": "d75b9160",
   "metadata": {},
   "outputs": [
    {
     "name": "stdout",
     "output_type": "stream",
     "text": [
      "a = 2\n",
      "b = 3\n",
      "c = -3\n",
      "musbat sonlar 2 ta manfiylar esa  1 ta\n"
     ]
    }
   ],
   "source": [
    "#if 5\n",
    "\n",
    "a = int(input(\"a = \"))\n",
    "b = int(input(\"b = \"))\n",
    "c = int(input(\"c = \"))\n",
    "\n",
    "S = 0\n",
    "\n",
    "if a>0:\n",
    "    S = S+1\n",
    "if b>0:\n",
    "    S = S+1\n",
    "if c>0:\n",
    "    S = S+1\n",
    "print(\"musbat sonlar\", S, \"ta manfiylar esa \",3-S, \"ta\")"
   ]
  },
  {
   "cell_type": "code",
   "execution_count": 5,
   "id": "5a361489",
   "metadata": {},
   "outputs": [
    {
     "name": "stdout",
     "output_type": "stream",
     "text": [
      "a = 3\n",
      "b = 4\n",
      "4\n"
     ]
    }
   ],
   "source": [
    "#if 6\n",
    "\n",
    "a = int(input(\"a = \"))\n",
    "b = int(input(\"b = \"))\n",
    "\n",
    "if a>b:\n",
    "    print(a)\n",
    "else:\n",
    "    print(b)"
   ]
  },
  {
   "cell_type": "code",
   "execution_count": 6,
   "id": "d5c89719",
   "metadata": {},
   "outputs": [
    {
     "name": "stdout",
     "output_type": "stream",
     "text": [
      "a = 6\n",
      "b = 9\n",
      "6\n"
     ]
    }
   ],
   "source": [
    "#if 7\n",
    "\n",
    "a = int(input(\"a = \"))\n",
    "b = int(input(\"b = \"))\n",
    "\n",
    "if a>b:\n",
    "    print(b)\n",
    "else:\n",
    "    print(a)"
   ]
  },
  {
   "cell_type": "code",
   "execution_count": 8,
   "id": "d9423a20",
   "metadata": {},
   "outputs": [
    {
     "name": "stdout",
     "output_type": "stream",
     "text": [
      "a = 3\n",
      "b = 6\n",
      "6\n",
      "3\n"
     ]
    }
   ],
   "source": [
    "#if 8\n",
    "\n",
    "a = int(input(\"a = \"))\n",
    "b = int(input(\"b = \"))\n",
    "\n",
    "if a>b:\n",
    "    print(a)\n",
    "    print(b)\n",
    "else:\n",
    "    print(b)\n",
    "    print(a)"
   ]
  },
  {
   "cell_type": "code",
   "execution_count": 27,
   "id": "b8fea550",
   "metadata": {},
   "outputs": [
    {
     "name": "stdout",
     "output_type": "stream",
     "text": [
      "A = 6\n",
      "B = 9\n",
      "9 6\n"
     ]
    }
   ],
   "source": [
    "#if 9\n",
    "\n",
    "A = int(input(\"A = \"))\n",
    "B = int(input(\"B = \"))\n",
    "\n",
    "if A<B:\n",
    "    A = A+B\n",
    "    B = A-B\n",
    "    A = A-B\n",
    "print(A,B)"
   ]
  },
  {
   "cell_type": "code",
   "execution_count": 28,
   "id": "773e718c",
   "metadata": {},
   "outputs": [
    {
     "name": "stdout",
     "output_type": "stream",
     "text": [
      "A = 3\n",
      "B = 4\n",
      "7 11\n"
     ]
    }
   ],
   "source": [
    "#if 10\n",
    "\n",
    "A = int(input(\"A = \"))\n",
    "B = int(input(\"B = \"))\n",
    "\n",
    "if A!=B:\n",
    "    A = A+B\n",
    "    B = A+B\n",
    "if A==B:\n",
    "    A = 0\n",
    "    B = 0\n",
    "print(A,B)\n",
    "    "
   ]
  },
  {
   "cell_type": "code",
   "execution_count": 33,
   "id": "35c49e5a",
   "metadata": {},
   "outputs": [
    {
     "name": "stdout",
     "output_type": "stream",
     "text": [
      "A = 8\n",
      "B = 90\n",
      "0 0\n"
     ]
    }
   ],
   "source": [
    "#if 11 xato\n",
    "\n",
    "A = int(input(\"A = \"))\n",
    "B = int(input(\"B = \"))\n",
    "\n",
    "if A!=B and A>B:\n",
    "    A = A\n",
    "    B = A\n",
    "if A!=B and A<B:\n",
    "    A = B\n",
    "    B = B\n",
    "if A==B:\n",
    "    A = 0\n",
    "    B = 0\n",
    "print(A,B)"
   ]
  },
  {
   "cell_type": "markdown",
   "id": "8d9c0681",
   "metadata": {},
   "source": [
    "# if 12\n",
    "\n",
    "a = int(input(\"a = \"))\n",
    "b = int(input(\"b = \"))\n",
    "c = int(input(\"c = \"))\n",
    "\n",
    "if a>b and c>b:\n",
    "    print(b)\n",
    "if b>a and c>a:\n",
    "    print(a)\n",
    "if a>c and b>c:\n",
    "    print(c)"
   ]
  },
  {
   "cell_type": "code",
   "execution_count": 10,
   "id": "6c955e36",
   "metadata": {},
   "outputs": [
    {
     "name": "stdout",
     "output_type": "stream",
     "text": [
      "a = 32\n",
      "b = 34\n",
      "c = 2\n",
      "32\n"
     ]
    }
   ],
   "source": [
    "#if 13\n",
    "\n",
    "a = int(input(\"a = \"))\n",
    "b = int(input(\"b = \"))\n",
    "c = int(input(\"c = \"))\n",
    "\n",
    "if a>b>c or  c>b>a:\n",
    "    print(b)\n",
    "if b>a>c or c>a>b:\n",
    "    print(a)\n",
    "if a>c>b or b>c>a:\n",
    "    print(c)"
   ]
  },
  {
   "cell_type": "code",
   "execution_count": 12,
   "id": "2695381d",
   "metadata": {},
   "outputs": [
    {
     "name": "stdout",
     "output_type": "stream",
     "text": [
      "a = 78\n",
      "b = 56\n",
      "c = 90\n"
     ]
    }
   ],
   "source": [
    "#if 14 xato qayta\n",
    "\n",
    "a = int(input(\"a = \"))\n",
    "b = int(input(\"b = \"))\n",
    "c = int(input(\"c = \"))\n",
    "\n",
    "if a>b>c:\n",
    "    print(a)\n",
    "    print(c)\n",
    "if b>a>c:\n",
    "    print(b)\n",
    "    print(c)\n",
    "if c>b>a:\n",
    "    print(c)\n",
    "    print(a)\n"
   ]
  },
  {
   "cell_type": "code",
   "execution_count": 13,
   "id": "d1c380a0",
   "metadata": {},
   "outputs": [
    {
     "name": "stdout",
     "output_type": "stream",
     "text": [
      "a = 2\n",
      "b = 5\n",
      "c = 65\n",
      "5 65\n"
     ]
    }
   ],
   "source": [
    "#if 15 \n",
    "\n",
    "a = int(input(\"a = \"))\n",
    "b = int(input(\"b = \"))\n",
    "c = int(input(\"c = \"))\n",
    "\n",
    "if a>c and b>c:\n",
    "    print(a,b)\n",
    "if b>a and c>a:\n",
    "    print(b,c)\n",
    "if c>b and a>b:\n",
    "    print(c,a)"
   ]
  },
  {
   "cell_type": "code",
   "execution_count": 15,
   "id": "48b2b416",
   "metadata": {},
   "outputs": [
    {
     "name": "stdout",
     "output_type": "stream",
     "text": [
      "A = 2\n",
      "B = 3\n",
      "C = 4\n",
      "4 6 8\n"
     ]
    }
   ],
   "source": [
    "#if 16 \n",
    "\n",
    "A = int(input(\"A = \"))\n",
    "B = int(input(\"B = \"))\n",
    "C = int(input(\"C = \"))\n",
    "\n",
    "if A<B<C:\n",
    "    A = A*2\n",
    "    B = B*2\n",
    "    C = C*2\n",
    "else:\n",
    "    A = -A\n",
    "    B = -B\n",
    "    C = -C\n",
    "print(A,B,C)"
   ]
  },
  {
   "cell_type": "code",
   "execution_count": 17,
   "id": "e0e4a850",
   "metadata": {},
   "outputs": [
    {
     "name": "stdout",
     "output_type": "stream",
     "text": [
      "a = 4\n",
      "b = 3\n",
      "c = 5\n",
      "-4 -3 -5\n"
     ]
    }
   ],
   "source": [
    "#if 17\n",
    "\n",
    "a = int(input(\"a = \"))\n",
    "b = int(input(\"b = \"))\n",
    "c = int(input(\"c = \"))\n",
    "\n",
    "if a<b<c or a>b>c:\n",
    "    a = a*2\n",
    "    b = b*2\n",
    "    c = c*2\n",
    "else:\n",
    "    a = -a\n",
    "    b = -b\n",
    "    c = -c\n",
    "print(a,b,c)"
   ]
  },
  {
   "cell_type": "code",
   "execution_count": 19,
   "id": "02fa32f5",
   "metadata": {},
   "outputs": [
    {
     "name": "stdout",
     "output_type": "stream",
     "text": [
      "a = 22\n",
      "b = 22\n",
      "c = 1\n",
      "3\n"
     ]
    }
   ],
   "source": [
    "#if 18\n",
    "\n",
    "a = int(input(\"a = \"))\n",
    "b = int(input(\"b = \"))\n",
    "c = int(input(\"c = \"))\n",
    "\n",
    "if a==b:\n",
    "    print(3)\n",
    "if b==c:\n",
    "    print(1)\n",
    "if a==c:\n",
    "    print(2)"
   ]
  },
  {
   "cell_type": "code",
   "execution_count": 23,
   "id": "d4ad35cd",
   "metadata": {},
   "outputs": [
    {
     "name": "stdout",
     "output_type": "stream",
     "text": [
      "a = 2\n",
      "b = 3\n",
      "c = 3\n",
      "d = 3\n",
      "1\n"
     ]
    }
   ],
   "source": [
    "#if 19\n",
    "\n",
    "a = int(input(\"a = \"))\n",
    "b = int(input(\"b = \"))\n",
    "c = int(input(\"c = \"))\n",
    "d = int(input(\"d = \"))\n",
    "\n",
    "if a == b == c:\n",
    "    print(4)\n",
    "if a == b == d:\n",
    "    print(3)\n",
    "if a == c == d:\n",
    "    print(2)\n",
    "if b == c == d:\n",
    "    print(1)"
   ]
  },
  {
   "cell_type": "code",
   "execution_count": 25,
   "id": "1a6ef67d",
   "metadata": {},
   "outputs": [
    {
     "name": "stdout",
     "output_type": "stream",
     "text": [
      "a = 7\n",
      "b = 4\n",
      "c = 3\n",
      "4\n"
     ]
    }
   ],
   "source": [
    "#if 20\n",
    "\n",
    "a = int(input(\"a = \"))\n",
    "b = int(input(\"b = \"))\n",
    "c = int(input(\"c = \"))\n",
    "\n",
    "if abs(a-b)>abs(a-c):\n",
    "    print(c)\n",
    "else:\n",
    "    print(b)"
   ]
  },
  {
   "cell_type": "code",
   "execution_count": 3,
   "id": "50d6a4ce",
   "metadata": {},
   "outputs": [
    {
     "name": "stdout",
     "output_type": "stream",
     "text": [
      "x = 2\n",
      "y = 3\n",
      "3\n"
     ]
    }
   ],
   "source": [
    "#if 21\n",
    "\n",
    "x = int(input(\"x = \"))\n",
    "y = int(input(\"y = \"))\n",
    "\n",
    "if x==0 and y==0:\n",
    "    print(0)\n",
    "if x!=0 and y==0:\n",
    "    print(1)\n",
    "if x==0 and y!=0:\n",
    "    print(2)\n",
    "if x!=0 and y!=0:\n",
    "    print(3)"
   ]
  },
  {
   "cell_type": "code",
   "execution_count": 4,
   "id": "915ac3ca",
   "metadata": {},
   "outputs": [
    {
     "name": "stdout",
     "output_type": "stream",
     "text": [
      "x = 2\n",
      "y = -4\n",
      "4\n"
     ]
    }
   ],
   "source": [
    "#if 22\n",
    "\n",
    "x = int(input(\"x = \"))\n",
    "y = int(input(\"y = \"))\n",
    "\n",
    "if x>0 and y>0:\n",
    "    print(1)\n",
    "if x<0 and y>0:\n",
    "    print(2)\n",
    "if x<0 and y<0:\n",
    "    print(3)\n",
    "if x>0 and y<0:\n",
    "    print(4)"
   ]
  },
  {
   "cell_type": "code",
   "execution_count": 8,
   "id": "51802d23",
   "metadata": {},
   "outputs": [
    {
     "name": "stdout",
     "output_type": "stream",
     "text": [
      "x1 = 2\n",
      "y1 = 2\n",
      "x2 = 3\n",
      "y2 = 2\n",
      "x3 = 3\n",
      "y3 = 7\n",
      "2 2\n"
     ]
    }
   ],
   "source": [
    "#if 23\n",
    "\n",
    "x1 = int(input(\"x1 = \"))\n",
    "y1 = int(input(\"y1 = \"))\n",
    "x2 = int(input(\"x2 = \"))\n",
    "y2 = int(input(\"y2 = \"))\n",
    "x3 = int(input(\"x3 = \"))\n",
    "y3 = int(input(\"y3 = \"))\n",
    "\n",
    "if x2==x3:\n",
    "    x4 = x1\n",
    "if x1==x2:\n",
    "    x4 = x3\n",
    "if x1==x3:\n",
    "    x4 = x2\n",
    "if y1==y2:\n",
    "    y4 = y3\n",
    "if y2==y3:\n",
    "    y4 = y1\n",
    "if y1==y3:\n",
    "    y4==y2\n",
    "print(x4,y4)"
   ]
  },
  {
   "cell_type": "code",
   "execution_count": 4,
   "id": "96ca9365",
   "metadata": {},
   "outputs": [
    {
     "name": "stdout",
     "output_type": "stream",
     "text": [
      "x = 3\n",
      "0.2822400161197344\n"
     ]
    }
   ],
   "source": [
    "#if 24 \n",
    "from math import*\n",
    "x = int(input(\"x = \"))\n",
    "\n",
    "if x>0:\n",
    "    print(2*sin(x))\n",
    "if x<=0:\n",
    "    print(x-6)"
   ]
  },
  {
   "cell_type": "code",
   "execution_count": 7,
   "id": "fd543233",
   "metadata": {},
   "outputs": [
    {
     "name": "stdout",
     "output_type": "stream",
     "text": [
      "x = 3\n",
      "6\n"
     ]
    }
   ],
   "source": [
    "#if 25\n",
    "\n",
    "x = int(input(\"x = \"))\n",
    "\n",
    "if x<-2 or x>2:\n",
    "    print(2*x)\n",
    "else:\n",
    "    print(-3*x)"
   ]
  },
  {
   "cell_type": "code",
   "execution_count": 10,
   "id": "a25c378a",
   "metadata": {},
   "outputs": [
    {
     "name": "stdout",
     "output_type": "stream",
     "text": [
      "x = -3\n",
      "3\n"
     ]
    }
   ],
   "source": [
    "#if 26\n",
    "\n",
    "x = int(input(\"x = \"))\n",
    "\n",
    "if x<=0:\n",
    "    print(-x)\n",
    "if 0<x<2:\n",
    "    print(x**2)\n",
    "if x>=2:\n",
    "    print(4)"
   ]
  },
  {
   "cell_type": "code",
   "execution_count": 14,
   "id": "a149b9a4",
   "metadata": {},
   "outputs": [
    {
     "name": "stdout",
     "output_type": "stream",
     "text": [
      "x = 0.785\n",
      "1\n"
     ]
    }
   ],
   "source": [
    "#if 27\n",
    "\n",
    "x = int(float(input(\"x = \")))\n",
    "\n",
    "if x<0:\n",
    "    print(0)\n",
    "if x%2==0:\n",
    "    print(1)\n",
    "if x%2==1:\n",
    "    print(-1)"
   ]
  },
  {
   "cell_type": "code",
   "execution_count": 15,
   "id": "771277b2",
   "metadata": {},
   "outputs": [
    {
     "name": "stdout",
     "output_type": "stream",
     "text": [
      "x = 0.87654\n",
      "1\n"
     ]
    }
   ],
   "source": [
    "#if 27.1\n",
    "\n",
    "x = int(float(input(\"x = \")))\n",
    "\n",
    "if x<0:\n",
    "    print(0)\n",
    "elif x%2==0:\n",
    "    print(1)\n",
    "else:\n",
    "    [print(-1)]"
   ]
  },
  {
   "cell_type": "code",
   "execution_count": 8,
   "id": "5c6d840a",
   "metadata": {},
   "outputs": [
    {
     "name": "stdout",
     "output_type": "stream",
     "text": [
      "yil = 5678\n",
      "Kabisa yili emas\n"
     ]
    }
   ],
   "source": [
    "#if 28 \n",
    "\n",
    "yil = int(input(\"yil = \"))\n",
    "\n",
    "kabisa = False\n",
    "\n",
    "if yil%4==0:\n",
    "    print(True)\n",
    "if yil%100==0 and yil%400!=0:\n",
    "    kabisa = False\n",
    "if kabisa:\n",
    "    print(\"Kabisa yili\")\n",
    "else:\n",
    "    print(\"Kabisa yili emas\")\n",
    "\n"
   ]
  },
  {
   "cell_type": "code",
   "execution_count": 4,
   "id": "d0100017",
   "metadata": {},
   "outputs": [
    {
     "ename": "SyntaxError",
     "evalue": "invalid syntax (613741886.py, line 6)",
     "output_type": "error",
     "traceback": [
      "\u001b[0;36m  File \u001b[0;32m\"/var/folders/nx/h_hhzqx53bbcjldfl_ksywvr0000gn/T/ipykernel_7559/613741886.py\"\u001b[0;36m, line \u001b[0;32m6\u001b[0m\n\u001b[0;31m    print(musbat toq son)\u001b[0m\n\u001b[0m                 ^\u001b[0m\n\u001b[0;31mSyntaxError\u001b[0m\u001b[0;31m:\u001b[0m invalid syntax\n"
     ]
    }
   ],
   "source": [
    "#if 29\n",
    "\n",
    "a = int(input(\"a = \"))\n",
    "\n",
    "if a%2==1 and a>0:\n",
    "    print(musbat toq son)\n",
    "if a%2==0 and a<0:\n",
    "    print(manfiy juft son)\n",
    "if a==0:\n",
    "    print(son nolga teng)\n"
   ]
  },
  {
   "cell_type": "code",
   "execution_count": null,
   "id": "bf097903",
   "metadata": {},
   "outputs": [],
   "source": [
    "#if 30\n",
    "\n",
    "N = int(input(\"N = \"))\n",
    "\n"
   ]
  },
  {
   "cell_type": "code",
   "execution_count": 10,
   "id": "9fbf36bc",
   "metadata": {},
   "outputs": [
    {
     "name": "stdout",
     "output_type": "stream",
     "text": [
      "a = 34\n",
      "o'ttiz to'rt\n"
     ]
    }
   ],
   "source": [
    "#if junior\n",
    "\n",
    "a = int(input(\"a = \"))\n",
    "onlik=a//10\n",
    "birlik=a%10\n",
    "\n",
    "if onlik==1:\n",
    "    print(\"o'n\", end=\" \")\n",
    "if onlik==2:\n",
    "    print(\"yigirma\", end =\" \")\n",
    "if onlik==3:\n",
    "    print(\"o'ttiz\", end = \" \")\n",
    "if onlik==4:\n",
    "    print(\"qirq\", end = \" \")\n",
    "if onlik==5:\n",
    "    print(\"ellik\", end = \" \")\n",
    "if onlik==6:\n",
    "    print(\"oltimish\",end =\" \")\n",
    "if onlik==7:\n",
    "    print(\"yetmish\",end=\" \")\n",
    "if onlik==8:\n",
    "    print(\"sakson\", end= \" \")\n",
    "if onlik==9:\n",
    "    print(\"to'qson\",end= \" \")\n",
    "if birlik==1:\n",
    "    print(\"bir\")\n",
    "if birlik==2:\n",
    "    print(\"ikki\")\n",
    "if birlik==3:\n",
    "    print(\"uch\")\n",
    "if birlik==4:\n",
    "    print(\"to'rt\")\n",
    "if birlik==5:\n",
    "    print(\"besh\")\n",
    "if birlik==6:\n",
    "    print(\"olti\")\n",
    "if birlik==7:\n",
    "    print(\"yetti\")\n",
    "if birlik==8:\n",
    "    print(\"sakkiz\")\n",
    "if birlik==9:\n",
    "    print(\"to'qqiz\")\n",
    "if a==0:\n",
    "    print(0)"
   ]
  },
  {
   "cell_type": "code",
   "execution_count": null,
   "id": "86f8a8cd",
   "metadata": {},
   "outputs": [],
   "source": []
  }
 ],
 "metadata": {
  "kernelspec": {
   "display_name": "Python 3 (ipykernel)",
   "language": "python",
   "name": "python3"
  },
  "language_info": {
   "codemirror_mode": {
    "name": "ipython",
    "version": 3
   },
   "file_extension": ".py",
   "mimetype": "text/x-python",
   "name": "python",
   "nbconvert_exporter": "python",
   "pygments_lexer": "ipython3",
   "version": "3.9.7"
  }
 },
 "nbformat": 4,
 "nbformat_minor": 5
}
