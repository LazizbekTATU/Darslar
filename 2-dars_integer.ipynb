{
 "cells": [
  {
   "cell_type": "code",
   "execution_count": 1,
   "id": "6ea464a6",
   "metadata": {},
   "outputs": [
    {
     "name": "stdout",
     "output_type": "stream",
     "text": [
      "L=230\n",
      "L santimetrda 2 metr bor\n"
     ]
    }
   ],
   "source": [
    "#integer 1\n",
    "L=int(input(\"L=\"))\n",
    "a=L//100\n",
    "print(\"L santimetrda\", a, \"metr bor\")"
   ]
  },
  {
   "cell_type": "code",
   "execution_count": 2,
   "id": "7d7b2879",
   "metadata": {},
   "outputs": [
    {
     "name": "stdout",
     "output_type": "stream",
     "text": [
      "M=23456\n",
      "23456 kg da 23 tonna bor\n"
     ]
    }
   ],
   "source": [
    "#integer 2\n",
    "M=int(input(\"M=\"))\n",
    "a=M//1000\n",
    "print(M, \"kg da\", a, \"tonna bor\")"
   ]
  },
  {
   "cell_type": "code",
   "execution_count": 3,
   "id": "2e33caa5",
   "metadata": {},
   "outputs": [
    {
     "name": "stdout",
     "output_type": "stream",
     "text": [
      "bayt=12345\n",
      "12\n"
     ]
    }
   ],
   "source": [
    "#integer 3\n",
    "bayt=int(input(\"bayt=\"))\n",
    "a=bayt//1024\n",
    "print(a)"
   ]
  },
  {
   "cell_type": "code",
   "execution_count": 4,
   "id": "06b5e173",
   "metadata": {},
   "outputs": [
    {
     "name": "stdout",
     "output_type": "stream",
     "text": [
      "A=20\n",
      "B=5\n",
      "4\n"
     ]
    }
   ],
   "source": [
    "#integr 4\n",
    "A=int(input(\"A=\"))\n",
    "B=int(input(\"B=\"))\n",
    "butun=A//B\n",
    "print(butun)"
   ]
  },
  {
   "cell_type": "code",
   "execution_count": 5,
   "id": "b43287a8",
   "metadata": {},
   "outputs": [
    {
     "name": "stdout",
     "output_type": "stream",
     "text": [
      "A=21\n",
      "B=4\n",
      "5 1\n"
     ]
    }
   ],
   "source": [
    "#integer 5\n",
    "A=int(input(\"A=\"))\n",
    "B=int(input(\"B=\"))\n",
    "butun=A//B\n",
    "qol=A%B\n",
    "print(butun, qol)"
   ]
  },
  {
   "cell_type": "code",
   "execution_count": 8,
   "id": "3e0f3ee8",
   "metadata": {},
   "outputs": [
    {
     "name": "stdout",
     "output_type": "stream",
     "text": [
      "a=23\n",
      "2 3\n"
     ]
    }
   ],
   "source": [
    "#integer 6\n",
    "a=int(input(\"a=\"))\n",
    "raq1=a//10\n",
    "raq2=a%10\n",
    "print(raq1,  raq2)"
   ]
  },
  {
   "cell_type": "code",
   "execution_count": 9,
   "id": "4a6f5713",
   "metadata": {},
   "outputs": [
    {
     "name": "stdout",
     "output_type": "stream",
     "text": [
      "a=23\n",
      "5\n"
     ]
    }
   ],
   "source": [
    "#integer 7\n",
    "a=int(input(\"a=\"))\n",
    "raq1=a//10\n",
    "raq2=a%10\n",
    "yig=raq1+raq2\n",
    "print(yig)"
   ]
  },
  {
   "cell_type": "code",
   "execution_count": 10,
   "id": "9dd02f66",
   "metadata": {},
   "outputs": [
    {
     "name": "stdout",
     "output_type": "stream",
     "text": [
      "a=23\n",
      "32\n"
     ]
    }
   ],
   "source": [
    "#integer 8\n",
    "a=int(input(\"a=\"))\n",
    "a1=a//10\n",
    "a2=a%10\n",
    "b=a2*10+a1\n",
    "print(b)"
   ]
  },
  {
   "cell_type": "code",
   "execution_count": 11,
   "id": "75e2be22",
   "metadata": {},
   "outputs": [
    {
     "name": "stdout",
     "output_type": "stream",
     "text": [
      "a_3=123\n",
      "1\n"
     ]
    }
   ],
   "source": [
    "#integer 9\n",
    "a_3=int(input(\"a_3=\"))\n",
    "a1=a_3//100\n",
    "print(a1)"
   ]
  },
  {
   "cell_type": "code",
   "execution_count": 14,
   "id": "e0645e03",
   "metadata": {},
   "outputs": [
    {
     "name": "stdout",
     "output_type": "stream",
     "text": [
      "a_3=123\n",
      "3 2\n"
     ]
    }
   ],
   "source": [
    "#integer 10\n",
    "a_3=int(input(\"a_3=\"))\n",
    "a3=a_3%100%10\n",
    "a2=a_3%100//10\n",
    "print(a3, a2)"
   ]
  },
  {
   "cell_type": "code",
   "execution_count": 15,
   "id": "04a10947",
   "metadata": {},
   "outputs": [
    {
     "name": "stdout",
     "output_type": "stream",
     "text": [
      "a_3=123\n",
      "6\n"
     ]
    }
   ],
   "source": [
    "#integer 11\n",
    "a_3=int(input(\"a_3=\"))\n",
    "a1=a_3//100\n",
    "a2=a_3%100//10\n",
    "a3=a_3%100%10\n",
    "yig=a1+a2+a3\n",
    "print(yig)"
   ]
  },
  {
   "cell_type": "code",
   "execution_count": 17,
   "id": "35f87d45",
   "metadata": {},
   "outputs": [
    {
     "name": "stdout",
     "output_type": "stream",
     "text": [
      "a_3=123\n",
      "321\n"
     ]
    }
   ],
   "source": [
    "#integer 12\n",
    "a_3=int(input(\"a_3=\"))\n",
    "a1=a_3//100\n",
    "a2=a_3%100//10\n",
    "a3=a_3%100%10\n",
    "yangi=a3*100+a2*10+a1\n",
    "print(yangi)"
   ]
  },
  {
   "cell_type": "code",
   "execution_count": 21,
   "id": "155d2596",
   "metadata": {},
   "outputs": [
    {
     "name": "stdout",
     "output_type": "stream",
     "text": [
      "a_3=123\n",
      "312\n"
     ]
    }
   ],
   "source": [
    "#integer 13\n",
    "a_3=int(input(\"a_3=\"))\n",
    "aa=a_3//10\n",
    "a3=a_3%100%10\n",
    "b=a3*100+aa\n",
    "print(b)"
   ]
  },
  {
   "cell_type": "code",
   "execution_count": 19,
   "id": "d17a8766",
   "metadata": {},
   "outputs": [
    {
     "name": "stdout",
     "output_type": "stream",
     "text": [
      "a_3=123\n",
      "312\n"
     ]
    }
   ],
   "source": [
    "#integer 14\n",
    "a_3=int(input(\"a_3=\"))\n",
    "a1=a_3//100\n",
    "a2=a_3%100//10\n",
    "a3=a_3%100%10\n",
    "b=a3*100+a1*10+a2\n",
    "print(b)"
   ]
  },
  {
   "cell_type": "code",
   "execution_count": 22,
   "id": "8863262a",
   "metadata": {},
   "outputs": [
    {
     "name": "stdout",
     "output_type": "stream",
     "text": [
      "a_3=123\n",
      "213\n"
     ]
    }
   ],
   "source": [
    "#integer 15\n",
    "a_3=int(input(\"a_3=\"))\n",
    "a1=a_3//100\n",
    "a2=a_3%100//10\n",
    "a3=a_3%100%10\n",
    "an=a2*100+a1*10+a3\n",
    "print(an)"
   ]
  },
  {
   "cell_type": "code",
   "execution_count": 24,
   "id": "e3b7abaf",
   "metadata": {},
   "outputs": [
    {
     "name": "stdout",
     "output_type": "stream",
     "text": [
      "a_3=123\n",
      "132\n"
     ]
    }
   ],
   "source": [
    "#integer 16\n",
    "a_3=int(input(\"a_3=\"))\n",
    "a1=a_3//100\n",
    "a2=a_3%100//10\n",
    "a3=a_3%100%10\n",
    "b=a1*100+a3*10+a2\n",
    "print(b)"
   ]
  },
  {
   "cell_type": "code",
   "execution_count": 25,
   "id": "7c3f880e",
   "metadata": {},
   "outputs": [
    {
     "name": "stdout",
     "output_type": "stream",
     "text": [
      "a_4=1234\n",
      "2\n"
     ]
    }
   ],
   "source": [
    "#integer 17 \n",
    "a_4=int(input(\"a_4=\"))\n",
    "y=a_4%1000//100\n",
    "print(y)"
   ]
  },
  {
   "cell_type": "code",
   "execution_count": 27,
   "id": "99d7041c",
   "metadata": {},
   "outputs": [
    {
     "name": "stdout",
     "output_type": "stream",
     "text": [
      "a_4=1234\n",
      "1\n"
     ]
    }
   ],
   "source": [
    "#integer 18 \n",
    "a_4=int(input(\"a_4=\"))\n",
    "y=a_4//1000\n",
    "print(y)"
   ]
  },
  {
   "cell_type": "code",
   "execution_count": 28,
   "id": "7593ddb4",
   "metadata": {},
   "outputs": [
    {
     "name": "stdout",
     "output_type": "stream",
     "text": [
      "N=12345\n",
      "205\n"
     ]
    }
   ],
   "source": [
    "#integer 19\n",
    "N=int(input(\"N=\"))\n",
    "Mtola=N//60\n",
    "print(Mtola)"
   ]
  },
  {
   "cell_type": "code",
   "execution_count": 30,
   "id": "d3c63b37",
   "metadata": {},
   "outputs": [
    {
     "name": "stdout",
     "output_type": "stream",
     "text": [
      "N=7222\n",
      "2\n"
     ]
    }
   ],
   "source": [
    "#integer 20\n",
    "N=int(input(\"N=\"))\n",
    "Stola=N//3600\n",
    "print(Stola)"
   ]
  },
  {
   "cell_type": "code",
   "execution_count": 31,
   "id": "8ce289ed",
   "metadata": {},
   "outputs": [
    {
     "name": "stdout",
     "output_type": "stream",
     "text": [
      "N=723\n",
      "12 minutu 3 sekund o'tdi\n"
     ]
    }
   ],
   "source": [
    "#integer 21\n",
    "N=int(input(\"N=\"))\n",
    "Mtola=N//60\n",
    "Sq=N%60\n",
    "print(Mtola, \"minutu\", Sq, \"sekund o'tdi\")"
   ]
  },
  {
   "cell_type": "code",
   "execution_count": 34,
   "id": "af723338",
   "metadata": {},
   "outputs": [
    {
     "name": "stdout",
     "output_type": "stream",
     "text": [
      "N=7289\n",
      "2 u 89 sekund otdi\n"
     ]
    }
   ],
   "source": [
    "#integer 22\n",
    "N=int(input(\"N=\"))\n",
    "Msoat=N//3600\n",
    "Msek=N%3600\n",
    "print(Msoat, \"u\", Msek, \"sekund otdi\")"
   ]
  },
  {
   "cell_type": "code",
   "execution_count": 37,
   "id": "31e317f4",
   "metadata": {},
   "outputs": [
    {
     "name": "stdout",
     "output_type": "stream",
     "text": [
      "N=7324\n",
      "2 soat 2 minut 4 sek o'tdi\n"
     ]
    }
   ],
   "source": [
    "#integer 23\n",
    "N=int(input(\"N=\"))\n",
    "Msoat=N//3600\n",
    "Mmin=N%3600//60\n",
    "Msek=N%3600%60\n",
    "print(Msoat, \"soat\", Mmin, \"minut\", Msek, \"sek o'tdi\")"
   ]
  },
  {
   "cell_type": "code",
   "execution_count": 2,
   "id": "4aa171c8",
   "metadata": {},
   "outputs": [
    {
     "name": "stdout",
     "output_type": "stream",
     "text": [
      "K=24\n",
      "3\n"
     ]
    }
   ],
   "source": [
    "#integer 24\n",
    "K=int(input(\"K=\"))\n",
    "kun=K%7\n",
    "print(kun)"
   ]
  },
  {
   "cell_type": "code",
   "execution_count": 12,
   "id": "9c1adc4f",
   "metadata": {},
   "outputs": [
    {
     "name": "stdout",
     "output_type": "stream",
     "text": [
      "K=9\n",
      "5\n"
     ]
    }
   ],
   "source": [
    "#integer 25\n",
    "K=int(input(\"K=\"))\n",
    "kun=(K+3)%7\n",
    "print(kun)"
   ]
  },
  {
   "cell_type": "code",
   "execution_count": 13,
   "id": "5bd26bb4",
   "metadata": {},
   "outputs": [
    {
     "name": "stdout",
     "output_type": "stream",
     "text": [
      "K=8\n",
      "2\n"
     ]
    }
   ],
   "source": [
    "#integer 26\n",
    "K=int(input(\"K=\"))\n",
    "kun=(K+1)%7\n",
    "print(kun)"
   ]
  },
  {
   "cell_type": "code",
   "execution_count": 14,
   "id": "48455f07",
   "metadata": {},
   "outputs": [
    {
     "name": "stdout",
     "output_type": "stream",
     "text": [
      "K=9\n",
      "1\n"
     ]
    }
   ],
   "source": [
    "#integer 27\n",
    "K=int((input(\"K=\")))\n",
    "kun=(K+6)%7\n",
    "print(kun)"
   ]
  },
  {
   "cell_type": "code",
   "execution_count": 16,
   "id": "3b78cb2b",
   "metadata": {},
   "outputs": [
    {
     "name": "stdout",
     "output_type": "stream",
     "text": [
      "K=9\n",
      "1\n"
     ]
    }
   ],
   "source": [
    "#integer 28\n",
    "K=int(input(\"K=\"))\n",
    "N=K%7\n",
    "kun=K%N\n",
    "print(kun)"
   ]
  },
  {
   "cell_type": "code",
   "execution_count": 11,
   "id": "34e7a4cc",
   "metadata": {},
   "outputs": [
    {
     "name": "stdout",
     "output_type": "stream",
     "text": [
      "A=4\n",
      "B=5\n",
      "C=3\n",
      "2 joylashadi va 2 qoladi\n"
     ]
    }
   ],
   "source": [
    "#integer 29\n",
    "A=int(input(\"A=\"))\n",
    "B=int(input(\"B=\"))\n",
    "C=int(input(\"C=\"))\n",
    "Sab=A*B\n",
    "Sc=C*C\n",
    "Soni=Sab//Sc\n",
    "Sq=Sab%Sc\n",
    "print(Soni, \"joylashadi va\", Sq, \"qoladi\")"
   ]
  },
  {
   "cell_type": "code",
   "execution_count": 10,
   "id": "51b3a5dd",
   "metadata": {},
   "outputs": [
    {
     "name": "stdout",
     "output_type": "stream",
     "text": [
      "yil=2022\n",
      "21\n"
     ]
    }
   ],
   "source": [
    "#integer 30\n",
    "yil=int(input(\"yil=\"))\n",
    "yillik=yil//100\n",
    "print(yillik+1)"
   ]
  },
  {
   "cell_type": "code",
   "execution_count": 19,
   "id": "f172ef6f",
   "metadata": {},
   "outputs": [
    {
     "name": "stdout",
     "output_type": "stream",
     "text": [
      "N=23456789876543\n",
      "99094077395 yil 11 Oy 8 Kun 13 Soat 42 minut 23 sekund bor\n"
     ]
    }
   ],
   "source": [
    "N=int(input(\"N=\"))\n",
    "Yil=N//86400*365\n",
    "Oy=N%(86400*365)//(86400*30)\n",
    "Kun=N%(86400*365)%(86400*30)//86400\n",
    "Soat=N%(86400*365)%(86400*30)%86400//3600\n",
    "Min=N%(86400*365)%(86400*30)%86400%3600//60\n",
    "Sek=N%(86400*365)%(86400*30)%86400%3600%60\n",
    "print(Yil,\"yil\", Oy, \"Oy\", Kun, \"Kun\", Soat,\"Soat\", Min, \"minut\", Sek, \"sekund bor\")"
   ]
  },
  {
   "cell_type": "code",
   "execution_count": 1,
   "id": "37c2f36f",
   "metadata": {},
   "outputs": [
    {
     "name": "stdout",
     "output_type": "stream",
     "text": [
      "N=350000000\n",
      "11 yil 1 Oy 0 Kun 22 Soat 13 minut 20 sekund bor\n"
     ]
    }
   ],
   "source": [
    "N=int(input(\"N=\"))\n",
    "Yil=N//(86400*365)\n",
    "Oy=N%(86400*365)//(86400*30)\n",
    "Kun=N%(86400*30)//86400\n",
    "Soat=N%86400//3600\n",
    "Min=N%3600//60\n",
    "Sek=N%60\n",
    "print(Yil,\"yil\", Oy, \"Oy\", Kun, \"Kun\", Soat,\"Soat\", Min, \"minut\", Sek, \"sekund bor\")"
   ]
  },
  {
   "cell_type": "code",
   "execution_count": 3,
   "id": "a9e4d9f0",
   "metadata": {},
   "outputs": [
    {
     "name": "stdout",
     "output_type": "stream",
     "text": [
      "a=5\n",
      "b=6\n",
      "a= 6\n",
      "b= 5\n"
     ]
    }
   ],
   "source": [
    "a=int(input(\"a=\"))\n",
    "b=int(input(\"b=\"))\n",
    "a=a+b\n",
    "b=a-b\n",
    "a=a-b\n",
    "print(\"a=\",a)\n",
    "print(\"b=\",b)"
   ]
  },
  {
   "cell_type": "code",
   "execution_count": null,
   "id": "957a51a5",
   "metadata": {},
   "outputs": [],
   "source": [
    "\n"
   ]
  }
 ],
 "metadata": {
  "kernelspec": {
   "display_name": "Python 3 (ipykernel)",
   "language": "python",
   "name": "python3"
  },
  "language_info": {
   "codemirror_mode": {
    "name": "ipython",
    "version": 3
   },
   "file_extension": ".py",
   "mimetype": "text/x-python",
   "name": "python",
   "nbconvert_exporter": "python",
   "pygments_lexer": "ipython3",
   "version": "3.9.7"
  }
 },
 "nbformat": 4,
 "nbformat_minor": 5
}
