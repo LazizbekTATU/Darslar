{
 "cells": [
  {
   "cell_type": "code",
   "execution_count": 5,
   "id": "18a0b9f6",
   "metadata": {},
   "outputs": [
    {
     "name": "stdout",
     "output_type": "stream",
     "text": [
      "a=5\n",
      "Kvadratning tomoni 20 ga teng\n"
     ]
    }
   ],
   "source": [
    "#begin 1\n",
    "a = int(input(\"a=\"))\n",
    "\n",
    "P = 4*a\n",
    "\n",
    "print(\"Kvadratning tomoni\", P, \"ga teng\")"
   ]
  },
  {
   "cell_type": "code",
   "execution_count": 6,
   "id": "d1d063a9",
   "metadata": {},
   "outputs": [
    {
     "name": "stdout",
     "output_type": "stream",
     "text": [
      "a=7\n",
      "Kvadratning yuzi 49 ga teng\n"
     ]
    }
   ],
   "source": [
    "#begin 2\n",
    "a = int(input(\"a=\"))\n",
    "\n",
    "S = a*a\n",
    "\n",
    "print(\"Kvadratning yuzi\", S, \"ga teng\")"
   ]
  },
  {
   "cell_type": "code",
   "execution_count": 7,
   "id": "ef7f4967",
   "metadata": {},
   "outputs": [
    {
     "name": "stdout",
     "output_type": "stream",
     "text": [
      "a=5\n",
      "b=6\n",
      "kvadratning peremetri 20 ga teng yuzi esa 25 ga teng\n"
     ]
    }
   ],
   "source": [
    "#begin 3\n",
    "a = int(input(\"a=\"))\n",
    "b = int(input(\"b=\"))\n",
    "\n",
    "p = 4*a\n",
    "s = a**2\n",
    "\n",
    "print(\"kvadratning peremetri\", p, \"ga teng\",\n",
    "     \"yuzi esa\", s, \"ga teng\")"
   ]
  },
  {
   "cell_type": "code",
   "execution_count": 8,
   "id": "1220e67b",
   "metadata": {},
   "outputs": [
    {
     "name": "stdout",
     "output_type": "stream",
     "text": [
      "d=6\n",
      "18.84\n"
     ]
    }
   ],
   "source": [
    "#begin 4\n",
    "d = int(input(\"d=\"))\n",
    "pi = 3.14\n",
    "\n",
    "L = pi*d\n",
    "\n",
    "print(L)\n"
   ]
  },
  {
   "cell_type": "code",
   "execution_count": 9,
   "id": "0db0164e",
   "metadata": {},
   "outputs": [
    {
     "name": "stdout",
     "output_type": "stream",
     "text": [
      "a=4\n",
      "kubning hajmi 64 ga teng, uning yuzasi esa 96 ga teng\n"
     ]
    }
   ],
   "source": [
    "#begin 5\n",
    "a=int(input(\"a=\"))\n",
    "v=a**3\n",
    "s=6*a**2\n",
    "print(\"kubning hajmi\",v,\"ga teng, uning yuzasi esa\", s, \"ga teng\")"
   ]
  },
  {
   "cell_type": "code",
   "execution_count": 11,
   "id": "3d586693",
   "metadata": {},
   "outputs": [
    {
     "name": "stdout",
     "output_type": "stream",
     "text": [
      "a=2\n",
      "b=2\n",
      "c=2\n",
      "parallipedning hajmi 8 ga teng, uning yuzasi esa 24 ga teng\n"
     ]
    }
   ],
   "source": [
    "#begin 6\n",
    "a = int(input(\"a=\"))\n",
    "b = int(input(\"b=\"))\n",
    "c = int(input(\"c=\"))\n",
    "\n",
    "v = a*b*c\n",
    "s = 2*(a*b+b*c+a*c)\n",
    "\n",
    "print(\"parallipedning hajmi\", v, \"ga teng, uning yuzasi esa\", s, \"ga teng\")"
   ]
  },
  {
   "cell_type": "code",
   "execution_count": 15,
   "id": "5e3684d9",
   "metadata": {},
   "outputs": [
    {
     "name": "stdout",
     "output_type": "stream",
     "text": [
      "R=4\n",
      "doiraning uzunligi 25.12 ga teng, uning yuzi esa 50.24 ga teng\n"
     ]
    }
   ],
   "source": [
    "#begin 7\n",
    "R = int(input(\"R=\"))\n",
    "\n",
    "l = 2*pi*R\n",
    "s = pi*R**2\n",
    "\n",
    "print(\"doiraning uzunligi\", l, \"ga teng, uning yuzi esa\", s, \"ga teng\")"
   ]
  },
  {
   "cell_type": "code",
   "execution_count": 16,
   "id": "238c1d98",
   "metadata": {},
   "outputs": [
    {
     "name": "stdout",
     "output_type": "stream",
     "text": [
      "a=4\n",
      "b=8\n",
      "ikki sonning o'rta arifmetigi 6.0 ga teng\n"
     ]
    }
   ],
   "source": [
    "#begin 8\n",
    "a = int(input(\"a=\"))\n",
    "b = int(input(\"b=\"))\n",
    "\n",
    "A = (a+b)/2\n",
    "\n",
    "print(\"ikki sonning o'rta arifmetigi\", A, \"ga teng\")"
   ]
  },
  {
   "cell_type": "code",
   "execution_count": 18,
   "id": "2ac409d9",
   "metadata": {},
   "outputs": [
    {
     "name": "stdout",
     "output_type": "stream",
     "text": [
      "a=8\n",
      "b=2\n",
      "ikki sonning o'rta geometrigi 4.0 ga teng\n"
     ]
    }
   ],
   "source": [
    "#begin 9\n",
    "a = int(input(\"a=\"))\n",
    "b = int(input(\"b=\"))\n",
    "\n",
    "G = (a*b)**(1/2)\n",
    "\n",
    "print(\"ikki sonning o'rta geometrigi\", G, \"ga teng\")"
   ]
  },
  {
   "cell_type": "code",
   "execution_count": 19,
   "id": "5ee946b6",
   "metadata": {},
   "outputs": [
    {
     "name": "stdout",
     "output_type": "stream",
     "text": [
      "a=2\n",
      "b=3\n",
      "ko'paytmasi 6 ga teng, yigindisi 5 ga teng, a sonning kvadrati 4 ga teng, b sonning kvadrati esa  9 ga teng\n"
     ]
    }
   ],
   "source": [
    "#begin 10\n",
    "a = int(input(\"a=\"))\n",
    "b = int(input(\"b=\"))\n",
    "\n",
    "yig = a+b\n",
    "kop = a*b\n",
    "a_kv = a**2\n",
    "b_kv = b*b\n",
    "\n",
    "print(\"ko'paytmasi\",kop, \"ga teng, yigindisi\", yig, \"ga teng, a sonning kvadrati\", a_kv, \"ga teng, b sonning\" ,\n",
    "      \"kvadrati esa \", b_kv, \"ga teng\")"
   ]
  },
  {
   "cell_type": "code",
   "execution_count": 20,
   "id": "509b6687",
   "metadata": {},
   "outputs": [
    {
     "name": "stdout",
     "output_type": "stream",
     "text": [
      "a=-12\n",
      "b=11\n",
      "yigindisi -1.0 ga teng, ko'paytmasi esa -132.0 ga teng, a soning moduli 12.0 ga teng b soning moduli esa 11.0 ga teng\n"
     ]
    }
   ],
   "source": [
    "#begin 11\n",
    "a=float(input(\"a=\"))\n",
    "b=float(input(\"b=\"))\n",
    "yig=a+b\n",
    "kop=a*b\n",
    "a_m=abs(a)\n",
    "b_m=abs(b)\n",
    "print(\"yigindisi\", yig, \"ga teng, ko'paytmasi esa\", kop, \"ga teng, a soning moduli\", a_m, \"ga teng\",\n",
    "      \"b soning moduli esa\", b_m, \"ga teng\")"
   ]
  },
  {
   "cell_type": "code",
   "execution_count": 21,
   "id": "0db003e5",
   "metadata": {},
   "outputs": [
    {
     "name": "stdout",
     "output_type": "stream",
     "text": [
      "a=3\n",
      "b=4\n",
      "to'g'ri uchburchakning gipotenuzasi 5.0 ga teng, Peremetri esa 12.0 ga teng\n"
     ]
    }
   ],
   "source": [
    "#begin 12\n",
    "a=int(input(\"a=\"))\n",
    "b=int(input(\"b=\"))\n",
    "c=(a**2+b**2)**(1/2)\n",
    "P=a+b+c\n",
    "print(\"to'g'ri uchburchakning gipotenuzasi\", c, \"ga teng, Peremetri esa\", P, \"ga teng\")"
   ]
  },
  {
   "cell_type": "code",
   "execution_count": 25,
   "id": "4004d271",
   "metadata": {},
   "outputs": [
    {
     "name": "stdout",
     "output_type": "stream",
     "text": [
      "R1=2\n",
      "R2=1\n",
      "9.42\n"
     ]
    }
   ],
   "source": [
    "#begin 13\n",
    "R1=int(input(\"R1=\"))\n",
    "R2=int(input(\"R2=\"))\n",
    "S1=pi*R1**2\n",
    "S2=pi*R2**2\n",
    "S3=S1-S2\n",
    "print(S3)"
   ]
  },
  {
   "cell_type": "code",
   "execution_count": 27,
   "id": "bc83eb49",
   "metadata": {},
   "outputs": [
    {
     "name": "stdout",
     "output_type": "stream",
     "text": [
      "L=6\n",
      "Radiusi 9.42 ga teng, yuzasi esa 278.632296 ga teng\n"
     ]
    }
   ],
   "source": [
    "#begin 14\n",
    "L=int(input(\"L=\"))\n",
    "r=L/2*pi\n",
    "S=pi*r**2\n",
    "print(\"Radiusi\", r, \"ga teng, yuzasi esa\", S, \"ga teng\")"
   ]
  },
  {
   "cell_type": "code",
   "execution_count": 34,
   "id": "c5044c93",
   "metadata": {},
   "outputs": [
    {
     "name": "stdout",
     "output_type": "stream",
     "text": [
      "S=3.14\n",
      "Aylananing diametri 2.0 ga teng, radiusi esa 1.0 ga teng\n"
     ]
    }
   ],
   "source": [
    "#begin 15\n",
    "S=float(input(\"S=\"))\n",
    "pi=3.14\n",
    "r=(S/pi)**(1/2)\n",
    "d=2*r\n",
    "print(\"Aylananing diametri\", d, \"ga teng, radiusi esa\", r, \"ga teng\")"
   ]
  },
  {
   "cell_type": "code",
   "execution_count": 35,
   "id": "6eaf5cca",
   "metadata": {},
   "outputs": [
    {
     "name": "stdout",
     "output_type": "stream",
     "text": [
      "x1=3\n",
      "x2=6\n",
      "3\n"
     ]
    }
   ],
   "source": [
    "#begin 16\n",
    "x1=int(input(\"x1=\"))\n",
    "x2=int(input(\"x2=\"))\n",
    "mas=abs(x1-x2)\n",
    "print(mas)"
   ]
  },
  {
   "cell_type": "code",
   "execution_count": 1,
   "id": "50fb1be2",
   "metadata": {},
   "outputs": [
    {
     "name": "stdout",
     "output_type": "stream",
     "text": [
      "A=9\n",
      "B=12\n",
      "C=15\n",
      "9\n"
     ]
    }
   ],
   "source": [
    "#begin 17 \n",
    "A=int(input(\"A=\"))\n",
    "B=int(input(\"B=\"))\n",
    "C=int(input(\"C=\"))\n",
    "AC=abs(A-C)\n",
    "BC=abs(B-C)\n",
    "yig=AC+BC\n",
    "print(yig)"
   ]
  },
  {
   "cell_type": "code",
   "execution_count": 2,
   "id": "df1a73d0",
   "metadata": {},
   "outputs": [
    {
     "name": "stdout",
     "output_type": "stream",
     "text": [
      "A=3\n",
      "B=8\n",
      "C=5\n",
      "6\n"
     ]
    }
   ],
   "source": [
    "#begin 18\n",
    "A=int(input(\"A=\"))\n",
    "B=int(input(\"B=\"))\n",
    "C=int(input(\"C=\"))\n",
    "AC=abs(A-C)\n",
    "BC=abs(B-C)\n",
    "kop=AC*BC\n",
    "print(kop)"
   ]
  },
  {
   "cell_type": "code",
   "execution_count": 3,
   "id": "f991e0b4",
   "metadata": {},
   "outputs": [
    {
     "name": "stdout",
     "output_type": "stream",
     "text": [
      "x1=3\n",
      "x2=7\n",
      "y1=2\n",
      "y2=6\n",
      "To'g'ri to'rtburchakning peremetri 16 ga teng va uning yuzi 16 ga teng\n"
     ]
    }
   ],
   "source": [
    "#begin 19\n",
    "x1=int(input(\"x1=\"))\n",
    "x2=int(input(\"x2=\"))\n",
    "y1=int(input(\"y1=\"))\n",
    "y2=int(input(\"y2=\"))\n",
    "a=abs(y1-y2)\n",
    "b=abs(x1-x2)\n",
    "P=2*(a+b)\n",
    "S=a*b\n",
    "print(\"To'g'ri to'rtburchakning peremetri\", P, \"ga teng va uning yuzi\", S, \"ga teng\")"
   ]
  },
  {
   "cell_type": "code",
   "execution_count": 7,
   "id": "49df5a21",
   "metadata": {},
   "outputs": [
    {
     "name": "stdout",
     "output_type": "stream",
     "text": [
      "x1=3\n",
      "x2=5\n",
      "y1=6\n",
      "y2=8\n",
      "2.8284271247461903\n"
     ]
    }
   ],
   "source": [
    "#begin 20\n",
    "x1=int(input(\"x1=\"))\n",
    "x2=int(input(\"x2=\"))\n",
    "y1=int(input(\"y1=\"))\n",
    "y2=int(input(\"y2=\"))\n",
    "C=((x2-x1)**2+(y2-y1)**2)**(1/2)\n",
    "print(C)"
   ]
  },
  {
   "cell_type": "code",
   "execution_count": 9,
   "id": "09b3ac8f",
   "metadata": {},
   "outputs": [
    {
     "name": "stdout",
     "output_type": "stream",
     "text": [
      "x1=3\n",
      "x2=5\n",
      "x3=8\n",
      "y1=1\n",
      "y2=5\n",
      "y3=9\n",
      "1.9999999999999756\n"
     ]
    }
   ],
   "source": [
    "#begin 21\n",
    "x1=int(input(\"x1=\"))\n",
    "x2=int(input(\"x2=\"))\n",
    "x3=int(input(\"x3=\"))\n",
    "y1=int(input(\"y1=\"))\n",
    "y2=int(input(\"y2=\"))\n",
    "y3=int(input(\"y3=\"))\n",
    "a=((x2-x1)**2+(y2-y1)**2)**(1/2)\n",
    "b=((x3-x2)**2+(y3-y2)**2)**(1/2)\n",
    "c=((x3-x1)**2+(y3-y1)**2)**(1/2)\n",
    "p=(a+b+c)/2\n",
    "S=(p*(p-a)*(p-b)*(p-c))**(1/2)\n",
    "print(S)"
   ]
  },
  {
   "cell_type": "code",
   "execution_count": 10,
   "id": "60761fb5",
   "metadata": {},
   "outputs": [
    {
     "name": "stdout",
     "output_type": "stream",
     "text": [
      "A=3\n",
      "B=4\n",
      "4\n",
      "3\n"
     ]
    }
   ],
   "source": [
    "#begin 22\n",
    "A=int(input(\"A=\"))\n",
    "B=int(input(\"B=\"))\n",
    "c=A+B\n",
    "print(c-A)\n",
    "print(c-B)"
   ]
  },
  {
   "cell_type": "code",
   "execution_count": 1,
   "id": "809f8f42",
   "metadata": {},
   "outputs": [
    {
     "name": "stdout",
     "output_type": "stream",
     "text": [
      "A=4\n",
      "B=5\n",
      "5\n",
      "4\n"
     ]
    }
   ],
   "source": [
    "#begin 22.1\n",
    "A=int(input(\"A=\"))\n",
    "B=int(input(\"B=\"))\n",
    "\n",
    "A=A+B\n",
    "B=A-B\n",
    "A=A-B\n",
    "\n",
    "print(A)\n",
    "print(B)"
   ]
  },
  {
   "cell_type": "code",
   "execution_count": 2,
   "id": "9c2ee2ac",
   "metadata": {},
   "outputs": [
    {
     "name": "stdout",
     "output_type": "stream",
     "text": [
      "A=3\n",
      "B=4\n",
      "4\n",
      "3\n"
     ]
    }
   ],
   "source": [
    "#begin 22.2\n",
    "A=int(input(\"A=\"))\n",
    "B=int(input(\"B=\"))\n",
    "\n",
    "print(B)\n",
    "print(A)"
   ]
  },
  {
   "cell_type": "code",
   "execution_count": 15,
   "id": "64e032f6",
   "metadata": {},
   "outputs": [
    {
     "name": "stdout",
     "output_type": "stream",
     "text": [
      "A=2\n",
      "B=3\n",
      "C=4\n",
      "4 2 3\n"
     ]
    }
   ],
   "source": [
    "#begin 23\n",
    "A=int(input(\"A=\"))\n",
    "B=int(input(\"B=\"))\n",
    "C=int(input(\"C=\"))\n",
    "g=A+B+C\n",
    "A=g-A-B\n",
    "B=g-B-A\n",
    "C=g-B-A\n",
    "print(A,B,C)"
   ]
  },
  {
   "cell_type": "code",
   "execution_count": 4,
   "id": "4bb48a0b",
   "metadata": {},
   "outputs": [
    {
     "name": "stdout",
     "output_type": "stream",
     "text": [
      "a=2\n",
      "b=3\n",
      "c=4\n",
      "3 4 2\n"
     ]
    }
   ],
   "source": [
    "#begin 23\n",
    "a=int(input(\"a=\"))\n",
    "b=int(input(\"b=\"))\n",
    "c=int(input(\"c=\"))\n",
    "g=a\n",
    "a=b\n",
    "b=c\n",
    "c=g\n",
    "print(a,b,c)"
   ]
  },
  {
   "cell_type": "code",
   "execution_count": null,
   "id": "d156fedc",
   "metadata": {},
   "outputs": [],
   "source": []
  },
  {
   "cell_type": "code",
   "execution_count": 31,
   "id": "ed4bcd35",
   "metadata": {},
   "outputs": [
    {
     "name": "stdout",
     "output_type": "stream",
     "text": [
      "A=2\n",
      "B=3\n",
      "C=4\n",
      "3 3 2\n"
     ]
    }
   ],
   "source": [
    "#begin 24\n",
    "A=int(input(\"A=\"))\n",
    "B=int(input(\"B=\"))\n",
    "C=int(input(\"C=\"))\n",
    "g=A+B+C\n",
    "A=g-A-C\n",
    "B=g-B-B\n",
    "C=g-A-C\n",
    "print(A,B,C)"
   ]
  },
  {
   "cell_type": "code",
   "execution_count": 32,
   "id": "1e61e30b",
   "metadata": {},
   "outputs": [
    {
     "name": "stdout",
     "output_type": "stream",
     "text": [
      "x=4\n",
      "12185\n"
     ]
    }
   ],
   "source": [
    "#begin 25\n",
    "x=int(input(\"x=\"))\n",
    "y=3*x**6-6*x**2-7\n",
    "print(y)"
   ]
  },
  {
   "cell_type": "code",
   "execution_count": 33,
   "id": "1c911cfd",
   "metadata": {},
   "outputs": [
    {
     "name": "stdout",
     "output_type": "stream",
     "text": [
      "x=3\n",
      "2\n"
     ]
    }
   ],
   "source": [
    "#begin 26\n",
    "x=int(input(\"x=\"))\n",
    "y=4*(x-3)**6-7*(x-3)**3+2\n",
    "print(y)"
   ]
  },
  {
   "cell_type": "code",
   "execution_count": 34,
   "id": "aec4f58a",
   "metadata": {},
   "outputs": [
    {
     "name": "stdout",
     "output_type": "stream",
     "text": [
      "A=2\n",
      "4 16 256\n"
     ]
    }
   ],
   "source": [
    "#begin 27\n",
    "A=int(input(\"A=\"))\n",
    "print(A**2, A**4, A**8)"
   ]
  },
  {
   "cell_type": "code",
   "execution_count": 35,
   "id": "6aa5712f",
   "metadata": {},
   "outputs": [
    {
     "name": "stdout",
     "output_type": "stream",
     "text": [
      "A=2\n",
      "4 8 32 1024 32768\n"
     ]
    }
   ],
   "source": [
    "#begin 28\n",
    "A=int(input(\"A=\"))\n",
    "print(A**2, A**3, A**5, A**10, A**15)\n"
   ]
  },
  {
   "cell_type": "code",
   "execution_count": 37,
   "id": "74da185c",
   "metadata": {},
   "outputs": [
    {
     "name": "stdout",
     "output_type": "stream",
     "text": [
      "a=60\n",
      "1.0466666666666669\n"
     ]
    }
   ],
   "source": [
    "#begin 29\n",
    "a=int(input(\"a=\"))\n",
    "pi=3.14\n",
    "rad=pi/180*a\n",
    "print(rad)"
   ]
  },
  {
   "cell_type": "code",
   "execution_count": 40,
   "id": "ed359232",
   "metadata": {},
   "outputs": [
    {
     "name": "stdout",
     "output_type": "stream",
     "text": [
      "rad=5.71\n",
      "327.3248407643312\n"
     ]
    }
   ],
   "source": [
    "#begin 30 \n",
    "rad=float(input(\"rad=\"))\n",
    "gra=180/pi*rad\n",
    "print(gra)"
   ]
  },
  {
   "cell_type": "code",
   "execution_count": 41,
   "id": "0337b81a",
   "metadata": {},
   "outputs": [
    {
     "name": "stdout",
     "output_type": "stream",
     "text": [
      "Tf=345\n",
      "173.88888888888889\n"
     ]
    }
   ],
   "source": [
    "#begin 31\n",
    "Tf=float(input(\"Tf=\"))\n",
    "Tc=(Tf-32)*5/9\n",
    "print(Tc)"
   ]
  },
  {
   "cell_type": "code",
   "execution_count": 43,
   "id": "6c7f8363",
   "metadata": {},
   "outputs": [
    {
     "name": "stdout",
     "output_type": "stream",
     "text": [
      "Tf=2345\n",
      "1285.0\n"
     ]
    }
   ],
   "source": [
    "#begin 32\n",
    "Tf=float(input(\"Tf=\"))\n",
    "Tc=(Tf-32)*5/9\n",
    "print(Tc)"
   ]
  },
  {
   "cell_type": "code",
   "execution_count": 49,
   "id": "c56701b5",
   "metadata": {},
   "outputs": [
    {
     "name": "stdout",
     "output_type": "stream",
     "text": [
      "x_kg=5\n",
      "A_som=5000\n",
      "y_kg=3\n",
      "1000.0 3000.0\n"
     ]
    }
   ],
   "source": [
    "#begin 33\n",
    "x_kg=int(input(\"x_kg=\"))\n",
    "A_som=int(input(\"A_som=\"))\n",
    "y_kg=int(input(\"y_kg=\"))\n",
    "kg1_som=A_som/x_kg\n",
    "B_som=kg1_som*y_kg\n",
    "print(kg1_som,  B_som)"
   ]
  },
  {
   "cell_type": "code",
   "execution_count": 50,
   "id": "a5ea4f86",
   "metadata": {},
   "outputs": [
    {
     "name": "stdout",
     "output_type": "stream",
     "text": [
      "x_kg=4\n",
      "A_som=5000\n",
      "y_kg=3\n",
      "B_som=4500\n",
      "250.0\n"
     ]
    }
   ],
   "source": [
    "#begin 34\n",
    "x_kg=int(input(\"x_kg=\"))\n",
    "A_som=int(input(\"A_som=\"))\n",
    "y_kg=int(input(\"y_kg=\"))\n",
    "B_som=int(input(\"B_som=\"))\n",
    "shok1=A_som/x_kg\n",
    "kon1=B_som/y_kg\n",
    "farq=abs(shok1-kon1)\n",
    "print(farq)"
   ]
  },
  {
   "cell_type": "code",
   "execution_count": 52,
   "id": "9c409704",
   "metadata": {},
   "outputs": [
    {
     "name": "stdout",
     "output_type": "stream",
     "text": [
      "Vq=5\n",
      "Vo3\n",
      "T1=6\n",
      "T2=4\n",
      "56\n"
     ]
    }
   ],
   "source": [
    "#begin 35\n",
    "Vq=int(input(\"Vq=\"))\n",
    "Vo=int(input(\"Vo\"))\n",
    "T1=int(input(\"T1=\"))\n",
    "T2=int(input(\"T2=\"))\n",
    "S=(Vq+Vo)*T1+(Vq-Vo)*T2\n",
    "print(S)"
   ]
  },
  {
   "cell_type": "code",
   "execution_count": 53,
   "id": "2edd45c6",
   "metadata": {},
   "outputs": [
    {
     "name": "stdout",
     "output_type": "stream",
     "text": [
      "Va1=30\n",
      "Va2=40\n",
      "T=60\n",
      "4200\n"
     ]
    }
   ],
   "source": [
    "#begin 36\n",
    "Va1=int(input(\"Va1=\"))\n",
    "Va2=int(input(\"Va2=\"))\n",
    "T=int(input(\"T=\"))\n",
    "S=(Va1+Va2)*T\n",
    "print(S)\n",
    "    "
   ]
  },
  {
   "cell_type": "code",
   "execution_count": 55,
   "id": "3566729a",
   "metadata": {},
   "outputs": [
    {
     "name": "stdout",
     "output_type": "stream",
     "text": [
      "Va1=30\n",
      "Va2=40\n",
      "T=23\n",
      "230\n"
     ]
    }
   ],
   "source": [
    "#begin 37\n",
    "Va1=int(input(\"Va1=\"))\n",
    "Va2=int(input(\"Va2=\"))\n",
    "T=int(input(\"T=\"))\n",
    "S=abs((Va1-Va2))*T\n",
    "print(S)\n",
    "    "
   ]
  },
  {
   "cell_type": "code",
   "execution_count": 57,
   "id": "9a925f36",
   "metadata": {},
   "outputs": [
    {
     "name": "stdout",
     "output_type": "stream",
     "text": [
      "A=23\n",
      "B=-34\n",
      "1.4782608695652173\n"
     ]
    }
   ],
   "source": [
    "#begin 38\n",
    "A=int(input(\"A=\"))\n",
    "B=int(input(\"B=\"))\n",
    "x=-B/A\n",
    "print(x)"
   ]
  },
  {
   "cell_type": "code",
   "execution_count": 60,
   "id": "1c74db93",
   "metadata": {},
   "outputs": [
    {
     "name": "stdout",
     "output_type": "stream",
     "text": [
      "A=1\n",
      "B=6\n",
      "C=8\n",
      "-4.0 -2.0\n"
     ]
    }
   ],
   "source": [
    "#begin 39\n",
    "A=int(input(\"A=\"))\n",
    "B=int(input(\"B=\"))\n",
    "C=int(input(\"C=\"))\n",
    "D=B**2-4*A*C\n",
    "x1=(-B-(D)**(1/2))/2*A\n",
    "x2=(-B+(D)**(1/2))/2*A\n",
    "print(x1, x2)"
   ]
  },
  {
   "cell_type": "code",
   "execution_count": 61,
   "id": "c7d4f836",
   "metadata": {},
   "outputs": [
    {
     "name": "stdout",
     "output_type": "stream",
     "text": [
      "A1=2\n",
      "B1=3\n",
      "C1=4\n",
      "A2=5\n",
      "B2=6\n",
      "C2=7\n",
      "-4.666666666666667 2.0\n"
     ]
    }
   ],
   "source": [
    "#begin 40\n",
    "A1=int(input(\"A1=\"))\n",
    "B1=int(input(\"B1=\"))\n",
    "C1=int(input(\"C1=\"))\n",
    "A2=int(input(\"A2=\"))\n",
    "B2=int(input(\"B2=\"))\n",
    "C2=int(input(\"C2=\"))\n",
    "D=(A1*B2-A2*B1)\n",
    "x=(C1*B2-C2-B1)/D\n",
    "y=(A1*C2-A2*C1)/D\n",
    "print(x , y)"
   ]
  },
  {
   "cell_type": "code",
   "execution_count": null,
   "id": "9bd70d2b",
   "metadata": {},
   "outputs": [],
   "source": []
  }
 ],
 "metadata": {
  "kernelspec": {
   "display_name": "Python 3 (ipykernel)",
   "language": "python",
   "name": "python3"
  },
  "language_info": {
   "codemirror_mode": {
    "name": "ipython",
    "version": 3
   },
   "file_extension": ".py",
   "mimetype": "text/x-python",
   "name": "python",
   "nbconvert_exporter": "python",
   "pygments_lexer": "ipython3",
   "version": "3.9.7"
  }
 },
 "nbformat": 4,
 "nbformat_minor": 5
}
