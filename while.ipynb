{
 "cells": [
  {
   "cell_type": "code",
   "execution_count": null,
   "id": "adc9f302",
   "metadata": {},
   "outputs": [],
   "source": [
    "#1 A va B butun musbat sonlari berilgan (A>B). A uzunlikdagi kesmada maksimal darajada B kesma joylashtirilgan. \n",
    "#A kesmaning bo'sh qismini aniqlovchi programma tuzilsin. Ko'paytirish va bo'lish amallarini ishlatmang\n",
    "\n",
    "A = int(input(\"A = \"))\n",
    "B = int(input(\"B = \"))\n",
    "\n",
    "while A>B:\n",
    "    print(A%B)\n",
    "    "
   ]
  },
  {
   "cell_type": "code",
   "execution_count": null,
   "id": "ad8ca8a7",
   "metadata": {},
   "outputs": [],
   "source": [
    "#2 while\n",
    "\n",
    "A = int(input(\"A = \"))\n",
    "B = int(input(\"B = \"))\n",
    "\n"
   ]
  },
  {
   "cell_type": "code",
   "execution_count": 1,
   "id": "0dec69c4",
   "metadata": {},
   "outputs": [
    {
     "name": "stdout",
     "output_type": "stream",
     "text": [
      "N = 4\n",
      "K = 3\n",
      "1 butun 1 qoldiq\n"
     ]
    }
   ],
   "source": [
    "#3 while\n",
    "\n",
    "N = int(input(\"N = \"))\n",
    "K = int(input(\"K = \"))\n",
    "\n",
    "S = 0\n",
    "\n",
    "while N>=K:\n",
    "    N-=K\n",
    "    S+=1\n",
    "print(S, \"butun\",N,\"qoldiq\" )"
   ]
  },
  {
   "cell_type": "code",
   "execution_count": 4,
   "id": "bbcb81a5",
   "metadata": {},
   "outputs": [
    {
     "name": "stdout",
     "output_type": "stream",
     "text": [
      "n = 90\n",
      "3 ga karrali\n"
     ]
    }
   ],
   "source": [
    "#4 daraja emas ko'paytma, 3 ga karralimi karrali emasmi topish kk\n",
    "\n",
    "n = int(input(\"n = \"))\n",
    "\n",
    "while n>0:\n",
    "    n-=3\n",
    "if n == 0:\n",
    "    print(\"3 ga karrali\")\n",
    "else:\n",
    "    print(\"karrali emas\")\n",
    "    "
   ]
  },
  {
   "cell_type": "code",
   "execution_count": 17,
   "id": "9a73b67f",
   "metadata": {},
   "outputs": [
    {
     "name": "stdout",
     "output_type": "stream",
     "text": [
      "n = 64\n",
      "6\n"
     ]
    },
    {
     "ename": "KeyboardInterrupt",
     "evalue": "",
     "output_type": "error",
     "traceback": [
      "\u001b[0;31m---------------------------------------------------------------------------\u001b[0m",
      "\u001b[0;31mKeyboardInterrupt\u001b[0m                         Traceback (most recent call last)",
      "\u001b[0;32m/var/folders/nx/h_hhzqx53bbcjldfl_ksywvr0000gn/T/ipykernel_969/1266006906.py\u001b[0m in \u001b[0;36m<module>\u001b[0;34m\u001b[0m\n\u001b[1;32m      7\u001b[0m \u001b[0;34m\u001b[0m\u001b[0m\n\u001b[1;32m      8\u001b[0m \u001b[0;32mwhile\u001b[0m \u001b[0mn\u001b[0m\u001b[0;34m>\u001b[0m\u001b[0;36m0\u001b[0m\u001b[0;34m:\u001b[0m\u001b[0;34m\u001b[0m\u001b[0;34m\u001b[0m\u001b[0m\n\u001b[0;32m----> 9\u001b[0;31m     \u001b[0mp\u001b[0m \u001b[0;34m*=\u001b[0m \u001b[0;36m2\u001b[0m\u001b[0;34m\u001b[0m\u001b[0;34m\u001b[0m\u001b[0m\n\u001b[0m\u001b[1;32m     10\u001b[0m     \u001b[0ms\u001b[0m\u001b[0;34m+=\u001b[0m\u001b[0;36m1\u001b[0m\u001b[0;34m\u001b[0m\u001b[0;34m\u001b[0m\u001b[0m\n\u001b[1;32m     11\u001b[0m \u001b[0;34m\u001b[0m\u001b[0m\n",
      "\u001b[0;31mKeyboardInterrupt\u001b[0m: "
     ]
    }
   ],
   "source": [
    "# while 5\n",
    "\n",
    "n = int(input(\"n = \"))\n",
    "\n",
    "p = 2\n",
    "s = 1\n",
    "\n",
    "while n>0:\n",
    "    p *= 2\n",
    "    s+=1\n",
    "    \n",
    "    if p==n:\n",
    "        print(s)\n",
    "    \n",
    "    \n",
    "    "
   ]
  },
  {
   "cell_type": "code",
   "execution_count": 14,
   "id": "8c47c9bc",
   "metadata": {},
   "outputs": [
    {
     "name": "stdout",
     "output_type": "stream",
     "text": [
      "n = 6\n",
      "48\n"
     ]
    }
   ],
   "source": [
    "# while 6 \n",
    "\n",
    "n = int(input(\"n = \"))\n",
    "\n",
    "fak = 1\n",
    "\n",
    "while n>1:\n",
    "    fak*=n\n",
    "    n-=2\n",
    "print(fak)"
   ]
  },
  {
   "cell_type": "code",
   "execution_count": 16,
   "id": "3958e2c7",
   "metadata": {},
   "outputs": [
    {
     "name": "stdout",
     "output_type": "stream",
     "text": [
      "n = 4\n"
     ]
    },
    {
     "ename": "NameError",
     "evalue": "name 'k' is not defined",
     "output_type": "error",
     "traceback": [
      "\u001b[0;31m---------------------------------------------------------------------------\u001b[0m",
      "\u001b[0;31mNameError\u001b[0m                                 Traceback (most recent call last)",
      "\u001b[0;32m/var/folders/nx/h_hhzqx53bbcjldfl_ksywvr0000gn/T/ipykernel_969/4138122929.py\u001b[0m in \u001b[0;36m<module>\u001b[0;34m\u001b[0m\n\u001b[1;32m      6\u001b[0m     \u001b[0mn\u001b[0m\u001b[0;34m*=\u001b[0m\u001b[0mn\u001b[0m\u001b[0;34m\u001b[0m\u001b[0;34m\u001b[0m\u001b[0m\n\u001b[1;32m      7\u001b[0m \u001b[0;34m\u001b[0m\u001b[0m\n\u001b[0;32m----> 8\u001b[0;31m     \u001b[0;32mif\u001b[0m \u001b[0mn\u001b[0m\u001b[0;34m*\u001b[0m\u001b[0mn\u001b[0m \u001b[0;34m==\u001b[0m \u001b[0mk\u001b[0m\u001b[0;34m+\u001b[0m\u001b[0;36m1\u001b[0m\u001b[0;34m:\u001b[0m\u001b[0;34m\u001b[0m\u001b[0;34m\u001b[0m\u001b[0m\n\u001b[0m\u001b[1;32m      9\u001b[0m         \u001b[0mprint\u001b[0m\u001b[0;34m(\u001b[0m\u001b[0mk\u001b[0m\u001b[0;34m)\u001b[0m\u001b[0;34m\u001b[0m\u001b[0;34m\u001b[0m\u001b[0m\n\u001b[1;32m     10\u001b[0m \u001b[0;34m\u001b[0m\u001b[0m\n",
      "\u001b[0;31mNameError\u001b[0m: name 'k' is not defined"
     ]
    }
   ],
   "source": [
    "#while 7\n",
    "\n",
    "n = int(input(\"n = \"))\n",
    "\n",
    "while n>0:\n",
    "    n*=n\n",
    "    \n",
    "    if n*n == k+1:\n",
    "        print(k)\n",
    "    \n",
    "    "
   ]
  },
  {
   "cell_type": "code",
   "execution_count": 37,
   "id": "ae8c073f",
   "metadata": {},
   "outputs": [
    {
     "name": "stdout",
     "output_type": "stream",
     "text": [
      "n = 56\n",
      "4\n"
     ]
    }
   ],
   "source": [
    "# while 9\n",
    "\n",
    "n = int(input(\"n = \"))\n",
    "\n",
    "k = 0\n",
    "\n",
    "while 3**k<=n:\n",
    "    k+=1\n",
    "print(k)"
   ]
  },
  {
   "cell_type": "code",
   "execution_count": 38,
   "id": "854f271d",
   "metadata": {},
   "outputs": [
    {
     "name": "stdout",
     "output_type": "stream",
     "text": [
      "n = 43\n",
      "3\n"
     ]
    }
   ],
   "source": [
    "#10\n",
    "\n",
    "n = int(input(\"n = \"))\n",
    "\n",
    "k = 0\n",
    "\n",
    "while 3**k<=n:\n",
    "    k+=1\n",
    "print(k-1)"
   ]
  },
  {
   "cell_type": "code",
   "execution_count": 51,
   "id": "76e8b86b",
   "metadata": {},
   "outputs": [
    {
     "name": "stdout",
     "output_type": "stream",
     "text": [
      "n = 7\n",
      "4 6\n"
     ]
    }
   ],
   "source": [
    "#11\n",
    "\n",
    "n = int(input(\"n = \"))\n",
    "\n",
    "S = 1\n",
    "k = 1\n",
    "\n",
    "while S<=n:\n",
    "    k+=1\n",
    "    S+=k\n",
    "print(k, S-k)\n",
    "\n"
   ]
  },
  {
   "cell_type": "code",
   "execution_count": 45,
   "id": "9d2fffd1",
   "metadata": {},
   "outputs": [
    {
     "name": "stdout",
     "output_type": "stream",
     "text": [
      "n = 5\n",
      "2 3\n"
     ]
    }
   ],
   "source": [
    "#12 \n",
    "\n",
    "n = int(input(\"n = \"))\n",
    "\n",
    "S = 1\n",
    "k = 1\n",
    "\n",
    "while S<=n:\n",
    "    k+=1\n",
    "    S+=k\n",
    "print(k-1, S-k)"
   ]
  },
  {
   "cell_type": "code",
   "execution_count": 56,
   "id": "5a4a9458",
   "metadata": {},
   "outputs": [
    {
     "name": "stdout",
     "output_type": "stream",
     "text": [
      "a = 3\n",
      "11\n",
      "2.9289682539682538\n"
     ]
    }
   ],
   "source": [
    "#13 \n",
    "\n",
    "a = int(input(\"a = \"))\n",
    "\n",
    "S = 0; k = 0\n",
    "\n",
    "while a>=S:\n",
    "    k+=1\n",
    "    S+=1/k\n",
    "print(k)\n",
    "print(S-1/k)"
   ]
  },
  {
   "cell_type": "code",
   "execution_count": 25,
   "id": "81420caf",
   "metadata": {},
   "outputs": [
    {
     "name": "stdout",
     "output_type": "stream",
     "text": [
      "n = 3\n",
      "10\n",
      "2.9289682539682538\n"
     ]
    }
   ],
   "source": [
    "#14 \n",
    "\n",
    "n = int(input(\"n = \"))\n",
    "\n",
    "S = 0; k=0\n",
    "\n",
    "while n>=S:\n",
    "    k+=1\n",
    "    S+=1/k\n",
    "print(k-1)\n",
    "print(S-1/k)\n",
    "    "
   ]
  },
  {
   "cell_type": "code",
   "execution_count": 65,
   "id": "21bbfd68",
   "metadata": {},
   "outputs": [
    {
     "name": "stdout",
     "output_type": "stream",
     "text": [
      "S = 1111\n",
      "p = 11\n"
     ]
    },
    {
     "ename": "KeyboardInterrupt",
     "evalue": "",
     "output_type": "error",
     "traceback": [
      "\u001b[0;31m---------------------------------------------------------------------------\u001b[0m",
      "\u001b[0;31mKeyboardInterrupt\u001b[0m                         Traceback (most recent call last)",
      "\u001b[0;32m/var/folders/nx/h_hhzqx53bbcjldfl_ksywvr0000gn/T/ipykernel_969/65803526.py\u001b[0m in \u001b[0;36m<module>\u001b[0;34m\u001b[0m\n\u001b[1;32m      7\u001b[0m \u001b[0;32mwhile\u001b[0m \u001b[0mS\u001b[0m\u001b[0;34m<\u001b[0m\u001b[0mS\u001b[0m\u001b[0;34m*\u001b[0m\u001b[0;36m2\u001b[0m\u001b[0;34m:\u001b[0m\u001b[0;34m\u001b[0m\u001b[0;34m\u001b[0m\u001b[0m\n\u001b[1;32m      8\u001b[0m \u001b[0;34m\u001b[0m\u001b[0m\n\u001b[0;32m----> 9\u001b[0;31m     \u001b[0mS\u001b[0m\u001b[0;34m+=\u001b[0m\u001b[0;34m(\u001b[0m\u001b[0;36m1\u001b[0m\u001b[0;34m+\u001b[0m\u001b[0mp\u001b[0m\u001b[0;34m/\u001b[0m\u001b[0;36m100\u001b[0m\u001b[0;34m)\u001b[0m\u001b[0;34m\u001b[0m\u001b[0;34m\u001b[0m\u001b[0m\n\u001b[0m\u001b[1;32m     10\u001b[0m     \u001b[0moy\u001b[0m\u001b[0;34m+=\u001b[0m\u001b[0;36m1\u001b[0m\u001b[0;34m\u001b[0m\u001b[0;34m\u001b[0m\u001b[0m\n\u001b[1;32m     11\u001b[0m \u001b[0mprint\u001b[0m\u001b[0;34m(\u001b[0m\u001b[0;34m\"oy = \"\u001b[0m\u001b[0;34m,\u001b[0m \u001b[0moy\u001b[0m\u001b[0;34m,\u001b[0m \u001b[0;34m\"Summa = \"\u001b[0m\u001b[0;34m,\u001b[0m \u001b[0mS\u001b[0m\u001b[0;34m)\u001b[0m\u001b[0;34m\u001b[0m\u001b[0;34m\u001b[0m\u001b[0m\n",
      "\u001b[0;31mKeyboardInterrupt\u001b[0m: "
     ]
    }
   ],
   "source": [
    "#15\n",
    "S = int(input(\"S = \")) \n",
    "p = int(input(\"p = \"))\n",
    "\n",
    "oy = 0\n",
    "\n",
    "while S<S*2:\n",
    "\n",
    "    S+=(1+p/100)\n",
    "    oy+=1\n",
    "print(\"oy = \", oy, \"Summa = \", S)"
   ]
  },
  {
   "cell_type": "code",
   "execution_count": 59,
   "id": "099a447e",
   "metadata": {},
   "outputs": [
    {
     "name": "stdout",
     "output_type": "stream",
     "text": [
      "p = 34\n",
      "S =  250.12251218937467 kun =  11\n"
     ]
    }
   ],
   "source": [
    "#16 while\n",
    "\n",
    "p = int(input(\"p = \"))\n",
    "Sk = 0 = 10\n",
    "\n",
    "while S<200:\n",
    "    S*= (1+p/100)\n",
    "    k+=1\n",
    "print(\"S = \",S,\"kun = \", k)"
   ]
  },
  {
   "cell_type": "code",
   "execution_count": 66,
   "id": "8bfa26b6",
   "metadata": {},
   "outputs": [
    {
     "name": "stdout",
     "output_type": "stream",
     "text": [
      "n = 4\n",
      "m = 3\n",
      "0\n"
     ]
    }
   ],
   "source": [
    "#17 while\n",
    "\n",
    "n = int(input(\"n = \"))\n",
    "m = int(input(\"m = \"))\n",
    "\n",
    "S = 0\n",
    "\n",
    "while n<m:\n",
    "    n-=m\n",
    "    S+=1\n",
    "print(S)\n",
    "    "
   ]
  },
  {
   "cell_type": "code",
   "execution_count": 1,
   "id": "f33cd65a",
   "metadata": {},
   "outputs": [
    {
     "name": "stdout",
     "output_type": "stream",
     "text": [
      "n = 344\n",
      "443\n"
     ]
    }
   ],
   "source": [
    "#18\n",
    "\n",
    "S = 0\n",
    "n = int(input(\"n = \"))\n",
    "\n",
    "while n>0:\n",
    "    S = S*10 + n%10\n",
    "    n//=10\n",
    "print(S)"
   ]
  },
  {
   "cell_type": "code",
   "execution_count": 72,
   "id": "1ee3e0cf",
   "metadata": {},
   "outputs": [
    {
     "name": "stdout",
     "output_type": "stream",
     "text": [
      "n = 23\n",
      "fibonachi emas\n"
     ]
    }
   ],
   "source": [
    "#while 24\n",
    "\n",
    "n = int(input(\"n = \"))\n",
    "f1=1; f0=0\n",
    "fn = f1 + f0\n",
    "while fn<n:\n",
    "    f0=f1\n",
    "    f1=fn\n",
    "    fn = f1+f0\n",
    "if fn == n:\n",
    "    print(\"fibonachi soni\")\n",
    "else:\n",
    "    print(\"fibonachi emas\")"
   ]
  },
  {
   "cell_type": "code",
   "execution_count": 4,
   "id": "32fa12c1",
   "metadata": {},
   "outputs": [
    {
     "name": "stdout",
     "output_type": "stream",
     "text": [
      "n = 2\n",
      "2\n"
     ]
    }
   ],
   "source": [
    "n = int(input(\"n = \"))\n",
    "f1=1; f0=0\n",
    "fn = f1 + f0\n",
    "i=1\n",
    "while i<n:\n",
    "    f0=f1\n",
    "    f1=fn\n",
    "    fn = f1+f0\n",
    "    i+=1\n",
    "    \n",
    "    print(fn)\n"
   ]
  },
  {
   "cell_type": "code",
   "execution_count": 6,
   "id": "7be3faf9",
   "metadata": {},
   "outputs": [
    {
     "name": "stdout",
     "output_type": "stream",
     "text": [
      "a = 6\n",
      "b = 12\n",
      "6 6\n"
     ]
    }
   ],
   "source": [
    "# 2 ta sonning EKUB ini chiqaruvchi programma tuzing.\n",
    "\n",
    "a = int(input(\"a = \"))\n",
    "b = int(input(\"b = \"))\n",
    "while a!=b:\n",
    "    if a>b:\n",
    "        a-=b\n",
    "    else:\n",
    "        b-=a\n",
    "print(a,b)\n",
    "    "
   ]
  },
  {
   "cell_type": "code",
   "execution_count": 8,
   "id": "1c85cae2",
   "metadata": {},
   "outputs": [
    {
     "name": "stdout",
     "output_type": "stream",
     "text": [
      "a = 6\n",
      "b = 12\n",
      "6 6\n"
     ]
    }
   ],
   "source": [
    "a = int(input(\"a = \"))\n",
    "b = int(input(\"b = \"))\n",
    "\n",
    "while a!=b:\n",
    "    if a>b:\n",
    "        a%=b\n",
    "    else:\n",
    "        b%=a\n",
    "    if a==0:\n",
    "        a=b\n",
    "    if b==0:\n",
    "        b=a\n",
    "print(a,b)\n",
    "        "
   ]
  },
  {
   "cell_type": "code",
   "execution_count": 9,
   "id": "5aaa9ade",
   "metadata": {},
   "outputs": [
    {
     "name": "stdout",
     "output_type": "stream",
     "text": [
      "a = 6\n",
      "b = 12\n",
      "6 6\n"
     ]
    }
   ],
   "source": [
    "a = int(input(\"a = \"))\n",
    "b = int(input(\"b = \"))\n",
    "\n",
    "while a!=b:\n",
    "    if a>b:\n",
    "        a%=b\n",
    "    if b>a:\n",
    "        b%=a\n",
    "    if a==0:\n",
    "        a=b\n",
    "    if b==0:\n",
    "        b=a\n",
    "print(a,b)\n",
    "        "
   ]
  },
  {
   "cell_type": "code",
   "execution_count": 11,
   "id": "fb2f32db",
   "metadata": {},
   "outputs": [
    {
     "name": "stdout",
     "output_type": "stream",
     "text": [
      "n = 4\n",
      "a = 3\n",
      "b = 4\n",
      "b = 5\n",
      "b = 6\n",
      "b = 6\n",
      "1\n"
     ]
    }
   ],
   "source": [
    "# nta sonning EKUB ini topish\n",
    "\n",
    "n = int(input(\"n = \"))\n",
    "a = int(input(\"a = \"))\n",
    "i = 0\n",
    "while i<n:\n",
    "    b = int(input(\"b = \"))\n",
    "    while a!=b:\n",
    "        if a>b:\n",
    "            a%=b\n",
    "        else:\n",
    "            b%=a\n",
    "        if a==0:\n",
    "            a=b\n",
    "        if b==0:\n",
    "            b=a\n",
    "    i+=1\n",
    "print(a)"
   ]
  },
  {
   "cell_type": "code",
   "execution_count": 2,
   "id": "42eef465",
   "metadata": {},
   "outputs": [
    {
     "name": "stdout",
     "output_type": "stream",
     "text": [
      "n = 13\n",
      "21\n",
      "8\n"
     ]
    }
   ],
   "source": [
    "#26 fibonachi \n",
    "\n",
    "n = int(input(\"n = \"))\n",
    "f0 = 0; f1 = 1\n",
    "fn = f0+f1\n",
    "while fn<n:\n",
    "    f0 = f1\n",
    "    f1 = fn\n",
    "    fn = f1 + f0\n",
    "    \n",
    "if fn==n:\n",
    "    print(fn+f1)\n",
    "    print(fn-f0)\n",
    "else:\n",
    "    print(fn)\n",
    "    print(f1)"
   ]
  },
  {
   "cell_type": "code",
   "execution_count": 8,
   "id": "fd0f1597",
   "metadata": {},
   "outputs": [
    {
     "name": "stdout",
     "output_type": "stream",
     "text": [
      "n = 34\n",
      "raqamlar yigindisi= 7 sonlar soni= 2 ta\n"
     ]
    }
   ],
   "source": [
    "#19 while\n",
    "\n",
    "n = int(input(\"n = \"))\n",
    "S = 0\n",
    "P = 0\n",
    "while n>0:\n",
    "    S = S+n%10\n",
    "    n//=10\n",
    "    P+=1\n",
    "print(\"raqamlar yigindisi=\",S,\"sonlar soni=\", P,\"ta\")\n",
    "    \n",
    "    \n",
    "    "
   ]
  },
  {
   "cell_type": "code",
   "execution_count": 22,
   "id": "cdb8bf4b",
   "metadata": {},
   "outputs": [
    {
     "name": "stdout",
     "output_type": "stream",
     "text": [
      "n = 23\n",
      "2 raqami bor\n"
     ]
    }
   ],
   "source": [
    "#20 while \n",
    "\n",
    "n = int(input(\"n = \"))\n",
    "\n",
    "while n>0:\n",
    "    S = n%10\n",
    "    n//=10\n",
    "    if S==2:\n",
    "        print(\"2 raqami bor\")\n",
    "    \n",
    "    \n",
    "    \n",
    "\n",
    "        "
   ]
  },
  {
   "cell_type": "code",
   "execution_count": 27,
   "id": "8ed14e69",
   "metadata": {},
   "outputs": [
    {
     "name": "stdout",
     "output_type": "stream",
     "text": [
      "n = 234\n",
      " toq raqam bor\n"
     ]
    }
   ],
   "source": [
    "#21 while\n",
    "\n",
    "n = int(input(\"n = \"))\n",
    "\n",
    "while n>0:\n",
    "    S = n%10\n",
    "    n//=10\n",
    "    if S%2==1:\n",
    "        \n",
    "        print(\" toq raqam bor\")"
   ]
  },
  {
   "cell_type": "code",
   "execution_count": null,
   "id": "156c0974",
   "metadata": {},
   "outputs": [],
   "source": [
    "#22 while \n",
    "\n",
    "n = int(input(\"n = \"))\n",
    "\n",
    "while n>1:\n",
    "    for i in range(1, n+1):\n",
    "        for j in range(1, n+1):\n",
    "            if i%j==0:\n",
    "                S+=1\n",
    "                if S==2:\n",
    "                    print(n,\"soni tub son\")\n",
    "                else:\n",
    "                    print(n, \"soni tub emas\")\n",
    "                "
   ]
  },
  {
   "cell_type": "code",
   "execution_count": 2,
   "id": "3bf5b940",
   "metadata": {},
   "outputs": [
    {
     "name": "stdout",
     "output_type": "stream",
     "text": [
      "a = 34\n",
      "b = 4\n",
      "2 2\n"
     ]
    }
   ],
   "source": [
    "#23 while Sonlarning EKUB ini toping\n",
    "\n",
    "a = int(input(\"a = \"))\n",
    "b = int(input(\"b = \"))\n",
    "\n",
    "while a!=b:\n",
    "    if a>b:\n",
    "        a%=b\n",
    "    else:\n",
    "        b%=a\n",
    "    if a==0:\n",
    "        a=b\n",
    "    if b==0:\n",
    "        b=a\n",
    "print(a,b)"
   ]
  },
  {
   "cell_type": "code",
   "execution_count": 3,
   "id": "0fb0faf2",
   "metadata": {},
   "outputs": [
    {
     "name": "stdout",
     "output_type": "stream",
     "text": [
      "n = 34\n",
      "fibonachi son\n"
     ]
    }
   ],
   "source": [
    "#24 while fibonachi\n",
    "\n",
    "n = int(input(\"n = \"))\n",
    "f1=1; f0=0\n",
    "fn=f1+f0\n",
    "while fn<n:\n",
    "    f0=f1\n",
    "    f1=fn\n",
    "    fn=f1+f0\n",
    "if fn==n:\n",
    "    print(\"fibonachi son\")\n",
    "else:\n",
    "    print(\"fibonachi son emas\")\n"
   ]
  },
  {
   "cell_type": "code",
   "execution_count": 4,
   "id": "60de1515",
   "metadata": {},
   "outputs": [
    {
     "name": "stdout",
     "output_type": "stream",
     "text": [
      "n = 34\n",
      "35\n"
     ]
    }
   ],
   "source": [
    "#25 while\n",
    "\n",
    "n = int(input(\"n = \"))\n",
    "f1=1; f0=0\n",
    "fn=f1+f0\n",
    "while fn<n:\n",
    "    f0=f1\n",
    "    f1=fn\n",
    "    fn=f1+f0\n",
    "if fn==n:\n",
    "    print(fn+1)\n"
   ]
  },
  {
   "cell_type": "code",
   "execution_count": 9,
   "id": "910d2df1",
   "metadata": {},
   "outputs": [
    {
     "name": "stdout",
     "output_type": "stream",
     "text": [
      "n = 7\n",
      "1 X 1 = 1\t1 X 2 = 2\t1 X 3 = 3\t1 X 4 = 4\t1 X 5 = 5\t1 X 6 = 6\t1 X 7 = 7\t\n",
      "2 X 1 = 2\t2 X 2 = 4\t2 X 3 = 6\t2 X 4 = 8\t2 X 5 = 10\t2 X 6 = 12\t2 X 7 = 14\t\n",
      "3 X 1 = 3\t3 X 2 = 6\t3 X 3 = 9\t3 X 4 = 12\t3 X 5 = 15\t3 X 6 = 18\t3 X 7 = 21\t\n",
      "4 X 1 = 4\t4 X 2 = 8\t4 X 3 = 12\t4 X 4 = 16\t4 X 5 = 20\t4 X 6 = 24\t4 X 7 = 28\t\n",
      "5 X 1 = 5\t5 X 2 = 10\t5 X 3 = 15\t5 X 4 = 20\t5 X 5 = 25\t5 X 6 = 30\t5 X 7 = 35\t\n",
      "6 X 1 = 6\t6 X 2 = 12\t6 X 3 = 18\t6 X 4 = 24\t6 X 5 = 30\t6 X 6 = 36\t6 X 7 = 42\t\n",
      "7 X 1 = 7\t7 X 2 = 14\t7 X 3 = 21\t7 X 4 = 28\t7 X 5 = 35\t7 X 6 = 42\t7 X 7 = 49\t\n"
     ]
    }
   ],
   "source": [
    "n = int(input(\"n = \"))\n",
    "\n",
    "for i in range(1, n+1):\n",
    "    for j in range(1, n+1):\n",
    "        print(i,\"X\", j,\"=\",i*j, end=\"\\t\",sep=\" \")\n",
    "    print()"
   ]
  },
  {
   "cell_type": "code",
   "execution_count": null,
   "id": "b885b0c6",
   "metadata": {},
   "outputs": [],
   "source": [
    "#28 while\n",
    "\n"
   ]
  },
  {
   "cell_type": "code",
   "execution_count": null,
   "id": "d60a00f3",
   "metadata": {},
   "outputs": [],
   "source": [
    "#30 while\n",
    "\n",
    "a = int(input(\"a = \"))\n",
    "b = int(input(\"b = \"))\n",
    "c = int(input(\"c = \"))\n",
    "\n",
    "while"
   ]
  },
  {
   "cell_type": "code",
   "execution_count": 1,
   "id": "73ca5840",
   "metadata": {},
   "outputs": [
    {
     "name": "stdout",
     "output_type": "stream",
     "text": [
      "0.761594155955765\n"
     ]
    }
   ],
   "source": [
    "#qo'shimcha\n",
    "\n",
    "S = 103\n",
    "b = 101\n",
    "while b>=1:\n",
    "    S=b+1/S\n",
    "    b-=2\n",
    "print(1/S)\n",
    "    "
   ]
  },
  {
   "cell_type": "code",
   "execution_count": 10,
   "id": "6bfe9ac3",
   "metadata": {},
   "outputs": [
    {
     "name": "stdout",
     "output_type": "stream",
     "text": [
      "x = 1\n",
      "0.6187181319443722\n"
     ]
    }
   ],
   "source": [
    "#qo'shimcha\n",
    "x = int(input(\"x = \"))\n",
    "S = x**2\n",
    "b = 256\n",
    "while b>=2:\n",
    "    S = x**2+b/S\n",
    "    b//=2\n",
    "print(x/S)"
   ]
  },
  {
   "cell_type": "code",
   "execution_count": null,
   "id": "c6ca0aa3",
   "metadata": {},
   "outputs": [],
   "source": []
  },
  {
   "cell_type": "code",
   "execution_count": null,
   "id": "7e526358",
   "metadata": {},
   "outputs": [],
   "source": []
  }
 ],
 "metadata": {
  "kernelspec": {
   "display_name": "Python 3 (ipykernel)",
   "language": "python",
   "name": "python3"
  },
  "language_info": {
   "codemirror_mode": {
    "name": "ipython",
    "version": 3
   },
   "file_extension": ".py",
   "mimetype": "text/x-python",
   "name": "python",
   "nbconvert_exporter": "python",
   "pygments_lexer": "ipython3",
   "version": "3.9.7"
  }
 },
 "nbformat": 4,
 "nbformat_minor": 5
}
