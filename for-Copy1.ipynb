{
 "cells": [
  {
   "cell_type": "code",
   "execution_count": 2,
   "id": "67f4a186",
   "metadata": {},
   "outputs": [
    {
     "name": "stdout",
     "output_type": "stream",
     "text": [
      "k = 5\n",
      "n = 4\n",
      "5\n",
      "5\n",
      "5\n",
      "5\n"
     ]
    }
   ],
   "source": [
    "#1 for\n",
    "\n",
    "k = int(input(\"k = \"))\n",
    "n = int(input(\"n = \"))\n",
    "\n",
    "for i in range(n):\n",
    "    print(k)"
   ]
  },
  {
   "cell_type": "code",
   "execution_count": 32,
   "id": "256bd525",
   "metadata": {},
   "outputs": [
    {
     "name": "stdout",
     "output_type": "stream",
     "text": [
      "a = 4\n",
      "b = 9\n",
      "4 5 6 7 8 9 "
     ]
    }
   ],
   "source": [
    "#2 for\n",
    "\n",
    "a = int(input(\"a = \"))\n",
    "b = int(input(\"b = \"))\n",
    "if a<b:\n",
    "    for i in range(a,b+1):\n",
    "        print(i, end=\" \")"
   ]
  },
  {
   "cell_type": "code",
   "execution_count": 19,
   "id": "c5c41c3c",
   "metadata": {},
   "outputs": [
    {
     "name": "stdout",
     "output_type": "stream",
     "text": [
      "a = 23\n",
      "b = 56\n",
      "55 54 53 52 51 50 49 48 47 46 45 44 43 42 41 40 39 38 37 36 35 34 33 32 31 30 29 28 27 26 25 24 "
     ]
    }
   ],
   "source": [
    "#3 for\n",
    "\n",
    "a = int(input(\"a = \"))\n",
    "b = int(input(\"b = \"))\n",
    "\n",
    "if a<b:\n",
    "    for i in range(b-1,a,-1):\n",
    "        print(i, end=\" \")"
   ]
  },
  {
   "cell_type": "code",
   "execution_count": 5,
   "id": "aeebc581",
   "metadata": {},
   "outputs": [
    {
     "name": "stdout",
     "output_type": "stream",
     "text": [
      "a_so'm = 2000\n",
      "2000\n",
      "4000\n",
      "6000\n",
      "8000\n",
      "10000\n",
      "12000\n",
      "14000\n",
      "16000\n",
      "18000\n",
      "20000\n"
     ]
    }
   ],
   "source": [
    "#4 for\n",
    "\n",
    "a = int(input(\"a_so'm = \"))\n",
    "\n",
    "for i in range(1,11):\n",
    "    print(i*a)"
   ]
  },
  {
   "cell_type": "code",
   "execution_count": 6,
   "id": "46c1748b",
   "metadata": {},
   "outputs": [
    {
     "name": "stdout",
     "output_type": "stream",
     "text": [
      "a_so'm = 3000\n",
      "300.0\n",
      "600.0\n",
      "900.0\n",
      "1200.0\n",
      "1500.0\n",
      "1800.0\n",
      "2100.0\n",
      "2400.0\n",
      "2700.0\n",
      "3000.0\n"
     ]
    }
   ],
   "source": [
    "#5 for\n",
    "\n",
    "a = int(input(\"a_so'm = \"))\n",
    "\n",
    "for i in range(1,11):\n",
    "    print(a*i/10)\n"
   ]
  },
  {
   "cell_type": "code",
   "execution_count": 7,
   "id": "6b142202",
   "metadata": {},
   "outputs": [
    {
     "name": "stdout",
     "output_type": "stream",
     "text": [
      "a_so'm = 2000\n",
      "2400.0\n",
      "2800.0\n",
      "3200.0\n",
      "3600.0\n",
      "4000.0\n"
     ]
    }
   ],
   "source": [
    "#6 for \n",
    "\n",
    "a = int(input(\"a_so'm = \"))\n",
    "\n",
    "for i in range(12,22,2):\n",
    "    print(a*i/10)"
   ]
  },
  {
   "cell_type": "code",
   "execution_count": 8,
   "id": "cef43865",
   "metadata": {},
   "outputs": [
    {
     "name": "stdout",
     "output_type": "stream",
     "text": [
      "a = 2\n",
      "b = 5\n",
      "14\n"
     ]
    }
   ],
   "source": [
    "#7 for \n",
    "\n",
    "a = int(input(\"a = \"))\n",
    "b = int(input(\"b = \"))\n",
    "\n",
    "S = 0\n",
    "\n",
    "if a<b:\n",
    "    for i in range(a,b+1):\n",
    "        S+=i\n",
    "print(S)"
   ]
  },
  {
   "cell_type": "code",
   "execution_count": 10,
   "id": "b77289b0",
   "metadata": {},
   "outputs": [
    {
     "name": "stdout",
     "output_type": "stream",
     "text": [
      "a = 2\n",
      "b = 4\n",
      "24\n"
     ]
    }
   ],
   "source": [
    "#8 for \n",
    "\n",
    "a = int(input(\"a = \"))\n",
    "b = int(input(\"b = \"))\n",
    "\n",
    "P = 1\n",
    "\n",
    "for i in range(a,b+1):\n",
    "    P*=i\n",
    "print(P)"
   ]
  },
  {
   "cell_type": "code",
   "execution_count": 11,
   "id": "46c6410d",
   "metadata": {},
   "outputs": [
    {
     "name": "stdout",
     "output_type": "stream",
     "text": [
      "a = 2\n",
      "b = 5\n",
      "54\n"
     ]
    }
   ],
   "source": [
    "#9 for  k\n",
    "\n",
    "a = int(input(\"a = \"))\n",
    "b = int(input(\"b = \"))\n",
    "\n",
    "S = 0\n",
    "\n",
    "for i in range(a,b+1):\n",
    "    S+=i**2\n",
    "print(S)"
   ]
  },
  {
   "cell_type": "code",
   "execution_count": 20,
   "id": "67bc9e01",
   "metadata": {},
   "outputs": [
    {
     "name": "stdout",
     "output_type": "stream",
     "text": [
      "n = 5\n",
      "2.283333333333333\n"
     ]
    }
   ],
   "source": [
    "#10 for\n",
    "\n",
    "n = int(input(\"n = \"))\n",
    "\n",
    "S = 0\n",
    "\n",
    "for i in range(1,n+1):\n",
    "    S+=1/i\n",
    "print(S)"
   ]
  },
  {
   "cell_type": "code",
   "execution_count": 16,
   "id": "2c95656e",
   "metadata": {},
   "outputs": [
    {
     "name": "stdout",
     "output_type": "stream",
     "text": [
      "n = 3\n",
      "50\n"
     ]
    }
   ],
   "source": [
    "#11 for\n",
    "\n",
    "n = int(input(\"n = \"))\n",
    "\n",
    "S = 0\n",
    "\n",
    "for i in range(n,2*n):\n",
    "    S+=i**2\n",
    "print(S)"
   ]
  },
  {
   "cell_type": "code",
   "execution_count": 21,
   "id": "5b4ed7f1",
   "metadata": {},
   "outputs": [
    {
     "name": "stdout",
     "output_type": "stream",
     "text": [
      "n = 5\n",
      "1.6762617505353498e+17\n"
     ]
    }
   ],
   "source": [
    "#12 for\n",
    "\n",
    "n = int(input(\"n = \"))\n",
    "\n",
    "P = 1\n",
    "\n",
    "for i in range(11,10*n):\n",
    "    P*=i/10\n",
    "print(P)\n",
    "\n"
   ]
  },
  {
   "cell_type": "code",
   "execution_count": 27,
   "id": "da54f1c0",
   "metadata": {},
   "outputs": [
    {
     "name": "stdout",
     "output_type": "stream",
     "text": [
      "n = 25\n",
      "-12.0\n"
     ]
    }
   ],
   "source": [
    "#13 for \n",
    "\n",
    "n = int(input(\"n = \"))\n",
    "\n",
    "S = 0\n",
    "\n",
    "for i in range(11,10*n+1):\n",
    "    S+=(-1)**(i+1)*i/10\n",
    "print(S)"
   ]
  },
  {
   "cell_type": "code",
   "execution_count": 28,
   "id": "67f2e294",
   "metadata": {},
   "outputs": [
    {
     "name": "stdout",
     "output_type": "stream",
     "text": [
      "n = 25\n",
      "-12.0\n"
     ]
    }
   ],
   "source": [
    "#13 for 2-u\n",
    "\n",
    "n = int(input(\"n = \"))\n",
    "\n",
    "S = 0\n",
    "a = 1\n",
    "\n",
    "for i in range(11,10*n+1):\n",
    "    S+=a*i/10\n",
    "    a *= -1\n",
    "print(S)\n"
   ]
  },
  {
   "cell_type": "code",
   "execution_count": 29,
   "id": "88f4e8d2",
   "metadata": {},
   "outputs": [
    {
     "name": "stdout",
     "output_type": "stream",
     "text": [
      "n = 5\n",
      "81\n"
     ]
    }
   ],
   "source": [
    "#14 for\n",
    "\n",
    "n = int(input(\"n = \"))\n",
    "\n",
    "for i in range(1, 2*n,2):\n",
    "    n = i**2\n",
    "print(n)\n"
   ]
  },
  {
   "cell_type": "code",
   "execution_count": 33,
   "id": "4527335f",
   "metadata": {},
   "outputs": [
    {
     "name": "stdout",
     "output_type": "stream",
     "text": [
      "n = 3\n",
      "a = 4\n",
      "64\n"
     ]
    }
   ],
   "source": [
    "#15 for \n",
    "\n",
    "n = int(input(\"n = \"))\n",
    "a = int(input(\"a = \"))\n",
    "\n",
    "P = 1\n",
    "\n",
    "for i in range(1,n+1):\n",
    "    P*=a\n",
    "print(P)"
   ]
  },
  {
   "cell_type": "code",
   "execution_count": 34,
   "id": "314c78bf",
   "metadata": {},
   "outputs": [
    {
     "name": "stdout",
     "output_type": "stream",
     "text": [
      "n = 3\n",
      "a = 6\n",
      "6.0\n",
      "36.0\n",
      "216.0\n"
     ]
    }
   ],
   "source": [
    "#16 for\n",
    "\n",
    "n = int(input(\"n = \"))\n",
    "a = float(input(\"a = \"))\n",
    "\n",
    "P = 1\n",
    "\n",
    "for i in range(1,n+1):\n",
    "    P*=a\n",
    "    print(P)\n",
    "    "
   ]
  },
  {
   "cell_type": "code",
   "execution_count": 36,
   "id": "22b6bec6",
   "metadata": {},
   "outputs": [
    {
     "name": "stdout",
     "output_type": "stream",
     "text": [
      "n = 4\n",
      "a = 5\n",
      "781\n"
     ]
    }
   ],
   "source": [
    "#17 for\n",
    "\n",
    "n = int(input(\"n = \"))\n",
    "a = int(input(\"a = \"))\n",
    "\n",
    "P=1\n",
    "S=1\n",
    "\n",
    "for i in range(1,n+1):\n",
    "    P*=a\n",
    "    S+=P\n",
    "print(S)"
   ]
  },
  {
   "cell_type": "code",
   "execution_count": 37,
   "id": "72162c3e",
   "metadata": {},
   "outputs": [
    {
     "name": "stdout",
     "output_type": "stream",
     "text": [
      "n = 4\n",
      "a = 5\n",
      "521\n"
     ]
    }
   ],
   "source": [
    "#18 for\n",
    "\n",
    "n = int(input(\"n = \"))\n",
    "a = int(input(\"a = \"))\n",
    "\n",
    "P = 1\n",
    "S = 1\n",
    "\n",
    "for i in range(1,n+1):\n",
    "    P*=a\n",
    "    S+=(-1)**(i)*P\n",
    "print(S)"
   ]
  },
  {
   "cell_type": "code",
   "execution_count": 38,
   "id": "d06e477e",
   "metadata": {},
   "outputs": [
    {
     "name": "stdout",
     "output_type": "stream",
     "text": [
      "n = 4\n",
      "24\n"
     ]
    }
   ],
   "source": [
    "#19 for\n",
    "\n",
    "n = int(input(\"n = \"))\n",
    "\n",
    "P = 1\n",
    "\n",
    "for i in range(1,n+1):\n",
    "    P*=i\n",
    "print(P)\n",
    "    "
   ]
  },
  {
   "cell_type": "code",
   "execution_count": 39,
   "id": "babbcac1",
   "metadata": {},
   "outputs": [
    {
     "name": "stdout",
     "output_type": "stream",
     "text": [
      "n = 4\n",
      "33\n"
     ]
    }
   ],
   "source": [
    "#20 for \n",
    "\n",
    "n = int(input(\"n = \"))\n",
    "\n",
    "S = 0\n",
    "P = 1\n",
    "\n",
    "for i in range(1,n+1):\n",
    "    P*=i\n",
    "    S+=P\n",
    "print(S)"
   ]
  },
  {
   "cell_type": "code",
   "execution_count": 40,
   "id": "50381bee",
   "metadata": {},
   "outputs": [
    {
     "name": "stdout",
     "output_type": "stream",
     "text": [
      "n = 3\n",
      "1.8333333333333333\n"
     ]
    }
   ],
   "source": [
    "#21 for\n",
    "\n",
    "n = int(input(\"n = \"))\n",
    "\n",
    "P = 1\n",
    "S = 0\n",
    "\n",
    "for i in range(1,n+1):\n",
    "    P*=i\n",
    "    S+=1/i\n",
    "print(S)\n"
   ]
  },
  {
   "cell_type": "code",
   "execution_count": 41,
   "id": "99bdd9a6",
   "metadata": {},
   "outputs": [
    {
     "name": "stdout",
     "output_type": "stream",
     "text": [
      "n = 4\n",
      "x = 3\n",
      "3.375\n"
     ]
    }
   ],
   "source": [
    "#22 for\n",
    "\n",
    "n = int(input(\"n = \"))\n",
    "x = int(input(\"x = \"))\n",
    "\n",
    "F = 1\n",
    "S = 1\n",
    "daraja = 1\n",
    "\n",
    "for i in range(1,n+1):\n",
    "    F*=i\n",
    "    daraja*=x\n",
    "    S = daraja/F\n",
    "print(S)"
   ]
  },
  {
   "cell_type": "code",
   "execution_count": 63,
   "id": "48fb0db5",
   "metadata": {},
   "outputs": [
    {
     "name": "stdout",
     "output_type": "stream",
     "text": [
      "n = 4\n",
      "x = 3\n",
      "-5.958928571428572\n"
     ]
    }
   ],
   "source": [
    "#23 for\n",
    "\n",
    "n = int(input(\"n = \"))\n",
    "x = int(input(\"x = \"))\n",
    "\n",
    "S = 1\n",
    "f = 1\n",
    "ishora = -1\n",
    "\n",
    "for i in range(3,2*n+1,2):\n",
    "    f*=i*(i-1)\n",
    "    S+=ishora*x**i/f\n",
    "    ishora=-1\n",
    "print(S)"
   ]
  },
  {
   "cell_type": "code",
   "execution_count": 50,
   "id": "3f31260f",
   "metadata": {},
   "outputs": [
    {
     "data": {
      "text/plain": [
       "0.9092974268256817"
      ]
     },
     "execution_count": 50,
     "metadata": {},
     "output_type": "execute_result"
    }
   ],
   "source": [
    "from math import sin\n",
    "sin(x)"
   ]
  },
  {
   "cell_type": "code",
   "execution_count": 61,
   "id": "03a1f454",
   "metadata": {},
   "outputs": [
    {
     "name": "stdout",
     "output_type": "stream",
     "text": [
      "n = 5\n",
      "x = 4\n",
      "-25.26991181657848\n"
     ]
    }
   ],
   "source": [
    "#24 for\n",
    "\n",
    "n = int(input(\"n = \"))\n",
    "x = int(input(\"x = \"))\n",
    "\n",
    "S = 1\n",
    "P = 1\n",
    "\n",
    "for i in range(2,2*n+1,2):\n",
    "    P*=i*(i-1)\n",
    "    S+=x**i/P*ishora\n",
    "    ishora = -1\n",
    "print(S)"
   ]
  },
  {
   "cell_type": "code",
   "execution_count": 62,
   "id": "97053cbe",
   "metadata": {},
   "outputs": [
    {
     "name": "stdout",
     "output_type": "stream",
     "text": [
      "n = 5\n",
      "x = 4\n",
      "-25.26991181657848\n"
     ]
    }
   ],
   "source": [
    "#25 for\n",
    "\n",
    "n = int(input(\"n = \"))\n",
    "x = int(input(\"x = \"))\n",
    "\n",
    "if n>0 and abs(x)<1:\n",
    "    for i in range(1,n+1):\n",
    "        S+=x**i*(-1)**(i+1)/i\n",
    "        \n",
    "print(S)"
   ]
  },
  {
   "cell_type": "code",
   "execution_count": 4,
   "id": "09b3d80d",
   "metadata": {},
   "outputs": [
    {
     "name": "stdout",
     "output_type": "stream",
     "text": [
      "n = 3\n",
      "x = 0.5\n",
      "0.4166666666666667\n"
     ]
    }
   ],
   "source": [
    "#25 for\n",
    "\n",
    "n = int(input(\"n = \"))\n",
    "x = float(input(\"x = \"))\n",
    "\n",
    "S=0\n",
    "\n",
    "if n>0 and abs(x)<1:\n",
    "    for i in range(1,n+1):\n",
    "        S+=x**i*(-1)**(i+1)/i\n",
    "        \n",
    "print(S)"
   ]
  },
  {
   "cell_type": "code",
   "execution_count": 9,
   "id": "751a270d",
   "metadata": {},
   "outputs": [
    {
     "name": "stdout",
     "output_type": "stream",
     "text": [
      "n = 3\n",
      "x = 0.5\n",
      "0.4645833333333333\n"
     ]
    }
   ],
   "source": [
    "#26 for\n",
    "\n",
    "n = int(input(\"n = \"))\n",
    "x = float(input(\"x = \"))\n",
    "\n",
    "S = x\n",
    "ishora = -1\n",
    "\n",
    "if n>0 and abs(x)<1:\n",
    "    for i in range(3,2*n+1,2):\n",
    "        S+=x**i*ishora/i\n",
    "        ishora*=-1\n",
    "print(S)"
   ]
  },
  {
   "cell_type": "code",
   "execution_count": null,
   "id": "f314a1e1",
   "metadata": {},
   "outputs": [],
   "source": [
    "#27 for\n",
    "\n",
    "n = int(input(\"n = \"))\n",
    "x = float(input(\"x = \"))\n",
    "\n",
    "S = x\n",
    "tepasi = 1\n",
    "pasti = 1\n",
    "\n",
    "if n>0 and abs(x)<0:\n",
    "    for i in range()"
   ]
  },
  {
   "cell_type": "code",
   "execution_count": 6,
   "id": "8518b443",
   "metadata": {},
   "outputs": [
    {
     "name": "stdout",
     "output_type": "stream",
     "text": [
      "n = 5\n",
      "x = 3\n",
      "2.5\n"
     ]
    }
   ],
   "source": [
    "#28 for\n",
    "\n",
    "n = int(input(\"n = \"))\n",
    "x = float(input(\"x = \"))\n",
    "\n",
    "p1 = 1\n",
    "p2 = 2\n",
    "S = 1\n",
    "\n",
    "for i in range(1, n+1):\n",
    "    S +=(-1)**(i+1)*x*i*p1/p2\n",
    "    p1 *= i*(i-1)\n",
    "    p2 *= i*(i+1)\n",
    "print(S)"
   ]
  },
  {
   "cell_type": "code",
   "execution_count": 7,
   "id": "cb918a65",
   "metadata": {},
   "outputs": [
    {
     "name": "stdout",
     "output_type": "stream",
     "text": [
      "n = 3\n",
      "A = 9\n",
      "B = 7\n",
      "0.6666666666666666\n"
     ]
    }
   ],
   "source": [
    "#29 for\n",
    "\n",
    "n = int(input(\"n = \"))\n",
    "A = int(input(\"A = \"))\n",
    "B = int(input(\"B = \"))\n",
    "\n",
    "print((A-B)/n)"
   ]
  },
  {
   "cell_type": "code",
   "execution_count": 1,
   "id": "c93785f1",
   "metadata": {},
   "outputs": [
    {
     "name": "stdout",
     "output_type": "stream",
     "text": [
      "n = 5\n",
      "A = 4\n",
      "B = 3\n"
     ]
    },
    {
     "ename": "NameError",
     "evalue": "name 'sin' is not defined",
     "output_type": "error",
     "traceback": [
      "\u001b[0;31m---------------------------------------------------------------------------\u001b[0m",
      "\u001b[0;31mNameError\u001b[0m                                 Traceback (most recent call last)",
      "\u001b[0;32m/var/folders/nx/h_hhzqx53bbcjldfl_ksywvr0000gn/T/ipykernel_6215/2699006787.py\u001b[0m in \u001b[0;36m<module>\u001b[0;34m\u001b[0m\n\u001b[1;32m      6\u001b[0m \u001b[0;34m\u001b[0m\u001b[0m\n\u001b[1;32m      7\u001b[0m \u001b[0;32mfor\u001b[0m \u001b[0mi\u001b[0m \u001b[0;32min\u001b[0m \u001b[0mrange\u001b[0m\u001b[0;34m(\u001b[0m\u001b[0mn\u001b[0m\u001b[0;34m)\u001b[0m\u001b[0;34m:\u001b[0m\u001b[0;34m\u001b[0m\u001b[0;34m\u001b[0m\u001b[0m\n\u001b[0;32m----> 8\u001b[0;31m     \u001b[0mFn\u001b[0m\u001b[0;34m=\u001b[0m\u001b[0;36m1\u001b[0m\u001b[0;34m-\u001b[0m\u001b[0msin\u001b[0m\u001b[0;34m(\u001b[0m\u001b[0mn\u001b[0m\u001b[0;34m)\u001b[0m\u001b[0;34m\u001b[0m\u001b[0;34m\u001b[0m\u001b[0m\n\u001b[0m\u001b[1;32m      9\u001b[0m \u001b[0mprint\u001b[0m\u001b[0;34m(\u001b[0m\u001b[0mFn\u001b[0m\u001b[0;34m)\u001b[0m\u001b[0;34m\u001b[0m\u001b[0;34m\u001b[0m\u001b[0m\n",
      "\u001b[0;31mNameError\u001b[0m: name 'sin' is not defined"
     ]
    }
   ],
   "source": [
    "#30 for\n",
    "\n",
    "n = int(input(\"n = \"))\n",
    "A = int(input(\"A = \"))\n",
    "B = int(input(\"B = \"))\n",
    "\n",
    "for i in range(n):\n",
    "    Fn=1-sin(n)\n",
    "print(Fn)"
   ]
  },
  {
   "cell_type": "code",
   "execution_count": 6,
   "id": "08f713d9",
   "metadata": {},
   "outputs": [
    {
     "name": "stdout",
     "output_type": "stream",
     "text": [
      "n = 7\n",
      "2.4\n",
      "2.4166666666666665\n",
      "2.413793103448276\n",
      "2.414285714285714\n",
      "2.4142011834319526\n",
      "2.4142156862745097\n",
      "2.414213197969543\n"
     ]
    }
   ],
   "source": [
    "#31 for\n",
    "A0 = 2\n",
    "A1 = 2.5\n",
    "\n",
    "n = int(input(\"n = \"))\n",
    "for i in range(n):\n",
    "    A2 = 2+1/A1\n",
    "    A0=A1\n",
    "    A1=A2\n",
    "    print(A2)"
   ]
  },
  {
   "cell_type": "code",
   "execution_count": 7,
   "id": "6aa8fbfa",
   "metadata": {},
   "outputs": [
    {
     "name": "stdout",
     "output_type": "stream",
     "text": [
      "n = 5\n",
      "1.4714052287581698\n",
      "2.1380718954248366\n",
      "1.7856753812636164\n",
      "2.2301198257080608\n",
      "1.9951888162672475\n"
     ]
    }
   ],
   "source": [
    "#34 for \n",
    "\n",
    "A1 = 1\n",
    "A2 = 2\n",
    "\n",
    "n = int(input(\"n = \"))\n",
    "\n",
    "for i in range(n):\n",
    "    An = (A0+2*A1)/3\n",
    "    A1 = A2\n",
    "    A2 = An\n",
    "    print(An)"
   ]
  },
  {
   "cell_type": "code",
   "execution_count": 10,
   "id": "b4399b37",
   "metadata": {},
   "outputs": [
    {
     "name": "stdout",
     "output_type": "stream",
     "text": [
      "n = 5\n",
      "3\n",
      "2\n"
     ]
    }
   ],
   "source": [
    "#35 for\n",
    "\n",
    "A1 = 1\n",
    "A2 = 2\n",
    "A3 = 3\n",
    "\n",
    "n = int(input(\"n = \"))\n",
    "\n",
    "for i in range(4, n+1):\n",
    "    An = A3+A2-2*A1\n",
    "    A1 = A2\n",
    "    A2 = A3\n",
    "    A3 = An\n",
    "    print(An)"
   ]
  },
  {
   "cell_type": "code",
   "execution_count": 18,
   "id": "a2f771cd",
   "metadata": {},
   "outputs": [
    {
     "name": "stdout",
     "output_type": "stream",
     "text": [
      "n = 3\n",
      "K = 3\n",
      "13\n"
     ]
    }
   ],
   "source": [
    "#36 for \n",
    "\n",
    "n = int(input(\"n = \"))\n",
    "K = int(input(\"K = \"))\n",
    "\n",
    "S = 0\n",
    "\n",
    "for i in range(n):\n",
    "    S+=n**i\n",
    "print(S)"
   ]
  },
  {
   "cell_type": "code",
   "execution_count": 20,
   "id": "4b07a2fc",
   "metadata": {},
   "outputs": [
    {
     "name": "stdout",
     "output_type": "stream",
     "text": [
      "n = 3\n",
      "32\n"
     ]
    }
   ],
   "source": [
    "#37 for\n",
    "\n",
    "n = int(input(\"n = \"))\n",
    "\n",
    "S = 0\n",
    "\n",
    "for i in range(1, n+1):\n",
    "    S+=i**i\n",
    "print(S)\n",
    "    "
   ]
  },
  {
   "cell_type": "code",
   "execution_count": 22,
   "id": "c4578cae",
   "metadata": {},
   "outputs": [
    {
     "name": "stdout",
     "output_type": "stream",
     "text": [
      "n = 5\n",
      "65\n"
     ]
    }
   ],
   "source": [
    "#38 for \n",
    "\n",
    "n = int(input(\"n = \"))\n",
    "\n",
    "S = 0\n",
    "\n",
    "for i in range(1, n+1):\n",
    "    S+=i**(n-i+1)\n",
    "print(S)"
   ]
  },
  {
   "cell_type": "code",
   "execution_count": 25,
   "id": "ce06fa08",
   "metadata": {},
   "outputs": [
    {
     "name": "stdout",
     "output_type": "stream",
     "text": [
      "A = 3\n",
      "B = 6\n",
      "3 3 3 4 4 4 4 5 5 5 5 5 6 6 6 6 6 6 "
     ]
    }
   ],
   "source": [
    "#39 for \n",
    "\n",
    "A = int(input(\"A = \"))\n",
    "B = int(input(\"B = \"))\n",
    "\n",
    "for i in range(A, B+1):\n",
    "    for j in range(i):\n",
    "        print(i, end=\" \")"
   ]
  },
  {
   "cell_type": "code",
   "execution_count": 31,
   "id": "3df895fa",
   "metadata": {},
   "outputs": [
    {
     "name": "stdout",
     "output_type": "stream",
     "text": [
      "A = 3\n",
      "B = 7\n",
      "3 4 4 5 5 5 6 6 6 6 7 7 7 7 7 "
     ]
    }
   ],
   "source": [
    "#40 for \n",
    "\n",
    "A = int(input(\"A = \"))\n",
    "B = int(input(\"B = \"))\n",
    "\n",
    "for i in range(A, B+1):\n",
    "    for j in range(i-A+1):\n",
    "        print(i, end=\" \")"
   ]
  },
  {
   "cell_type": "code",
   "execution_count": 37,
   "id": "1e4bfbc5",
   "metadata": {},
   "outputs": [
    {
     "ename": "SyntaxError",
     "evalue": "invalid syntax (152053864.py, line 1)",
     "output_type": "error",
     "traceback": [
      "\u001b[0;36m  File \u001b[0;32m\"/var/folders/nx/h_hhzqx53bbcjldfl_ksywvr0000gn/T/ipykernel_6215/152053864.py\"\u001b[0;36m, line \u001b[0;32m1\u001b[0m\n\u001b[0;31m    for boshqa\u001b[0m\n\u001b[0m              ^\u001b[0m\n\u001b[0;31mSyntaxError\u001b[0m\u001b[0;31m:\u001b[0m invalid syntax\n"
     ]
    }
   ],
   "source": [
    "for boshqa\n",
    "\n",
    "0 1 2 3 4 \n",
    "1 0 1 2 3 \n",
    "2 1 0 1 2 \n",
    "3 2 1 0 1 \n",
    "4 3 2 1 0\n"
   ]
  },
  {
   "cell_type": "code",
   "execution_count": 40,
   "id": "8029ac9c",
   "metadata": {},
   "outputs": [
    {
     "name": "stdout",
     "output_type": "stream",
     "text": [
      "n = 25\n",
      "0 1 2 3 4 5 6 7 8 9 10 11 12 13 14 15 16 17 18 19 20 21 22 23 24 \n",
      "1 0 1 2 3 4 5 6 7 8 9 10 11 12 13 14 15 16 17 18 19 20 21 22 23 \n",
      "2 1 0 1 2 3 4 5 6 7 8 9 10 11 12 13 14 15 16 17 18 19 20 21 22 \n",
      "3 2 1 0 1 2 3 4 5 6 7 8 9 10 11 12 13 14 15 16 17 18 19 20 21 \n",
      "4 3 2 1 0 1 2 3 4 5 6 7 8 9 10 11 12 13 14 15 16 17 18 19 20 \n",
      "5 4 3 2 1 0 1 2 3 4 5 6 7 8 9 10 11 12 13 14 15 16 17 18 19 \n",
      "6 5 4 3 2 1 0 1 2 3 4 5 6 7 8 9 10 11 12 13 14 15 16 17 18 \n",
      "7 6 5 4 3 2 1 0 1 2 3 4 5 6 7 8 9 10 11 12 13 14 15 16 17 \n",
      "8 7 6 5 4 3 2 1 0 1 2 3 4 5 6 7 8 9 10 11 12 13 14 15 16 \n",
      "9 8 7 6 5 4 3 2 1 0 1 2 3 4 5 6 7 8 9 10 11 12 13 14 15 \n",
      "10 9 8 7 6 5 4 3 2 1 0 1 2 3 4 5 6 7 8 9 10 11 12 13 14 \n",
      "11 10 9 8 7 6 5 4 3 2 1 0 1 2 3 4 5 6 7 8 9 10 11 12 13 \n",
      "12 11 10 9 8 7 6 5 4 3 2 1 0 1 2 3 4 5 6 7 8 9 10 11 12 \n",
      "13 12 11 10 9 8 7 6 5 4 3 2 1 0 1 2 3 4 5 6 7 8 9 10 11 \n",
      "14 13 12 11 10 9 8 7 6 5 4 3 2 1 0 1 2 3 4 5 6 7 8 9 10 \n",
      "15 14 13 12 11 10 9 8 7 6 5 4 3 2 1 0 1 2 3 4 5 6 7 8 9 \n",
      "16 15 14 13 12 11 10 9 8 7 6 5 4 3 2 1 0 1 2 3 4 5 6 7 8 \n",
      "17 16 15 14 13 12 11 10 9 8 7 6 5 4 3 2 1 0 1 2 3 4 5 6 7 \n",
      "18 17 16 15 14 13 12 11 10 9 8 7 6 5 4 3 2 1 0 1 2 3 4 5 6 \n",
      "19 18 17 16 15 14 13 12 11 10 9 8 7 6 5 4 3 2 1 0 1 2 3 4 5 \n",
      "20 19 18 17 16 15 14 13 12 11 10 9 8 7 6 5 4 3 2 1 0 1 2 3 4 \n",
      "21 20 19 18 17 16 15 14 13 12 11 10 9 8 7 6 5 4 3 2 1 0 1 2 3 \n",
      "22 21 20 19 18 17 16 15 14 13 12 11 10 9 8 7 6 5 4 3 2 1 0 1 2 \n",
      "23 22 21 20 19 18 17 16 15 14 13 12 11 10 9 8 7 6 5 4 3 2 1 0 1 \n",
      "24 23 22 21 20 19 18 17 16 15 14 13 12 11 10 9 8 7 6 5 4 3 2 1 0 \n"
     ]
    }
   ],
   "source": [
    "#yechim\n",
    "\n",
    "n = int(input(\"n = \"))\n",
    "\n",
    "for i in range(n):\n",
    "    for j in range(i,0,-1):\n",
    "        print(j,end=\" \")\n",
    "    for j in range(0,n-i):\n",
    "        print(j, end=\" \")\n",
    "    print()"
   ]
  },
  {
   "cell_type": "code",
   "execution_count": 42,
   "id": "3124f23a",
   "metadata": {},
   "outputs": [
    {
     "name": "stdout",
     "output_type": "stream",
     "text": [
      "k = 3\n",
      "n = 4\n",
      "0.0411522633744856\n"
     ]
    }
   ],
   "source": [
    "#for boshqa\n",
    "\n",
    "k = int(input(\"k = \"))\n",
    "n = int(input(\"n = \"))\n",
    "\n",
    "S = 0\n",
    "\n",
    "for i in range(1, n+1):\n",
    "    S+=i/k**5\n",
    "print(S)"
   ]
  },
  {
   "cell_type": "code",
   "execution_count": 44,
   "id": "5cba6b4b",
   "metadata": {},
   "outputs": [
    {
     "name": "stdout",
     "output_type": "stream",
     "text": [
      "n = 5\n",
      "x = 4\n",
      "11.716666666666665\n"
     ]
    }
   ],
   "source": [
    "#for boshqa 2\n",
    "\n",
    "n = int(input(\"n = \"))\n",
    "x = int(input(\"x = \"))\n",
    "\n",
    "P = 1\n",
    "S = 0\n",
    "\n",
    "for i in range(1, n+1):\n",
    "    P *= i\n",
    "    S += 1/P+(x)**0.5\n",
    "    \n",
    "print(S)"
   ]
  },
  {
   "cell_type": "code",
   "execution_count": 47,
   "id": "94be3f81",
   "metadata": {},
   "outputs": [
    {
     "name": "stdout",
     "output_type": "stream",
     "text": [
      "N = 24\n",
      "1 2 3 4 6 8 12 24 "
     ]
    }
   ],
   "source": [
    "# sonni bo'luvchilarni topish\n",
    "\n",
    "N = int(input(\"N = \"))\n",
    "\n",
    "for i in range(1, N+1):\n",
    "    if N%i==0:\n",
    "        print(i, end=\" \")"
   ]
  },
  {
   "cell_type": "code",
   "execution_count": 53,
   "id": "a89e229a",
   "metadata": {},
   "outputs": [
    {
     "name": "stdout",
     "output_type": "stream",
     "text": [
      "N = 4\n",
      "7\n"
     ]
    }
   ],
   "source": [
    "N = int(input(\"N = \"))\n",
    "S = 0\n",
    "\n",
    "for i in range(1, N+1):\n",
    "    if N%i==0:\n",
    "        S+=i\n",
    "print(S)"
   ]
  },
  {
   "cell_type": "code",
   "execution_count": 57,
   "id": "1cc7306a",
   "metadata": {},
   "outputs": [
    {
     "name": "stdout",
     "output_type": "stream",
     "text": [
      "n = 34\n",
      "mukammal emass\n"
     ]
    }
   ],
   "source": [
    "# mukammal son yoki mukammal son emasligi\n",
    "\n",
    "n = int(input(\"n = \"))\n",
    "\n",
    "S = 0\n",
    "\n",
    "for i in range(1, n):\n",
    "    if n%i==0:\n",
    "        S+=i\n",
    "if S==n:\n",
    "    print(\"mukammal son\")\n",
    "else:\n",
    "    print(\"mukammal emass\")"
   ]
  },
  {
   "cell_type": "code",
   "execution_count": 73,
   "id": "be19d2f7",
   "metadata": {},
   "outputs": [
    {
     "name": "stdout",
     "output_type": "stream",
     "text": [
      "n = 100\n",
      "S =  0\n",
      "S =  1\n",
      "S =  1\n",
      "S =  3\n",
      "S =  1\n",
      "6 S =  6\n",
      "S =  1\n",
      "S =  7\n",
      "S =  4\n",
      "S =  8\n",
      "S =  1\n",
      "S =  16\n",
      "S =  1\n",
      "S =  10\n",
      "S =  9\n",
      "S =  15\n",
      "S =  1\n",
      "S =  21\n",
      "S =  1\n",
      "S =  22\n",
      "S =  11\n",
      "S =  14\n",
      "S =  1\n",
      "S =  36\n",
      "S =  6\n",
      "S =  16\n",
      "S =  13\n",
      "28 S =  28\n",
      "S =  1\n",
      "S =  42\n",
      "S =  1\n",
      "S =  31\n",
      "S =  15\n",
      "S =  20\n",
      "S =  13\n",
      "S =  55\n",
      "S =  1\n",
      "S =  22\n",
      "S =  17\n",
      "S =  50\n",
      "S =  1\n",
      "S =  54\n",
      "S =  1\n",
      "S =  40\n",
      "S =  33\n",
      "S =  26\n",
      "S =  1\n",
      "S =  76\n",
      "S =  8\n",
      "S =  43\n",
      "S =  21\n",
      "S =  46\n",
      "S =  1\n",
      "S =  66\n",
      "S =  17\n",
      "S =  64\n",
      "S =  23\n",
      "S =  32\n",
      "S =  1\n",
      "S =  108\n",
      "S =  1\n",
      "S =  34\n",
      "S =  41\n",
      "S =  63\n",
      "S =  19\n",
      "S =  78\n",
      "S =  1\n",
      "S =  58\n",
      "S =  27\n",
      "S =  74\n",
      "S =  1\n",
      "S =  123\n",
      "S =  1\n",
      "S =  40\n",
      "S =  49\n",
      "S =  64\n",
      "S =  19\n",
      "S =  90\n",
      "S =  1\n",
      "S =  106\n",
      "S =  40\n",
      "S =  44\n",
      "S =  1\n",
      "S =  140\n",
      "S =  23\n",
      "S =  46\n",
      "S =  33\n",
      "S =  92\n",
      "S =  1\n",
      "S =  144\n",
      "S =  21\n",
      "S =  76\n",
      "S =  35\n",
      "S =  50\n",
      "S =  25\n",
      "S =  156\n",
      "S =  1\n",
      "S =  73\n",
      "S =  57\n",
      "S =  117\n"
     ]
    }
   ],
   "source": [
    "# 1 dan N gacha mukammal sonlarni chiqaradigan dastur yozing\n",
    "n = int(input(\"n = \"))\n",
    "\n",
    "for i in range (1, n+1):\n",
    "    S = 0\n",
    "    for j in range(1,i):\n",
    "        \n",
    "        \n",
    "        if i%j==0:\n",
    "            S+=j\n",
    "    if S==i:\n",
    "        print(i,end=\" \")\n",
    "    print(\"S = \", S)\n"
   ]
  },
  {
   "cell_type": "code",
   "execution_count": null,
   "id": "153a8e68",
   "metadata": {},
   "outputs": [],
   "source": []
  }
 ],
 "metadata": {
  "kernelspec": {
   "display_name": "Python 3 (ipykernel)",
   "language": "python",
   "name": "python3"
  },
  "language_info": {
   "codemirror_mode": {
    "name": "ipython",
    "version": 3
   },
   "file_extension": ".py",
   "mimetype": "text/x-python",
   "name": "python",
   "nbconvert_exporter": "python",
   "pygments_lexer": "ipython3",
   "version": "3.9.7"
  }
 },
 "nbformat": 4,
 "nbformat_minor": 5
}
