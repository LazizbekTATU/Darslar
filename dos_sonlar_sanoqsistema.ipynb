{
 "cells": [
  {
   "cell_type": "code",
   "execution_count": 3,
   "id": "8edaad4b",
   "metadata": {},
   "outputs": [
    {
     "name": "stdout",
     "output_type": "stream",
     "text": [
      "a = 20\n",
      "b = 34\n",
      "10 11\n",
      "5 3\n",
      "2 1\n",
      "1 0\n",
      "0 0\n"
     ]
    }
   ],
   "source": [
    "\n",
    "\n",
    "a = int(input(\"a = \"))\n",
    "b = int(input(\"b = \"))\n",
    "\n",
    "while a!=b:\n",
    "    a//=2\n",
    "    b//=3\n",
    "    print(a,b)"
   ]
  },
  {
   "cell_type": "code",
   "execution_count": 6,
   "id": "723052c7",
   "metadata": {},
   "outputs": [
    {
     "name": "stdout",
     "output_type": "stream",
     "text": [
      "a = 8\n",
      "b = 5\n",
      "4 1\n",
      "2 0\n",
      "1 0\n"
     ]
    }
   ],
   "source": [
    "\n",
    "\n",
    "a = int(input(\"a = \"))\n",
    "b = int(input(\"b = \"))\n",
    "\n",
    "while True:\n",
    "    a//=2\n",
    "    b//=3\n",
    "    if a==b:\n",
    "        break\n",
    "    print(a,b)"
   ]
  },
  {
   "cell_type": "code",
   "execution_count": 10,
   "id": "416bf8ed",
   "metadata": {},
   "outputs": [
    {
     "name": "stdout",
     "output_type": "stream",
     "text": [
      "n = 45\n",
      "45 43 41 39 37 35 33 31 29 27 25 23 21 19 17 15 13 11 9 7 5 3 1 "
     ]
    }
   ],
   "source": [
    "n = int(input(\"n = \"))\n",
    "\n",
    "if n%2==0:\n",
    "    n-=1\n",
    "while n>=1:\n",
    "    print(n,end=\" \")\n",
    "    n-=2\n"
   ]
  },
  {
   "cell_type": "code",
   "execution_count": 11,
   "id": "3bf4e7e3",
   "metadata": {},
   "outputs": [
    {
     "name": "stdout",
     "output_type": "stream",
     "text": [
      "a = 1234\n",
      "4\n"
     ]
    }
   ],
   "source": [
    "# bitta son berilgan shu sonning nechta raqamdan tashkl topganini chiqaruvchi dastur\n",
    "\n",
    "a = int(input(\"a = \"))\n",
    "S = 0\n",
    "while a!=0:\n",
    "    a//=10\n",
    "    S+=1\n",
    "print(S)\n",
    "    "
   ]
  },
  {
   "cell_type": "code",
   "execution_count": 14,
   "id": "fa7328a8",
   "metadata": {},
   "outputs": [
    {
     "name": "stdout",
     "output_type": "stream",
     "text": [
      "a = 213\n",
      "1\n"
     ]
    }
   ],
   "source": [
    "a = int(input(\"a = \"))\n",
    "S = 0\n",
    "while a!=0:\n",
    "    if a%10==2:\n",
    "        S+=1\n",
    "    a//=10\n",
    "print(S)"
   ]
  },
  {
   "cell_type": "code",
   "execution_count": 21,
   "id": "b0f8da92",
   "metadata": {},
   "outputs": [
    {
     "name": "stdout",
     "output_type": "stream",
     "text": [
      "n = 34\n",
      "2 3 5 7 11 13 17 19 23 29 31 "
     ]
    }
   ],
   "source": [
    "# tub sonlarni optimallashtirish\n",
    "\n",
    "n = int(input(\"n = \"))\n",
    "\n",
    "for i in range(2, n+1):\n",
    "    S = 0\n",
    "    for j in range(1, n+1):\n",
    "        if i%j==0:\n",
    "            S+=1\n",
    "    if S==2:\n",
    "        print(i, end=\" \")\n",
    "            "
   ]
  },
  {
   "cell_type": "code",
   "execution_count": 27,
   "id": "fcf4cb7f",
   "metadata": {},
   "outputs": [
    {
     "name": "stdout",
     "output_type": "stream",
     "text": [
      "n = 23\n",
      "2 3 5 7 9 11 13 15 17 19 23 "
     ]
    }
   ],
   "source": [
    "from math import sqrt\n",
    "n = int(input(\"n = \"))\n",
    "print(2,end=\" \")\n",
    "for i in range(3, n+1,2):\n",
    "    S = 0\n",
    "    for j in range(3, int(sqrt(i)),2):\n",
    "        if i%j==0:\n",
    "            S+=1\n",
    "    if S==0:\n",
    "        print(i, end=\" \")\n",
    "            "
   ]
  },
  {
   "cell_type": "code",
   "execution_count": 31,
   "id": "ae2f96aa",
   "metadata": {},
   "outputs": [
    {
     "name": "stdout",
     "output_type": "stream",
     "text": [
      "N = 24\n",
      "1 2 3 4 6 8 12 "
     ]
    }
   ],
   "source": [
    "#1 N natural soni berilgan. Shu son bo'luvchilarini chiqaruvchi programma tuzing\n",
    "\n",
    "N = int(input(\"N = \"))\n",
    "\n",
    "while N>=0:\n",
    "    if N%"
   ]
  },
  {
   "cell_type": "code",
   "execution_count": 32,
   "id": "2ca1f06b",
   "metadata": {},
   "outputs": [
    {
     "name": "stdout",
     "output_type": "stream",
     "text": [
      "N = 34\n"
     ]
    }
   ],
   "source": [
    "#2 N natural soni berilgan. Shu son buluvchilari yigindisini chiqaruvchi programma tuzing\n",
    "\n",
    "N = int(input(\"N = \"))\n",
    "\n",
    "if N%2==0:\n",
    "    N+=1\n",
    "    while N<=1:\n",
    "        print(N, end=\"\")"
   ]
  },
  {
   "cell_type": "code",
   "execution_count": 34,
   "id": "a07e64f2",
   "metadata": {},
   "outputs": [
    {
     "name": "stdout",
     "output_type": "stream",
     "text": [
      "a = 4\n",
      "b = 5.2\n",
      "6.560487786742691\n"
     ]
    }
   ],
   "source": [
    "#boburjon\n",
    "\n",
    "\n",
    "a = int(input(\"a = \"))\n",
    "b = float(input(\"b = \"))\n",
    "\n",
    "S = (a**2+b**2)**0.5\n",
    "print(S)"
   ]
  },
  {
   "cell_type": "code",
   "execution_count": 36,
   "id": "5e163c47",
   "metadata": {},
   "outputs": [
    {
     "name": "stdout",
     "output_type": "stream",
     "text": [
      "a = 4\n",
      "b = 5.2\n",
      "6.560487786742691\n"
     ]
    }
   ],
   "source": [
    "from math import *  \n",
    "\n",
    "\n",
    "a = int(input(\"a = \"))\n",
    "b = float(input(\"b = \"))\n",
    "\n",
    "S = sqrt(pow(a,2)+pow(b,2))\n",
    "print(S)\n"
   ]
  },
  {
   "cell_type": "code",
   "execution_count": 41,
   "id": "c8e5c7b1",
   "metadata": {},
   "outputs": [
    {
     "name": "stdout",
     "output_type": "stream",
     "text": [
      "n = 1010\n",
      "Kiritish sanoq sistemasi = 2\n",
      "Chiqarish sanoq sistemasi = 10\n",
      "10\n"
     ]
    }
   ],
   "source": [
    "# 2 lik 0,1\n",
    "#4 lik 0,1,2,3,\n",
    "#8 lik 0,1,2,3,4,5,6,7\n",
    "#10 lik sanoq sistemasi 0,1,2,3,4,5,6,7,8,9\n",
    "\n",
    "n = int(input(\"n = \"))\n",
    "\n",
    "kirish = int(input(\"Kiritish sanoq sistemasi = \"))\n",
    "chiqarish = int(input(\"Chiqarish sanoq sistemasi = \"))\n",
    "\n",
    "daraja = 0\n",
    "onlik = 0\n",
    "\n",
    "while n>0:\n",
    "    oxiri = n%10\n",
    "    onlik += oxiri * kirish ** daraja\n",
    "    n//=10\n",
    "    daraja+=1\n",
    "print(onlik)"
   ]
  },
  {
   "cell_type": "code",
   "execution_count": 44,
   "id": "e4d12992",
   "metadata": {},
   "outputs": [
    {
     "name": "stdout",
     "output_type": "stream",
     "text": [
      "n = 1010\n",
      "Kiritish sanoq sistemasi = 2\n",
      "Chiqarish sanoq sistemasi = 4\n",
      "22\n"
     ]
    }
   ],
   "source": [
    "# sanoq sistema optimal\n",
    "\n",
    "n = int(input(\"n = \"))\n",
    "\n",
    "kirish = int(input(\"Kiritish sanoq sistemasi = \"))\n",
    "chiqarish = int(input(\"Chiqarish sanoq sistemasi = \"))\n",
    "\n",
    "daraja = 0\n",
    "onlik = 0\n",
    "\n",
    "while n>0:\n",
    "    oxiri = n%10\n",
    "    onlik += oxiri * kirish ** daraja\n",
    "    n//=10\n",
    "    daraja+=1\n",
    "\n",
    "    \n",
    "natija = 0\n",
    "S = 1\n",
    "while onlik>0:\n",
    "    qoldiq = onlik%chiqarish\n",
    "    natija += qoldiq * S\n",
    "    S *= 10\n",
    "    onlik //= chiqarish\n",
    "\n",
    "print(natija)"
   ]
  },
  {
   "cell_type": "code",
   "execution_count": 49,
   "id": "65df61d5",
   "metadata": {},
   "outputs": [
    {
     "name": "stdout",
     "output_type": "stream",
     "text": [
      "n = 1000\n",
      "220 284\n"
     ]
    }
   ],
   "source": [
    "# dos sonlar \n",
    "\n",
    "n = int(input(\"n = \"))\n",
    "\n",
    "for i in range(1, n+1):\n",
    "    S = 0\n",
    "    for j in range(1,i):\n",
    "        if i%j==0:\n",
    "            S+=j\n",
    "    if S>i:\n",
    "        S1 = 0\n",
    "        for j in range(1, S):\n",
    "            if S%j==0:\n",
    "                S1+=j\n",
    "            \n",
    "        if S1==i:\n",
    "            print(i,S)\n",
    "            "
   ]
  },
  {
   "cell_type": "code",
   "execution_count": 56,
   "id": "d59b2948",
   "metadata": {},
   "outputs": [
    {
     "name": "stdout",
     "output_type": "stream",
     "text": [
      "n = 100\n",
      "5 4 3\n",
      "10 8 6\n",
      "13 12 5\n",
      "15 12 9\n",
      "17 15 8\n",
      "20 16 12\n",
      "25 20 15\n",
      "25 24 7\n",
      "26 24 10\n",
      "29 21 20\n",
      "30 24 18\n",
      "34 30 16\n",
      "35 28 21\n",
      "37 35 12\n",
      "39 36 15\n",
      "40 32 24\n",
      "41 40 9\n",
      "45 36 27\n",
      "50 40 30\n",
      "50 48 14\n",
      "51 45 24\n",
      "52 48 20\n",
      "53 45 28\n",
      "55 44 33\n",
      "58 42 40\n",
      "60 48 36\n",
      "61 60 11\n",
      "65 52 39\n",
      "65 56 33\n",
      "65 60 25\n",
      "65 63 16\n",
      "68 60 32\n",
      "70 56 42\n",
      "73 55 48\n",
      "74 70 24\n",
      "75 60 45\n",
      "75 72 21\n",
      "78 72 30\n",
      "80 64 48\n",
      "82 80 18\n",
      "85 68 51\n",
      "85 75 40\n",
      "85 77 36\n",
      "85 84 13\n",
      "87 63 60\n",
      "89 80 39\n",
      "90 72 54\n",
      "91 84 35\n",
      "95 76 57\n",
      "97 72 65\n",
      "100 80 60\n",
      "100 96 28\n",
      "161700\n"
     ]
    }
   ],
   "source": [
    "# c**2 = a**2 + b**2\n",
    "\n",
    "n = int(input(\"n = \"))\n",
    "\n",
    "sana = 0\n",
    "\n",
    "for c in range(1, n+1):\n",
    "    for b in range(1,c ):\n",
    "        for a in range(1, b):\n",
    "            sana+=1\n",
    "            if c*c == a*a + b*b:\n",
    "                print(c,b,a)\n",
    "print(sana)"
   ]
  },
  {
   "cell_type": "code",
   "execution_count": 58,
   "id": "a6e950ca",
   "metadata": {},
   "outputs": [
    {
     "name": "stdout",
     "output_type": "stream",
     "text": [
      "n = 100\n",
      "5.0 4 3\n",
      "10.0 8 6\n",
      "13.0 12 5\n",
      "15.0 12 9\n",
      "17.0 15 8\n",
      "20.0 16 12\n",
      "25.0 20 15\n",
      "29.0 21 20\n",
      "25.0 24 7\n",
      "26.0 24 10\n",
      "30.0 24 18\n",
      "35.0 28 21\n",
      "34.0 30 16\n",
      "40.0 32 24\n",
      "37.0 35 12\n",
      "39.0 36 15\n",
      "45.0 36 27\n",
      "41.0 40 9\n",
      "50.0 40 30\n",
      "58.0 42 40\n",
      "55.0 44 33\n",
      "51.0 45 24\n",
      "53.0 45 28\n",
      "50.0 48 14\n",
      "52.0 48 20\n",
      "60.0 48 36\n",
      "65.0 52 39\n",
      "73.0 55 48\n",
      "65.0 56 33\n",
      "70.0 56 42\n",
      "61.0 60 11\n",
      "65.0 60 25\n",
      "68.0 60 32\n",
      "75.0 60 45\n",
      "65.0 63 16\n",
      "87.0 63 60\n",
      "80.0 64 48\n",
      "85.0 68 51\n",
      "74.0 70 24\n",
      "75.0 72 21\n",
      "78.0 72 30\n",
      "90.0 72 54\n",
      "97.0 72 65\n",
      "85.0 75 40\n",
      "95.0 76 57\n",
      "85.0 77 36\n",
      "82.0 80 18\n",
      "89.0 80 39\n",
      "100.0 80 60\n",
      "85.0 84 13\n",
      "91.0 84 35\n",
      "105.0 84 63\n",
      "116.0 84 80\n",
      "110.0 88 66\n",
      "102.0 90 48\n",
      "106.0 90 56\n",
      "109.0 91 60\n",
      "115.0 92 69\n",
      "100.0 96 28\n",
      "104.0 96 40\n",
      "120.0 96 72\n",
      "101.0 99 20\n",
      "125.0 100 75\n",
      "4950\n"
     ]
    }
   ],
   "source": [
    "# c**2 = a**2 + b**2\n",
    "from math import sqrt\n",
    "sana = 0\n",
    "n = int(input(\"n = \"))\n",
    "\n",
    "for b in range(1, n+1):\n",
    "    for a in range(1,b):\n",
    "        sana+=1\n",
    "        c = sqrt(a*a + b*b)\n",
    "        if c%1==0:\n",
    "            \n",
    "            print(c,b,a)\n",
    "print(sana)"
   ]
  },
  {
   "cell_type": "code",
   "execution_count": 59,
   "id": "f8d2c8f6",
   "metadata": {},
   "outputs": [
    {
     "name": "stdout",
     "output_type": "stream",
     "text": [
      "n = 100\n",
      "5 4 3\n",
      "10 8 6\n",
      "13 12 5\n",
      "15 12 9\n",
      "17 15 8\n",
      "20 16 12\n",
      "25 20 15\n",
      "25 24 7\n",
      "26 24 10\n",
      "29 21 20\n",
      "30 24 18\n",
      "34 30 16\n",
      "35 28 21\n",
      "37 35 12\n",
      "39 36 15\n",
      "40 32 24\n",
      "41 40 9\n",
      "45 36 27\n",
      "50 40 30\n",
      "50 48 14\n",
      "51 45 24\n",
      "52 48 20\n",
      "53 45 28\n",
      "55 44 33\n",
      "58 42 40\n",
      "60 48 36\n",
      "61 60 11\n",
      "65 52 39\n",
      "65 56 33\n",
      "65 60 25\n",
      "65 63 16\n",
      "68 60 32\n",
      "70 56 42\n",
      "73 55 48\n",
      "74 70 24\n",
      "75 60 45\n",
      "75 72 21\n",
      "78 72 30\n",
      "80 64 48\n",
      "82 80 18\n",
      "85 68 51\n",
      "85 75 40\n",
      "85 77 36\n",
      "85 84 13\n",
      "87 63 60\n",
      "89 80 39\n",
      "90 72 54\n",
      "91 84 35\n",
      "95 76 57\n",
      "97 72 65\n",
      "100 80 60\n",
      "100 96 28\n",
      "4950\n"
     ]
    }
   ],
   "source": [
    "from math import sqrt\n",
    "\n",
    "sana = 0\n",
    "\n",
    "n = int(input(\"n = \"))\n",
    "\n",
    "for c in range(1, n+1):\n",
    "    for b in range(1,c):\n",
    "        sana+=1\n",
    "        a = sqrt(c*c-b*b)\n",
    "        if a%1==0 and b>a:\n",
    "            print(c,b,int(a))\n",
    "print(sana)\n",
    "    "
   ]
  },
  {
   "cell_type": "code",
   "execution_count": null,
   "id": "319d6baa",
   "metadata": {},
   "outputs": [],
   "source": []
  }
 ],
 "metadata": {
  "kernelspec": {
   "display_name": "Python 3 (ipykernel)",
   "language": "python",
   "name": "python3"
  },
  "language_info": {
   "codemirror_mode": {
    "name": "ipython",
    "version": 3
   },
   "file_extension": ".py",
   "mimetype": "text/x-python",
   "name": "python",
   "nbconvert_exporter": "python",
   "pygments_lexer": "ipython3",
   "version": "3.9.7"
  }
 },
 "nbformat": 4,
 "nbformat_minor": 5
}
