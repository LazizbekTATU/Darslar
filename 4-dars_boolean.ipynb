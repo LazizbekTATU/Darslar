{
 "cells": [
  {
   "cell_type": "code",
   "execution_count": 2,
   "id": "6210a4f3",
   "metadata": {},
   "outputs": [
    {
     "name": "stdout",
     "output_type": "stream",
     "text": [
      "a=-67\n",
      "False\n"
     ]
    }
   ],
   "source": [
    "#boolean 1\n",
    "a=int(input(\"a=\"))\n",
    "print(a>0)"
   ]
  },
  {
   "cell_type": "code",
   "execution_count": 3,
   "id": "bec42452",
   "metadata": {},
   "outputs": [
    {
     "name": "stdout",
     "output_type": "stream",
     "text": [
      "a=67\n",
      "False\n"
     ]
    }
   ],
   "source": [
    "#boolean 2\n",
    "a=int(input(\"a=\"))\n",
    "print(a<0)"
   ]
  },
  {
   "cell_type": "code",
   "execution_count": 5,
   "id": "9638e41a",
   "metadata": {},
   "outputs": [
    {
     "name": "stdout",
     "output_type": "stream",
     "text": [
      "a=89\n",
      "False\n"
     ]
    }
   ],
   "source": [
    "#boolean 3\n",
    "a=int(input(\"a=\"))\n",
    "print(a%2==0)"
   ]
  },
  {
   "cell_type": "code",
   "execution_count": 6,
   "id": "c80a51fd",
   "metadata": {},
   "outputs": [
    {
     "name": "stdout",
     "output_type": "stream",
     "text": [
      "A=6\n",
      "B=78\n",
      "False\n"
     ]
    }
   ],
   "source": [
    "#boolean 4\n",
    "A=int(input(\"A=\"))\n",
    "B=int(input(\"B=\"))\n",
    "print(A>2 and B<=3)"
   ]
  },
  {
   "cell_type": "code",
   "execution_count": 7,
   "id": "05c50de4",
   "metadata": {},
   "outputs": [
    {
     "name": "stdout",
     "output_type": "stream",
     "text": [
      "A=2\n",
      "B=-90\n",
      "True\n"
     ]
    }
   ],
   "source": [
    "#boolean 5\n",
    "A=int(input(\"A=\"))\n",
    "B=int(input(\"B=\"))\n",
    "print(A>=0 and B<-2)"
   ]
  },
  {
   "cell_type": "code",
   "execution_count": 9,
   "id": "e790bd1c",
   "metadata": {},
   "outputs": [
    {
     "name": "stdout",
     "output_type": "stream",
     "text": [
      "A=4\n",
      "B=3\n",
      "C=2\n",
      "False\n"
     ]
    }
   ],
   "source": [
    "#boolean 6\n",
    "A=int(input(\"A=\"))\n",
    "B=int(input(\"B=\"))\n",
    "C=int(input(\"C=\"))\n",
    "print(A<=B<=C)"
   ]
  },
  {
   "cell_type": "code",
   "execution_count": 13,
   "id": "aeef755f",
   "metadata": {},
   "outputs": [
    {
     "name": "stdout",
     "output_type": "stream",
     "text": [
      "A=4\n",
      "B=3\n",
      "C=2\n",
      "True\n"
     ]
    }
   ],
   "source": [
    "#boolean 7\n",
    "A=int(input(\"A=\"))\n",
    "B=int(input(\"B=\"))\n",
    "C=int(input(\"C=\"))\n",
    "print(A>B>C or A<B<C)"
   ]
  },
  {
   "cell_type": "code",
   "execution_count": 15,
   "id": "7103226f",
   "metadata": {},
   "outputs": [
    {
     "name": "stdout",
     "output_type": "stream",
     "text": [
      "A=23\n",
      "B=24\n",
      "False\n"
     ]
    }
   ],
   "source": [
    "#boolean 8 \n",
    "A=int(input(\"A=\"))\n",
    "B=int(input(\"B=\"))\n",
    "print(A%2==1 and B%2==1)"
   ]
  },
  {
   "cell_type": "code",
   "execution_count": 17,
   "id": "7b89aca8",
   "metadata": {},
   "outputs": [
    {
     "name": "stdout",
     "output_type": "stream",
     "text": [
      "A=21\n",
      "B=22\n",
      "True\n"
     ]
    }
   ],
   "source": [
    "#boolean 9\n",
    "A=int(input(\"A=\"))\n",
    "B=int(input(\"B=\"))\n",
    "print(A%2==1 or B%2==1)"
   ]
  },
  {
   "cell_type": "code",
   "execution_count": 19,
   "id": "51dea102",
   "metadata": {},
   "outputs": [
    {
     "name": "stdout",
     "output_type": "stream",
     "text": [
      "A=23\n",
      "B=42\n",
      "True\n"
     ]
    }
   ],
   "source": [
    "#boolean 10\n",
    "A=int(input(\"A=\"))\n",
    "B=int(input(\"B=\"))\n",
    "print(A%2==1 and B%2==0 or A%2==0 and B%2==1)"
   ]
  },
  {
   "cell_type": "code",
   "execution_count": 22,
   "id": "e625554f",
   "metadata": {},
   "outputs": [
    {
     "name": "stdout",
     "output_type": "stream",
     "text": [
      "A=34\n",
      "B=45\n",
      "False\n"
     ]
    }
   ],
   "source": [
    "#boolean 11\n",
    "A=int(input(\"A=\"))\n",
    "B=int(input(\"B=\"))\n",
    "print(A%2==0 and B%2==0 or A%2==1 and B%2==1)"
   ]
  },
  {
   "cell_type": "code",
   "execution_count": 2,
   "id": "312d87b5",
   "metadata": {},
   "outputs": [
    {
     "name": "stdout",
     "output_type": "stream",
     "text": [
      "a=3\n",
      "b=3\n",
      "True\n"
     ]
    }
   ],
   "source": [
    "#bool 11.1\\\n",
    "a=int(input(\"a=\"))\n",
    "b=int(input(\"b=\"))\n",
    "c=a%2==b%2\n",
    "print(c)"
   ]
  },
  {
   "cell_type": "code",
   "execution_count": 4,
   "id": "57d31a6b",
   "metadata": {},
   "outputs": [
    {
     "name": "stdout",
     "output_type": "stream",
     "text": [
      "a=2\n",
      "b=4\n",
      "True\n"
     ]
    }
   ],
   "source": [
    "#bool 11.2\n",
    "a=int(input(\"a=\"))\n",
    "b=int(input(\"b=\"))\n",
    "c=(a+b)%2==0\n",
    "print(c)"
   ]
  },
  {
   "cell_type": "code",
   "execution_count": 24,
   "id": "5ed9745f",
   "metadata": {},
   "outputs": [
    {
     "name": "stdout",
     "output_type": "stream",
     "text": [
      "A=90\n",
      "B=66\n",
      "C=44\n",
      "True\n"
     ]
    }
   ],
   "source": [
    "#boolean 12\n",
    "A=int(input(\"A=\"))\n",
    "B=int(input(\"B=\"))\n",
    "C=int(input(\"C=\"))\n",
    "print(A%2==0 and B%2==0 and C%2==0)"
   ]
  },
  {
   "cell_type": "code",
   "execution_count": 2,
   "id": "7e533b97",
   "metadata": {},
   "outputs": [
    {
     "name": "stdout",
     "output_type": "stream",
     "text": [
      "A=23\n",
      "B=34\n",
      "C=23\n",
      "True\n"
     ]
    }
   ],
   "source": [
    "#boolean 13\n",
    "A=int(input(\"A=\"))\n",
    "B=int(input(\"B=\"))\n",
    "C=int(input(\"C=\"))\n",
    "print(A%2==0 or B%2==0 or C%2==0)"
   ]
  },
  {
   "cell_type": "code",
   "execution_count": 12,
   "id": "a67e0977",
   "metadata": {},
   "outputs": [
    {
     "name": "stdout",
     "output_type": "stream",
     "text": [
      "a=23\n",
      "b=-23\n",
      "c=-45\n",
      "True\n"
     ]
    }
   ],
   "source": [
    "#boolean 14\n",
    "a=int(input(\"a=\"))\n",
    "b=int(input(\"b=\"))\n",
    "c=int(input(\"c=\"))\n",
    "print(a>0 and b<0 and c<0 or a<0 and b>0 and c<0 or a<0 and b<0 and c>0 )"
   ]
  },
  {
   "cell_type": "code",
   "execution_count": 5,
   "id": "2ccdc957",
   "metadata": {},
   "outputs": [
    {
     "name": "stdout",
     "output_type": "stream",
     "text": [
      "A=12\n",
      "B=24\n",
      "C=23\n",
      "True\n"
     ]
    }
   ],
   "source": [
    "#boolean 15\n",
    "A=int(input(\"A=\"))\n",
    "B=int(input(\"B=\"))\n",
    "C=int(input(\"C=\"))\n",
    "print(A%2==0 and B%2==0 and C%2==1 or A%2==0 and B%2==1 and C%2==0 or A%2==1 and B%2==0 and C%2==0)"
   ]
  },
  {
   "cell_type": "code",
   "execution_count": 6,
   "id": "534de2d6",
   "metadata": {},
   "outputs": [
    {
     "name": "stdout",
     "output_type": "stream",
     "text": [
      "a=24\n",
      "True\n"
     ]
    }
   ],
   "source": [
    "#boolean 16 \n",
    "a_2xonali=int(input(\"a=\"))\n",
    "print(a_2xonali%2==0)"
   ]
  },
  {
   "cell_type": "code",
   "execution_count": 8,
   "id": "ec54cc09",
   "metadata": {},
   "outputs": [
    {
     "name": "stdout",
     "output_type": "stream",
     "text": [
      "a=345\n",
      "True\n"
     ]
    }
   ],
   "source": [
    "#boolean 17\n",
    "a=int(input(\"a=\"))\n",
    "print(a%2==1 and 99<a<1000)"
   ]
  },
  {
   "cell_type": "code",
   "execution_count": 12,
   "id": "1d3621ba",
   "metadata": {},
   "outputs": [
    {
     "name": "stdout",
     "output_type": "stream",
     "text": [
      "A=12\n",
      "B=13\n",
      "C=14\n",
      "False\n"
     ]
    }
   ],
   "source": [
    "#boolean 18\n",
    "A=int(input(\"A=\"))\n",
    "B=int(input(\"B=\"))\n",
    "C=int(input(\"C=\"))\n",
    "print(A==B or A==C or B==C)"
   ]
  },
  {
   "cell_type": "code",
   "execution_count": 11,
   "id": "e1195069",
   "metadata": {},
   "outputs": [
    {
     "name": "stdout",
     "output_type": "stream",
     "text": [
      "A=3\n",
      "B=4\n",
      "C=-3\n",
      "True\n"
     ]
    }
   ],
   "source": [
    "#boolean 19\n",
    "\n",
    "A=int(input(\"A=\"))\n",
    "B=int(input(\"B=\"))\n",
    "C=int(input(\"C=\"))\n",
    "\n",
    "print(A==-B or B==-C or A==-C)"
   ]
  },
  {
   "cell_type": "code",
   "execution_count": 14,
   "id": "5e8bc632",
   "metadata": {},
   "outputs": [
    {
     "name": "stdout",
     "output_type": "stream",
     "text": [
      "a=123\n",
      "True\n"
     ]
    }
   ],
   "source": [
    "#boolean 20\n",
    "a=int(input(\"a=\"))\n",
    "a1=a//100\n",
    "a2=a%100//10\n",
    "a3=a%10\n",
    "print(a1!=a2!=a3!=a1)"
   ]
  },
  {
   "cell_type": "code",
   "execution_count": 18,
   "id": "5590e527",
   "metadata": {},
   "outputs": [
    {
     "name": "stdout",
     "output_type": "stream",
     "text": [
      "a=432\n",
      "False\n"
     ]
    }
   ],
   "source": [
    "#boolean 21\n",
    "a=int(input(\"a=\"))\n",
    "a1=a//100\n",
    "a2=a%100//10\n",
    "a3=a%10\n",
    "print(a1<a2<a3)\n"
   ]
  },
  {
   "cell_type": "code",
   "execution_count": 22,
   "id": "1d719acb",
   "metadata": {},
   "outputs": [
    {
     "name": "stdout",
     "output_type": "stream",
     "text": [
      "a=432\n",
      "True\n"
     ]
    }
   ],
   "source": [
    "#boolean 22\n",
    "a=int(input(\"a=\"))\n",
    "a1=a//100\n",
    "a2=a%100//10\n",
    "a3=a%10\n",
    "print(a1<a2<a3 or a1>a2>a3)\n"
   ]
  },
  {
   "cell_type": "code",
   "execution_count": 25,
   "id": "cb11112d",
   "metadata": {},
   "outputs": [
    {
     "name": "stdout",
     "output_type": "stream",
     "text": [
      "a=121\n",
      "True\n"
     ]
    }
   ],
   "source": [
    "#boolean 23\n",
    "a=int(input(\"a=\"))\n",
    "a1=a//100\n",
    "a2=a%100//10\n",
    "a3=a%10\n",
    "print(a1==a3)\n"
   ]
  },
  {
   "cell_type": "code",
   "execution_count": 28,
   "id": "fc0d6360",
   "metadata": {},
   "outputs": [
    {
     "name": "stdout",
     "output_type": "stream",
     "text": [
      "A=1\n",
      "B=8\n",
      "C=4\n",
      "True\n",
      "False\n"
     ]
    }
   ],
   "source": [
    "#boolean 24\n",
    "A=int(input(\"A=\"))\n",
    "B=int(input(\"B=\"))\n",
    "C=int(input(\"C=\"))\n",
    "D=B**2-4*A*C\n",
    "x1=(-B-D**0.5)/2*A\n",
    "x2=(-B+D**0.5)/2*A\n",
    "print(A*x1**2+B*x1+C==0)\n",
    "print(A*x2**2+B*x2+C==0)"
   ]
  },
  {
   "cell_type": "code",
   "execution_count": 30,
   "id": "6440de3d",
   "metadata": {},
   "outputs": [
    {
     "name": "stdout",
     "output_type": "stream",
     "text": [
      "x=-90\n",
      "y=78\n",
      "True\n"
     ]
    }
   ],
   "source": [
    "#boolean 25\n",
    "x=int(input(\"x=\"))\n",
    "y=int(input(\"y=\"))\n",
    "print(x<0 and y>0)"
   ]
  },
  {
   "cell_type": "code",
   "execution_count": 31,
   "id": "a69e908a",
   "metadata": {},
   "outputs": [
    {
     "name": "stdout",
     "output_type": "stream",
     "text": [
      "x=34\n",
      "y=-23\n",
      "True\n"
     ]
    }
   ],
   "source": [
    "#boolean 26\n",
    "x=int(input(\"x=\"))\n",
    "y=int(input(\"y=\"))\n",
    "print(y<0 and x>0)"
   ]
  },
  {
   "cell_type": "code",
   "execution_count": 34,
   "id": "28819a3e",
   "metadata": {},
   "outputs": [
    {
     "name": "stdout",
     "output_type": "stream",
     "text": [
      "x=-23\n",
      "y=3\n",
      "True\n"
     ]
    }
   ],
   "source": [
    "#boolean 27\n",
    "x=int(input(\"x=\"))\n",
    "y=int(input(\"y=\"))\n",
    "print(y!=0 and x<0)"
   ]
  },
  {
   "cell_type": "code",
   "execution_count": 35,
   "id": "198e7355",
   "metadata": {},
   "outputs": [
    {
     "name": "stdout",
     "output_type": "stream",
     "text": [
      "x=23\n",
      "y=23\n",
      "True\n"
     ]
    }
   ],
   "source": [
    "#boolean 28\n",
    "x=int(input(\"x=\"))\n",
    "y=int(input(\"y=\"))\n",
    "print(x>0 and y!=0)"
   ]
  },
  {
   "cell_type": "code",
   "execution_count": 36,
   "id": "d8df8b7b",
   "metadata": {},
   "outputs": [
    {
     "name": "stdout",
     "output_type": "stream",
     "text": [
      "x=4\n",
      "y=5\n",
      "x1=1\n",
      "y1=7\n",
      "x2=8\n",
      "y2=1\n",
      "True\n"
     ]
    }
   ],
   "source": [
    "#boolean 29\n",
    "x=int(input(\"x=\"))\n",
    "y=int(input(\"y=\"))\n",
    "x1=int(input(\"x1=\"))\n",
    "y1=int(input(\"y1=\"))\n",
    "x2=int(input(\"x2=\"))\n",
    "y2=int(input(\"y2=\"))\n",
    "print(x1<x<x2 and y2<y<y1)"
   ]
  },
  {
   "cell_type": "code",
   "execution_count": 37,
   "id": "34b41822",
   "metadata": {},
   "outputs": [
    {
     "name": "stdout",
     "output_type": "stream",
     "text": [
      "a=2\n",
      "b=2\n",
      "c=2\n",
      "True\n"
     ]
    }
   ],
   "source": [
    "#boolean 30 \n",
    "a=int(input(\"a=\"))\n",
    "b=int(input(\"b=\"))\n",
    "c=int(input(\"c=\"))\n",
    "print(a==b==c)"
   ]
  },
  {
   "cell_type": "code",
   "execution_count": 38,
   "id": "081c22fe",
   "metadata": {},
   "outputs": [
    {
     "name": "stdout",
     "output_type": "stream",
     "text": [
      "a=2\n",
      "b=4\n",
      "c=2\n",
      "True\n"
     ]
    }
   ],
   "source": [
    "#boolean 31\n",
    "a=int(input(\"a=\"))\n",
    "b=int(input(\"b=\"))\n",
    "c=int(input(\"c=\"))\n",
    "print(a==b or b==c or a==c)"
   ]
  },
  {
   "cell_type": "code",
   "execution_count": 43,
   "id": "2cf4633e",
   "metadata": {},
   "outputs": [
    {
     "name": "stdout",
     "output_type": "stream",
     "text": [
      "a=4\n",
      "b=3\n",
      "c=5\n",
      "True\n"
     ]
    }
   ],
   "source": [
    "#boolean 32\n",
    "a=int(input(\"a=\"))\n",
    "b=int(input(\"b=\"))\n",
    "c=int(input(\"c=\"))\n",
    "print(c**2==a**2+b**2 or a**2==b*b+c*c or b*b==a*a+c*c)"
   ]
  },
  {
   "cell_type": "code",
   "execution_count": 44,
   "id": "bdec450d",
   "metadata": {},
   "outputs": [
    {
     "name": "stdout",
     "output_type": "stream",
     "text": [
      "a=3\n",
      "b=4\n",
      "c=7\n",
      "True\n"
     ]
    }
   ],
   "source": [
    "#boolean 33\n",
    "a=int(input(\"a=\"))\n",
    "b=int(input(\"b=\"))\n",
    "c=int(input(\"c=\"))\n",
    "print(a+b>=c or b+c>=a or a+c>=b)"
   ]
  },
  {
   "cell_type": "code",
   "execution_count": 18,
   "id": "3cfdb6d5",
   "metadata": {},
   "outputs": [
    {
     "name": "stdout",
     "output_type": "stream",
     "text": [
      "x=7\n",
      "y=4\n",
      "True\n"
     ]
    }
   ],
   "source": [
    "#boolean 34\n",
    "x=int(input(\"x=\"))\n",
    "y=int(input(\"y=\"))\n",
    "print((x+y)%2==1)"
   ]
  },
  {
   "cell_type": "code",
   "execution_count": 19,
   "id": "b23ff2eb",
   "metadata": {},
   "outputs": [
    {
     "name": "stdout",
     "output_type": "stream",
     "text": [
      "x1=3\n",
      "y1=5\n",
      "x2=4\n",
      "y2=8\n",
      "True\n"
     ]
    }
   ],
   "source": [
    "#boolean 35\n",
    "x1=int(input(\"x1=\"))\n",
    "y1=int(input(\"y1=\"))\n",
    "x2=int(input(\"x2=\"))\n",
    "y2=int(input(\"y2=\"))\n",
    "print((x1+y1)%2==(x2+y2)%2)"
   ]
  },
  {
   "cell_type": "code",
   "execution_count": 20,
   "id": "55498d3a",
   "metadata": {},
   "outputs": [
    {
     "name": "stdout",
     "output_type": "stream",
     "text": [
      "x1=34\n",
      "y1=23\n",
      "x2=34\n",
      "y2=54\n",
      "True\n"
     ]
    }
   ],
   "source": [
    "#boolean 36\n",
    "x1=int(input(\"x1=\"))\n",
    "y1=int(input(\"y1=\"))\n",
    "x2=int(input(\"x2=\"))\n",
    "y2=int(input(\"y2=\"))\n",
    "print(x1==x2 or y1==y2)"
   ]
  },
  {
   "cell_type": "code",
   "execution_count": 23,
   "id": "d08868ee",
   "metadata": {},
   "outputs": [
    {
     "name": "stdout",
     "output_type": "stream",
     "text": [
      "x1=5\n",
      "y1=4\n",
      "x2=6\n",
      "y2=5\n",
      "True\n"
     ]
    }
   ],
   "source": [
    "#boolean 37\n",
    "x1=int(input(\"x1=\"))\n",
    "y1=int(input(\"y1=\"))\n",
    "x2=int(input(\"x2=\"))\n",
    "y2=int(input(\"y2=\"))\n",
    "print(x1-1<=x2<=x1+1 and y1-1<=y2<=y1+1)"
   ]
  },
  {
   "cell_type": "code",
   "execution_count": 33,
   "id": "6bad5164",
   "metadata": {},
   "outputs": [
    {
     "name": "stdout",
     "output_type": "stream",
     "text": [
      "x1=3\n",
      "y1=4\n",
      "x2=5\n",
      "y2=6\n",
      "True\n"
     ]
    }
   ],
   "source": [
    "#boolean 38\n",
    "x1=int(input(\"x1=\"))\n",
    "y1=int(input(\"y1=\"))\n",
    "x2=int(input(\"x2=\"))\n",
    "y2=int(input(\"y2=\"))\n",
    "print(x1+y1==x2+y2 or x1-y1==x2-y2)"
   ]
  },
  {
   "cell_type": "code",
   "execution_count": 35,
   "id": "07034e93",
   "metadata": {},
   "outputs": [
    {
     "name": "stdout",
     "output_type": "stream",
     "text": [
      "x1=2\n",
      "y1=3\n",
      "x2=4\n",
      "y2=5\n",
      "True\n"
     ]
    }
   ],
   "source": [
    "#boolean 39\n",
    "x1=int(input(\"x1=\"))\n",
    "y1=int(input(\"y1=\"))\n",
    "x2=int(input(\"x2=\"))\n",
    "y2=int(input(\"y2=\"))\n",
    "print((x1+y1==x2+y2 or x1-y1==x2-y2) or x1==x2 or y1==y2 )"
   ]
  },
  {
   "cell_type": "code",
   "execution_count": 38,
   "id": "a52ed53e",
   "metadata": {},
   "outputs": [
    {
     "name": "stdout",
     "output_type": "stream",
     "text": [
      "x1=3\n",
      "y1=1\n",
      "x2=5\n",
      "y2=2\n",
      "True\n"
     ]
    }
   ],
   "source": [
    "#boolean 40\n",
    "x1=int(input(\"x1=\"))\n",
    "y1=int(input(\"y1=\"))\n",
    "x2=int(input(\"x2=\"))\n",
    "y2=int(input(\"y2=\"))\n",
    "print((abs(x1-x2)==2 and abs(y1-y2)==1 or abs(x1-x2)==1 and abs(y1-y2)==2) and (x1!=x2 and y1!=y2))"
   ]
  },
  {
   "cell_type": "code",
   "execution_count": null,
   "id": "995b8e9e",
   "metadata": {},
   "outputs": [],
   "source": []
  }
 ],
 "metadata": {
  "kernelspec": {
   "display_name": "Python 3 (ipykernel)",
   "language": "python",
   "name": "python3"
  },
  "language_info": {
   "codemirror_mode": {
    "name": "ipython",
    "version": 3
   },
   "file_extension": ".py",
   "mimetype": "text/x-python",
   "name": "python",
   "nbconvert_exporter": "python",
   "pygments_lexer": "ipython3",
   "version": "3.9.7"
  }
 },
 "nbformat": 4,
 "nbformat_minor": 5
}
