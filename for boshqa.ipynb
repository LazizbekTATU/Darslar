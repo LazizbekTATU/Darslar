{
 "cells": [
  {
   "cell_type": "code",
   "execution_count": 1,
   "id": "46c2159b",
   "metadata": {},
   "outputs": [
    {
     "name": "stdout",
     "output_type": "stream",
     "text": [
      "n = 7\n",
      "28\n"
     ]
    }
   ],
   "source": [
    "#1 for boshqa  1 dan n gacha sonlar yigindisi\n",
    "\n",
    "n = int(input(\"n = \"))\n",
    "\n",
    "S = 0\n",
    "\n",
    "for i in range(1, n+1):\n",
    "    S+=i\n",
    "print(S)"
   ]
  },
  {
   "cell_type": "code",
   "execution_count": 3,
   "id": "75e604ad",
   "metadata": {},
   "outputs": [
    {
     "name": "stdout",
     "output_type": "stream",
     "text": [
      "n = 100\n",
      "9\n"
     ]
    }
   ],
   "source": [
    "# N sonini bo'luvchilar sonini topish\n",
    "\n",
    "n = int(input(\"n = \"))\n",
    "\n",
    "S = 0\n",
    "\n",
    "for i in range(1, n+1):\n",
    "    if n%i==0:\n",
    "        S=S+1\n",
    "print(S)"
   ]
  },
  {
   "cell_type": "code",
   "execution_count": 7,
   "id": "5118cf88",
   "metadata": {},
   "outputs": [
    {
     "name": "stdout",
     "output_type": "stream",
     "text": [
      "n = 36\n",
      "Tub emas\n"
     ]
    }
   ],
   "source": [
    "#3 for tub yoki tub emasligi\n",
    "\n",
    "n = int(input(\"n = \"))\n",
    "\n",
    "S = 0\n",
    "\n",
    "for i in range(1, n+1):\n",
    "    if n%i==0:\n",
    "        S+=1\n",
    "if S==2:\n",
    "    print(\"Tub son\")\n",
    "else:\n",
    "    print(\"Tub emas\")"
   ]
  },
  {
   "cell_type": "code",
   "execution_count": 1,
   "id": "44bedb72",
   "metadata": {},
   "outputs": [
    {
     "name": "stdout",
     "output_type": "stream",
     "text": [
      "n = 34\n",
      "2 3 5 7 11 13 17 19 23 29 31 "
     ]
    }
   ],
   "source": [
    "#4 for 1 dan n gacha bo'lgan tub sonlarni, va ularning nechtaligi ekranga chiqaruvchi dastur\n",
    "\n",
    "n = int(input(\"n = \"))\n",
    "\n",
    "for i in range(2, n+1):\n",
    "    S = 0\n",
    "    for j in range(1, i+1):\n",
    "        \n",
    "        if i%j==0:\n",
    "            S+=1\n",
    "    if S==2:\n",
    "        print(i, end=\" \")"
   ]
  },
  {
   "cell_type": "code",
   "execution_count": 5,
   "id": "734b9496",
   "metadata": {},
   "outputs": [
    {
     "name": "stdout",
     "output_type": "stream",
     "text": [
      "n = 34\n",
      "2 3 5 7 11 13 17 19 23 29 31 Oxirgi tub son 31\n"
     ]
    }
   ],
   "source": [
    "# for boshqa 1 dan n gacha kiritilgan sonlarning oxirisini chiqaring \n",
    "\n",
    "n = int(input(\"n = \"))\n",
    "\n",
    "for i in range(2, n+1):\n",
    "    S = 0\n",
    "    for j in range(1, i+1):\n",
    "        if i%j==0:\n",
    "            S+=1\n",
    "    if S==2:\n",
    "        oxiri=i\n",
    "        print(i, end=\" \")\n",
    "print(\"Oxirgi tub son\", oxiri)\n"
   ]
  },
  {
   "cell_type": "code",
   "execution_count": 9,
   "id": "6453320b",
   "metadata": {},
   "outputs": [
    {
     "name": "stdout",
     "output_type": "stream",
     "text": [
      "n = 45\n",
      "43\n"
     ]
    }
   ],
   "source": [
    "# for 2-usul. 1 dan n gacha bo'ldan tub sonlarni va oxirgi tub sonni chiqaring\n",
    "\n",
    "n = int(input(\"n = \"))\n",
    "\n",
    "for i in range(n, 1,-1):\n",
    "    S = 0\n",
    "    for j in range(1, i+1):\n",
    "        if i%j==0:\n",
    "            S+=1\n",
    "    if S==2:\n",
    "        print(i)\n",
    "        break"
   ]
  },
  {
   "cell_type": "code",
   "execution_count": 13,
   "id": "ab2dbb02",
   "metadata": {},
   "outputs": [
    {
     "name": "stdout",
     "output_type": "stream",
     "text": [
      "n = 23\n",
      "3.73429151108684\n"
     ]
    }
   ],
   "source": [
    "# S=1/1+1/2+1/3...+1/n\n",
    "\n",
    "n = int(input(\"n = \"))\n",
    "\n",
    "S = 0\n",
    "\n",
    "for i in range(1, n+1):\n",
    "    S+=1/i\n",
    "print(S)"
   ]
  },
  {
   "cell_type": "code",
   "execution_count": 20,
   "id": "ce61cd0b",
   "metadata": {},
   "outputs": [
    {
     "name": "stdout",
     "output_type": "stream",
     "text": [
      "n = 23\n",
      "0.0\n"
     ]
    }
   ],
   "source": [
    "# S = 1/-n+1/-(n-1)+1/-(n-2)...+1/n\n",
    "\n",
    "n = int(input(\"n = \"))\n",
    "\n",
    "S = 0\n",
    "\n",
    "for i in range(-n, n+1):\n",
    "    if i==0:\n",
    "        continue\n",
    "    S+=1/i\n",
    "print(round(S,2))"
   ]
  },
  {
   "cell_type": "code",
   "execution_count": 21,
   "id": "c09c5cf1",
   "metadata": {},
   "outputs": [
    {
     "name": "stdout",
     "output_type": "stream",
     "text": [
      "n = 5\n",
      "120\n"
     ]
    }
   ],
   "source": [
    "# 5 for boshqa \n",
    "\n",
    "n = int(input(\"n = \"))\n",
    "P = 1\n",
    "\n",
    "for i in range(1, n+1):\n",
    "    P*=i\n",
    "print(P)\n",
    "    \n",
    "    "
   ]
  },
  {
   "cell_type": "code",
   "execution_count": 1,
   "id": "84f9e891",
   "metadata": {},
   "outputs": [
    {
     "name": "stdout",
     "output_type": "stream",
     "text": [
      "n = 78\n"
     ]
    },
    {
     "ename": "NameError",
     "evalue": "name 'n' is not defined",
     "output_type": "error",
     "traceback": [
      "\u001b[0;31m---------------------------------------------------------------------------\u001b[0m",
      "\u001b[0;31mNameError\u001b[0m                                 Traceback (most recent call last)",
      "\u001b[0;32m/var/folders/nx/h_hhzqx53bbcjldfl_ksywvr0000gn/T/ipykernel_3923/3626839563.py\u001b[0m in \u001b[0;36m<module>\u001b[0;34m\u001b[0m\n\u001b[1;32m      3\u001b[0m \u001b[0mint\u001b[0m\u001b[0;34m(\u001b[0m\u001b[0minput\u001b[0m\u001b[0;34m(\u001b[0m\u001b[0;34m\"n = \"\u001b[0m\u001b[0;34m)\u001b[0m\u001b[0;34m)\u001b[0m\u001b[0;34m\u001b[0m\u001b[0;34m\u001b[0m\u001b[0m\n\u001b[1;32m      4\u001b[0m \u001b[0;34m\u001b[0m\u001b[0m\n\u001b[0;32m----> 5\u001b[0;31m \u001b[0;32mfor\u001b[0m \u001b[0mi\u001b[0m \u001b[0;32min\u001b[0m \u001b[0mrange\u001b[0m\u001b[0;34m(\u001b[0m\u001b[0;36m2\u001b[0m\u001b[0;34m,\u001b[0m \u001b[0mn\u001b[0m\u001b[0;34m+\u001b[0m\u001b[0;36m1\u001b[0m\u001b[0;34m)\u001b[0m\u001b[0;34m:\u001b[0m\u001b[0;34m\u001b[0m\u001b[0;34m\u001b[0m\u001b[0m\n\u001b[0m\u001b[1;32m      6\u001b[0m     \u001b[0mS\u001b[0m \u001b[0;34m=\u001b[0m \u001b[0;36m0\u001b[0m\u001b[0;34m\u001b[0m\u001b[0;34m\u001b[0m\u001b[0m\n\u001b[1;32m      7\u001b[0m     \u001b[0;32mfor\u001b[0m \u001b[0mj\u001b[0m \u001b[0;32min\u001b[0m \u001b[0mrange\u001b[0m\u001b[0;34m(\u001b[0m\u001b[0;36m1\u001b[0m\u001b[0;34m,\u001b[0m \u001b[0mi\u001b[0m\u001b[0;34m+\u001b[0m\u001b[0;36m1\u001b[0m\u001b[0;34m)\u001b[0m\u001b[0;34m:\u001b[0m\u001b[0;34m\u001b[0m\u001b[0;34m\u001b[0m\u001b[0m\n",
      "\u001b[0;31mNameError\u001b[0m: name 'n' is not defined"
     ]
    }
   ],
   "source": [
    "#6 for boshqa\n",
    "\n",
    "int(input(\"n = \"))\n",
    "\n",
    "for i in range(2, n+1):\n",
    "    S = 0\n",
    "    for j in range(1, i+1):\n",
    "        if i%j==0:\n",
    "            S+=1\n",
    "    if S==2:\n",
    "        oxirgi=i\n",
    "print(\"Oxirgi tub son\", oxirgi)"
   ]
  },
  {
   "cell_type": "code",
   "execution_count": 2,
   "id": "56ac1037",
   "metadata": {},
   "outputs": [
    {
     "name": "stdout",
     "output_type": "stream",
     "text": [
      "n = 6\n",
      "a = 23\n",
      "a = 12\n",
      "a = 12\n",
      "a = 34\n",
      "a = 45\n",
      "a = 23\n",
      "45\n"
     ]
    }
   ],
   "source": [
    "#max, xususiy holat\n",
    "\n",
    "n = int(input(\"n = \"))\n",
    "maxi = int(input(\"a = \"))\n",
    "\n",
    "for i in range(1, n):\n",
    "    a = int(input(\"a = \"))\n",
    "    if maxi<a:\n",
    "        maxi=a\n",
    "print(maxi)"
   ]
  },
  {
   "cell_type": "code",
   "execution_count": 4,
   "id": "d680dc61",
   "metadata": {},
   "outputs": [
    {
     "name": "stdout",
     "output_type": "stream",
     "text": [
      "n = 5\n",
      "a = 23\n",
      "a = 2\n",
      "a = 312\n",
      "a = 23\n",
      "a = 12\n",
      "312\n"
     ]
    }
   ],
   "source": [
    "# max umumiy holat\n",
    "\n",
    "n = int(input(\"n = \"))\n",
    "\n",
    "son = True\n",
    "\n",
    "for i in range(1, n+1):\n",
    "    a = int(input(\"a = \"))\n",
    "    if son:\n",
    "        maxi=a\n",
    "        son = False\n",
    "    if maxi<a:\n",
    "        maxi=a\n",
    "print(maxi)"
   ]
  },
  {
   "cell_type": "code",
   "execution_count": 10,
   "id": "00deb45b",
   "metadata": {},
   "outputs": [
    {
     "name": "stdout",
     "output_type": "stream",
     "text": [
      "n = 5\n",
      "1 x 1 = 1\n",
      "1 x 2 = 2\n",
      "1 x 3 = 3\n",
      "1 x 4 = 4\n",
      "1 x 5 = 5\n",
      "1 x 6 = 6\n",
      "1 x 7 = 7\n",
      "1 x 8 = 8\n",
      "1 x 9 = 9\n",
      "\n",
      "2 x 1 = 2\n",
      "2 x 2 = 4\n",
      "2 x 3 = 6\n",
      "2 x 4 = 8\n",
      "2 x 5 = 10\n",
      "2 x 6 = 12\n",
      "2 x 7 = 14\n",
      "2 x 8 = 16\n",
      "2 x 9 = 18\n",
      "\n",
      "3 x 1 = 3\n",
      "3 x 2 = 6\n",
      "3 x 3 = 9\n",
      "3 x 4 = 12\n",
      "3 x 5 = 15\n",
      "3 x 6 = 18\n",
      "3 x 7 = 21\n",
      "3 x 8 = 24\n",
      "3 x 9 = 27\n",
      "\n",
      "4 x 1 = 4\n",
      "4 x 2 = 8\n",
      "4 x 3 = 12\n",
      "4 x 4 = 16\n",
      "4 x 5 = 20\n",
      "4 x 6 = 24\n",
      "4 x 7 = 28\n",
      "4 x 8 = 32\n",
      "4 x 9 = 36\n",
      "\n",
      "5 x 1 = 5\n",
      "5 x 2 = 10\n",
      "5 x 3 = 15\n",
      "5 x 4 = 20\n",
      "5 x 5 = 25\n",
      "5 x 6 = 30\n",
      "5 x 7 = 35\n",
      "5 x 8 = 40\n",
      "5 x 9 = 45\n",
      "\n",
      "6 x 1 = 6\n",
      "6 x 2 = 12\n",
      "6 x 3 = 18\n",
      "6 x 4 = 24\n",
      "6 x 5 = 30\n",
      "6 x 6 = 36\n",
      "6 x 7 = 42\n",
      "6 x 8 = 48\n",
      "6 x 9 = 54\n",
      "\n",
      "7 x 1 = 7\n",
      "7 x 2 = 14\n",
      "7 x 3 = 21\n",
      "7 x 4 = 28\n",
      "7 x 5 = 35\n",
      "7 x 6 = 42\n",
      "7 x 7 = 49\n",
      "7 x 8 = 56\n",
      "7 x 9 = 63\n",
      "\n",
      "8 x 1 = 8\n",
      "8 x 2 = 16\n",
      "8 x 3 = 24\n",
      "8 x 4 = 32\n",
      "8 x 5 = 40\n",
      "8 x 6 = 48\n",
      "8 x 7 = 56\n",
      "8 x 8 = 64\n",
      "8 x 9 = 72\n",
      "\n",
      "9 x 1 = 9\n",
      "9 x 2 = 18\n",
      "9 x 3 = 27\n",
      "9 x 4 = 36\n",
      "9 x 5 = 45\n",
      "9 x 6 = 54\n",
      "9 x 7 = 63\n",
      "9 x 8 = 72\n",
      "9 x 9 = 81\n",
      "\n"
     ]
    }
   ],
   "source": [
    "# 13 1 dan n gacha vertikal ravishda ko'paytirish jadvalini ko'rsatuvchi dastur \n",
    "\n",
    "n = int(input(\"n = \"))\n",
    "\n",
    "for i in range(1,10):\n",
    "    for j in range(1,10):\n",
    "        print(i,\"x\",j,\"=\",i*j )\n",
    "    print( )"
   ]
  },
  {
   "cell_type": "code",
   "execution_count": 32,
   "id": "0d8bf0fa",
   "metadata": {},
   "outputs": [
    {
     "name": "stdout",
     "output_type": "stream",
     "text": [
      "n = 34\n",
      "2 4 6 8 10 12 14 16 18 20 22 24 26 28 30 32 34 \n",
      "306\n"
     ]
    }
   ],
   "source": [
    "#15 N musbat soni berilgan. Dastlabki Nta juft sonlarni ekranga chiqaruvchi \n",
    "# va ularning yig’indisini aniqlovchi dastur tuzing.\n",
    "\n",
    "n = int(input(\"n = \"))\n",
    "\n",
    "S = 0\n",
    "\n",
    "for i in range(1, n+1):\n",
    "    if i%2==0:\n",
    "        S+=i\n",
    "        print(i, end=\" \")\n",
    "print()\n",
    "print(S)"
   ]
  },
  {
   "cell_type": "code",
   "execution_count": null,
   "id": "36c2b450",
   "metadata": {},
   "outputs": [],
   "source": [
    " #16. 1 + 11 + 111 + 1111 + …+ n qatorlarining yig'indisini aniqlovchi dastur tuzing. \n",
    "    \n",
    "n = int(input(\"n = \"))\n",
    "\n",
    "for i in range(1, n+1):\n",
    "    if "
   ]
  },
  {
   "cell_type": "code",
   "execution_count": null,
   "id": "664da2e7",
   "metadata": {},
   "outputs": [],
   "source": [
    "# 17. Fibonachchi sonlarining dastlabki n tasini ekranga chiqaruvchi dastur tuzing.\n",
    "\n"
   ]
  },
  {
   "cell_type": "code",
   "execution_count": null,
   "id": "2a1b1fad",
   "metadata": {},
   "outputs": [],
   "source": [
    "# 18. S musbat soni berilgan. Ushbu sonni ikki tub son yig’indisi ko’rinishida \n",
    "\n",
    "S = int(input(\"S = \"))\n",
    "\n",
    "for i in range(1, n+1):\n",
    "    if "
   ]
  },
  {
   "cell_type": "code",
   "execution_count": 22,
   "id": "6b5488cd",
   "metadata": {},
   "outputs": [
    {
     "name": "stdout",
     "output_type": "stream",
     "text": [
      "n = 4\n",
      "* \n",
      "* * \n",
      "* * * \n",
      "* * * * \n"
     ]
    }
   ],
   "source": [
    "# 19. n musbat soni berilgan. Yulduzcha yordamida to'g'ri burchakli uchburchak \n",
    "# shaklini  ekranga chiqaruvchi dastur tuzing.\n",
    "\n",
    "n = int(input(\"n = \"))\n",
    "\n",
    "for i in range(1, n+1):\n",
    "    for j in range(1, i+1):\n",
    "        print(\"*\", end=\" \")\n",
    "    print()"
   ]
  },
  {
   "cell_type": "code",
   "execution_count": 24,
   "id": "02a75fb5",
   "metadata": {},
   "outputs": [
    {
     "name": "stdout",
     "output_type": "stream",
     "text": [
      "n = 5\n",
      "1 \n",
      "1 2 \n",
      "1 2 3 \n",
      "1 2 3 4 \n",
      "1 2 3 4 5 \n"
     ]
    }
   ],
   "source": [
    "# 20. n musbat soni berilgan. Ekranga quyidagi “sonli uchburchak”ni chiqaruvchi \n",
    "# dastur tuzing. \n",
    "\n",
    "n = int(input(\"n = \"))\n",
    "\n",
    "for i in range(1, n+1):\n",
    "    for j in range(1, i+1):\n",
    "        print(j, end=\" \")\n",
    "    print()"
   ]
  },
  {
   "cell_type": "code",
   "execution_count": 34,
   "id": "ee8f4c8f",
   "metadata": {},
   "outputs": [
    {
     "name": "stdout",
     "output_type": "stream",
     "text": [
      "n = 9\n",
      "1\n",
      "22\n",
      "333\n",
      "4444\n",
      "55555\n",
      "666666\n",
      "7777777\n",
      "88888888\n",
      "999999999\n"
     ]
    }
   ],
   "source": [
    "# 21. n musbat soni berilgan. Ekranga quyidagi “sonli uchburchak”ni chiqaruvchi \n",
    "# dastur tuzing. \n",
    "\n",
    "n = int(input(\"n = \"))\n",
    "\n",
    "for i in range(1, n+1):\n",
    "    for j in range(1, i+1):\n",
    "        print(i, end=\"\")\n",
    "    print()"
   ]
  },
  {
   "cell_type": "code",
   "execution_count": 37,
   "id": "311ebdb8",
   "metadata": {},
   "outputs": [
    {
     "name": "stdout",
     "output_type": "stream",
     "text": [
      "n = 4\n",
      "1 2 2 3 3 3 4 4 4 4 "
     ]
    }
   ],
   "source": [
    "# 22. n musbat soni berilgan. Ekranga quyidagi “sonli uchburchak”ni chiqaruvchi \n",
    "# dastur tuzing.\n",
    "\n",
    "n = int(input(\"n = \"))\n",
    "\n",
    "for i in range(1, n+1):\n",
    "    for j in range(1, i+1):\n",
    "        print(i, end=\" \")"
   ]
  },
  {
   "cell_type": "code",
   "execution_count": null,
   "id": "3b8fa58b",
   "metadata": {},
   "outputs": [],
   "source": [
    "# 23. n musbat soni berilgan. Ekranga quyidagi “sonli piramida”ni chiqaruvchi \n",
    "# dastur tuzing. \n",
    "\n",
    "n = int(input(\"n = \"))\n",
    "\n"
   ]
  },
  {
   "cell_type": "code",
   "execution_count": 40,
   "id": "0e074466",
   "metadata": {},
   "outputs": [
    {
     "name": "stdout",
     "output_type": "stream",
     "text": [
      "n = 5\n",
      "    * \n",
      "   * * \n",
      "  * * * \n",
      " * * * * \n",
      "* * * * * \n"
     ]
    }
   ],
   "source": [
    "# 24. n musbat soni berilgan. Ekranga n qatordan iborat “yulduzchali piramida” \n",
    "# ni chiqaruvchi dastur tuzing:\n",
    "\n",
    "n = int(input(\"n = \"))\n",
    "\n",
    "for i in range(1,n+1):\n",
    "    \n",
    "    for j in range(n-i):\n",
    "        print(' ',end=\"\")\n",
    "    for j in range(1, i+1):\n",
    "        print(\"*\", end=\" \")\n",
    "    print( )"
   ]
  },
  {
   "cell_type": "code",
   "execution_count": 41,
   "id": "04768021",
   "metadata": {},
   "outputs": [
    {
     "name": "stdout",
     "output_type": "stream",
     "text": [
      "n = 5\n",
      "    1 \n",
      "   2 2 \n",
      "  3 3 3 \n",
      " 4 4 4 4 \n",
      "5 5 5 5 5 \n"
     ]
    }
   ],
   "source": [
    "# 25. n musbat soni berilgan. Ekranga quyidagi “sonli piramida”ni chiqaruvchi \n",
    "# dastur tuzing.\n",
    "\n",
    "n = int(input(\"n = \"))\n",
    "\n",
    "for i in range(1, n+1):\n",
    "    for j in range(n-i):\n",
    "        print(\" \", end=\"\")\n",
    "    for j in range(1, i+1):\n",
    "        print(i, end=\" \")\n",
    "    print()"
   ]
  },
  {
   "cell_type": "code",
   "execution_count": 46,
   "id": "3f5ab981",
   "metadata": {},
   "outputs": [
    {
     "name": "stdout",
     "output_type": "stream",
     "text": [
      "n = 7\n",
      "      * \n",
      "    * * * \n",
      "  * * * * * \n",
      "* * * * * * * \n"
     ]
    }
   ],
   "source": [
    "# 26. n musbat soni berilgan. Ekranga quyidagi toq qatorli “sonli piramida”ni \n",
    "# chiqaruvchi dastur tuzing.\n",
    "# Kiritish: 5\n",
    "# Chiqarish:                                                             \n",
    "#    *                                                                  \n",
    "#   ***                                                                 \n",
    "#  *****                                                                \n",
    "# ******* \n",
    "\n",
    "n = int(input(\"n = \"))\n",
    "\n",
    "for i in range(1, n+1,2):\n",
    "    for j in range(n-i):\n",
    "        print(\" \", end=\"\")\n",
    "    for j in range(1, i+1):\n",
    "        print(\"*\", end=\" \")\n",
    "    print()"
   ]
  },
  {
   "cell_type": "code",
   "execution_count": null,
   "id": "cdec907d",
   "metadata": {},
   "outputs": [],
   "source": [
    "# 27. n musbat soni berilgan. Ekranga n qatorli Floyd uchburchagini chiqaruvchi \n",
    "# dastur tuzing.\n",
    "# Kiritish: 5\n",
    "# Chiqarish:                                             \n",
    "# 1                                                                      \n",
    "# 01                                                                     \n",
    "# 101                                                                    \n",
    "# 0101                                                                   \n",
    "# 10101\n",
    "\n",
    "n = int(input(\"n = \"))\n",
    "\n",
    "for i in range(1, n+1):\n",
    "    for "
   ]
  },
  {
   "cell_type": "code",
   "execution_count": 65,
   "id": "1f892e55",
   "metadata": {},
   "outputs": [
    {
     "name": "stdout",
     "output_type": "stream",
     "text": [
      "n = 5\n",
      "    *\n",
      "   ***\n",
      "  *****\n",
      " *******\n",
      "*********\n"
     ]
    }
   ],
   "source": [
    "# 28. n musbat soni berilgan. Tomoni n ta yulduzchadan iborat bo’lgan romb shaklini \n",
    "# yasovchi dastur tuzing.\n",
    "# Kiritish: 5\n",
    "# Chiqarish:\n",
    "                                                                       \n",
    "#     *                                                                  \n",
    "#    ***                                                                 \n",
    "#   *****                                                                \n",
    "#  *******                                                               \n",
    "# *********                                                              \n",
    "#  *******                                                               \n",
    "#   *****                                                                \n",
    "#    ***                                                                 \n",
    "#     *\n",
    "\n",
    "n = int(input(\"n = \"))\n",
    "\n",
    "for i in range(1, n+1):\n",
    "    for j in range(n-i):\n",
    "        print(\" \", end=\"\")\n",
    "    for j in range(1, i+1):\n",
    "        print(\"*\", end=\"\")\n",
    "    for j in range(i-1,0,-1):\n",
    "        print(\"*\", end=\"\")\n",
    "   \n",
    "    \n",
    "    print()"
   ]
  },
  {
   "cell_type": "code",
   "execution_count": null,
   "id": "8815337c",
   "metadata": {},
   "outputs": [],
   "source": [
    "# 29. n musbat soni berilgan. n-darajali Paskal uchburchagini piramida ko’rinishida \n",
    "# ekranga chiqaruvchi dastur tuzing.\n",
    "# Kiritish: 5\n",
    "# Chiqarish:                                  \n",
    "#          1                                                            \n",
    "#        1   1                                                          \n",
    "#      1   2   1                                                        \n",
    "#    1   3   3   1                                                      \n",
    "#  1   4   6   4   1"
   ]
  },
  {
   "cell_type": "code",
   "execution_count": 61,
   "id": "ff84d04e",
   "metadata": {},
   "outputs": [
    {
     "name": "stdout",
     "output_type": "stream",
     "text": [
      "n = 6\n",
      "     1\n",
      "    121\n",
      "   12321\n",
      "  1234321\n",
      " 123454321\n",
      "12345654321\n"
     ]
    }
   ],
   "source": [
    "# 30. n musbat soni berilgan. Ekranga quyidagi “sonli piramida”ni chiqaruvchi dastur \n",
    "# tuzing.\n",
    "# Kiritish: 5\n",
    "# Chiqarish:\n",
    "#         1                                                                  \n",
    "#        121                                                                 \n",
    "#       12321                                                                \n",
    "#      1234321                                                               \n",
    "#     123454321\n",
    "\n",
    "n = int(input(\"n = \"))\n",
    "\n",
    "for i in range(1, n+1):\n",
    "    for j in range(n-i):\n",
    "        print(\" \", end=\"\")\n",
    "    for j in range(1, i+1):\n",
    "        print(j, end=\"\")\n",
    "    for j in range(i-1,0,-1):\n",
    "        print(j, end=\"\")\n",
    "    print()"
   ]
  },
  {
   "cell_type": "code",
   "execution_count": null,
   "id": "6fc1f7aa",
   "metadata": {},
   "outputs": [],
   "source": [
    "# 31.  n musbat soni berilgan. Ekranga quyidagi “sonli piramida”ni chiqaruvchi \n",
    "# dastur tuzing.\n",
    "# Kiritish: 5\n",
    "# Chiqarish:   \n",
    "#       1                                                                  \n",
    "#      232                                                                 \n",
    "#     34543                                                                \n",
    "#    4567654                                                               \n",
    "#   567898765\n",
    "\n"
   ]
  },
  {
   "cell_type": "code",
   "execution_count": 71,
   "id": "990b29fa",
   "metadata": {},
   "outputs": [
    {
     "name": "stdout",
     "output_type": "stream",
     "text": [
      "n = 3\n",
      "01234\n",
      "10123\n",
      "21012\n",
      "32101\n",
      "43210\n"
     ]
    }
   ],
   "source": [
    "# 32. n musbat soni berilgan. Quyidagi ko’rinishdagi kvadratni ekranga chiqaruvchi \n",
    "# dastur tuzing.\n",
    "# Kiritish: 5\n",
    "# Chiqarish:\n",
    "\n",
    "\n",
    "int(input(\"n = \"))\n",
    "\n",
    "for i in range(n):\n",
    "    for j in range(i,0,-1):\n",
    "        print(j, end=\"\")\n",
    "    for j in range(0, n-i):\n",
    "        print(j, end=\"\")\n",
    "    print()"
   ]
  },
  {
   "cell_type": "code",
   "execution_count": 1,
   "id": "32e7a564",
   "metadata": {},
   "outputs": [
    {
     "name": "stdout",
     "output_type": "stream",
     "text": [
      " N = 4\n",
      "a = 3\n",
      "a = 4\n",
      "a = 5\n",
      "a = 6\n",
      "4.5\n"
     ]
    }
   ],
   "source": [
    "# N ta son kiritilganda maximum va minimum, ularning o'rta arifmetigini topish kk\n",
    "\n",
    "N = int(input(\" N = \"))\n",
    "\n",
    "x = True\n",
    "\n",
    "for i in range(1, N+1):\n",
    "    a = int(input(\"a = \"))\n",
    "    if x:\n",
    "        mini=a\n",
    "        maxi=a\n",
    "        x = False\n",
    "    \n",
    "    if mini>a:\n",
    "        mini=a\n",
    "        \n",
    "    if maxi<a:\n",
    "        maxi=a\n",
    "print((mini+maxi)/2)\n",
    "     "
   ]
  },
  {
   "cell_type": "code",
   "execution_count": 6,
   "id": "e8262291",
   "metadata": {},
   "outputs": [
    {
     "name": "stdout",
     "output_type": "stream",
     "text": [
      "n = 100\n",
      "2 3 5 7 11 13 17 19 23 29 31 37 41 43 47 53 59 61 67 71 73 79 83 89 97 101 103 107 109 113 127 131 137 139 149 151 157 163 167 173 179 181 191 193 197 199 211 223 227 229 233 239 241 251 257 263 269 271 277 281 283 293 307 311 313 317 331 337 347 349 353 359 367 373 379 383 389 397 401 409 419 421 431 433 439 443 449 457 461 463 467 479 487 491 499 503 509 521 523 541 "
     ]
    }
   ],
   "source": [
    "# dastlabki 100 ta tub son chiqqunicha hisobla\n",
    "\n",
    "n = int(input(\"n = \"))\n",
    "\n",
    "sana = 0\n",
    "\n",
    "for i in range(2, n*n+1):\n",
    "    S = 0\n",
    "    for j in range(1, i+1):\n",
    "        if i%j==0:\n",
    "            S+=1\n",
    "    if S==2:\n",
    "        print(i, end=\" \")\n",
    "        sana+=1\n",
    "    if sana==n:\n",
    "        break"
   ]
  },
  {
   "cell_type": "code",
   "execution_count": 4,
   "id": "804e1885",
   "metadata": {},
   "outputs": [
    {
     "name": "stdout",
     "output_type": "stream",
     "text": [
      "n = 10\n",
      "55\n"
     ]
    }
   ],
   "source": [
    "# 1.  n natural soni berilgan. 1 dan n gacha bo’lgan sonlarning yig'indisini \n",
    "# hisoblovchi dastur tuzing. \n",
    "\n",
    "n = int(input(\"n = \"))\n",
    "\n",
    "S=0\n",
    "\n",
    "for i in range(1, n+1):\n",
    "    S+=i\n",
    "print(S)"
   ]
  },
  {
   "cell_type": "code",
   "execution_count": 6,
   "id": "7a3fb6d9",
   "metadata": {},
   "outputs": [
    {
     "name": "stdout",
     "output_type": "stream",
     "text": [
      "n = 34\n",
      "Tub son emas\n"
     ]
    }
   ],
   "source": [
    "## 3. Kiritilgan sonning tub yoki tub emasligini aniqlovchi dastur tuzing. \n",
    "\n",
    "n = int(input(\"n = \"))\n",
    "\n",
    "S = 0\n",
    "\n",
    "for i in range(1, n+1):\n",
    "    if n%i==0:\n",
    "        S+=1\n",
    "if S==2:\n",
    "    print(\"Tub son\")\n",
    "else:\n",
    "    print(\"Tub son emas\")"
   ]
  },
  {
   "cell_type": "code",
   "execution_count": 10,
   "id": "ab3682ba",
   "metadata": {},
   "outputs": [
    {
     "name": "stdout",
     "output_type": "stream",
     "text": [
      "n = 1000\n",
      "2 3 5 7 11 13 17 19 23 29 31 37 41 43 47 53 59 61 67 71 73 79 83 89 97 101 103 107 109 113 127 131 137 139 149 151 157 163 167 173 179 181 191 193 197 199 211 223 227 229 233 239 241 251 257 263 269 271 277 281 283 293 307 311 313 317 331 337 347 349 353 359 367 373 379 383 389 397 401 409 419 421 431 433 439 443 449 457 461 463 467 479 487 491 499 503 509 521 523 541 547 557 563 569 571 577 587 593 599 601 607 613 617 619 631 641 643 647 653 659 661 673 677 683 691 701 709 719 727 733 739 743 751 757 761 769 773 787 797 809 811 821 823 827 829 839 853 857 859 863 877 881 883 887 907 911 919 929 937 941 947 953 967 971 977 983 991 997 "
     ]
    }
   ],
   "source": [
    "# 4. 1 dan n gacha bo’lgan sonlar oralig’idagi tub sonlarni va ularning sonini \n",
    "# ekranga chiqaruvchi dastur tuzing \n",
    "\n",
    "n = int(input(\"n = \"))\n",
    "\n",
    "for i in range(1, n+1):\n",
    "    S = 0\n",
    "    for j in range(1, i+1):\n",
    "        if i%j==0:\n",
    "            S+=1\n",
    "    if S == 2:\n",
    "        print(i,end=\" \")\n",
    "            \n",
    "            "
   ]
  },
  {
   "cell_type": "code",
   "execution_count": 11,
   "id": "2d602185",
   "metadata": {},
   "outputs": [
    {
     "name": "stdout",
     "output_type": "stream",
     "text": [
      "n = 5\n",
      "120\n"
     ]
    }
   ],
   "source": [
    "# 5. n soni berilgan. n faktorialni hisoblovchi dastur tuzing ( n!=1*2*3*…*n ).\n",
    "# Kiritish: 5\n",
    "# Chiqarish: 120 \n",
    "\n",
    "n = int(input(\"n = \"))\n",
    "\n",
    "p = 1\n",
    "\n",
    "for i in range(1, n+1):\n",
    "    p*=i\n",
    "print(p)"
   ]
  },
  {
   "cell_type": "code",
   "execution_count": 7,
   "id": "e78b21b2",
   "metadata": {},
   "outputs": [
    {
     "name": "stdout",
     "output_type": "stream",
     "text": [
      "n = 56\n",
      "2 3 5 7 11 13 17 19 23 29 31 37 41 43 47 53 "
     ]
    }
   ],
   "source": [
    "# 6. n soni berilgan. n gacha bo’lgan tub sonlarning oxirgisini aniqlovchi dastur \n",
    "# tuzing. \n",
    "# Kiritish: 50\n",
    "# Chiqarish: 47\n",
    "\n",
    "n = int(input(\"n = \"))\n",
    "\n",
    "for i in range(\"1, n+1\"):\n",
    "    S=0\n",
    "    for j in range(1,i+1\"):\n",
    "        if n%i==0:\n",
    "            S+=1\n",
    "    if S==2\n",
    "                   \n",
    "                \n",
    "                   \n",
    "    "
   ]
  },
  {
   "cell_type": "code",
   "execution_count": null,
   "id": "d71f55cb",
   "metadata": {},
   "outputs": [],
   "source": []
  }
 ],
 "metadata": {
  "kernelspec": {
   "display_name": "Python 3 (ipykernel)",
   "language": "python",
   "name": "python3"
  },
  "language_info": {
   "codemirror_mode": {
    "name": "ipython",
    "version": 3
   },
   "file_extension": ".py",
   "mimetype": "text/x-python",
   "name": "python",
   "nbconvert_exporter": "python",
   "pygments_lexer": "ipython3",
   "version": "3.9.7"
  }
 },
 "nbformat": 4,
 "nbformat_minor": 5
}
