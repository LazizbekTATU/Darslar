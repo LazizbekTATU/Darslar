{
 "cells": [
  {
   "cell_type": "markdown",
   "id": "eae5cb63",
   "metadata": {},
   "source": [
    "### "
   ]
  },
  {
   "cell_type": "markdown",
   "id": "b8a0cbaf",
   "metadata": {},
   "source": [
    "# MinMax by IsaqjonovLazizbek "
   ]
  },
  {
   "cell_type": "code",
   "execution_count": 1,
   "id": "387e2f4a",
   "metadata": {},
   "outputs": [
    {
     "name": "stdout",
     "output_type": "stream",
     "text": [
      "N = 4\n",
      "1-elementni kiriting\n",
      ">>>>>>3\n",
      "2-elementni kiriting\n",
      ">>>>>>6\n",
      "3-elementni kiriting\n",
      ">>>>>>7\n",
      "4-elementni kiriting\n",
      ">>>>>>2\n",
      "2.0 7.0\n"
     ]
    }
   ],
   "source": [
    "#1 minmax\n",
    "\n",
    "N = int(input(\"N = \"))\n",
    "x = True\n",
    "\n",
    "for i in range(N):\n",
    "    a = float(input(f'{i+1}-elementni kiriting\\n>>>>>>'))\n",
    "    if x:\n",
    "        mini = a\n",
    "        maxi = a\n",
    "        x = False\n",
    "    if a<mini:\n",
    "        mini = a\n",
    "    elif a>maxi:\n",
    "        maxi = a\n",
    "print(mini, maxi)\n",
    "        \n",
    "\n"
   ]
  },
  {
   "cell_type": "code",
   "execution_count": 6,
   "id": "afbd38a1",
   "metadata": {},
   "outputs": [
    {
     "name": "stdout",
     "output_type": "stream",
     "text": [
      "N = 2\n",
      "1-elementni kiriting\n",
      ">>3\n",
      "1-elementni kiriting\n",
      ">>4\n",
      "2-elementni kiriting\n",
      ">>5\n",
      "2-elementni kiriting\n",
      ">>6\n",
      "12\n"
     ]
    }
   ],
   "source": [
    "#2 minmax\n",
    "\n",
    "N = int(input(\"N = \"))\n",
    "\n",
    "a = int(input(f'{1}-elementni kiriting\\n>>'))\n",
    "b = int(input(f'{1}-elementni kiriting\\n>>'))\n",
    "\n",
    "mini = a*b\n",
    "\n",
    "for i in range(1,N):\n",
    "    a = int(input(f'{i+1}-elementni kiriting\\n>>'))\n",
    "    b = int(input(f'{i+1}-elementni kiriting\\n>>'))\n",
    "    \n",
    "    if a*b<mini:\n",
    "        mini = a*b\n",
    "    print(mini)\n",
    "\n",
    "    "
   ]
  },
  {
   "cell_type": "code",
   "execution_count": 17,
   "id": "b919363b",
   "metadata": {},
   "outputs": [
    {
     "name": "stdout",
     "output_type": "stream",
     "text": [
      "n = 3\n",
      "a = 2\n",
      "b = 1\n",
      "a = 3\n",
      "b = 4\n",
      "a = 5\n",
      "b = 6\n",
      "2\n"
     ]
    }
   ],
   "source": [
    "#2 min max 2\n",
    "\n",
    "n = int(input(\"n = \"))\n",
    "i = 1\n",
    "x = True\n",
    "while n>=i:\n",
    "    a = int(input(\"a = \"))\n",
    "    b = int(input(\"b = \"))\n",
    "    S = a*b\n",
    "    if x:\n",
    "        mini = S\n",
    "        x = False\n",
    "    if S<mini:\n",
    "        mini = S\n",
    "    i += 1\n",
    "print(mini)"
   ]
  },
  {
   "cell_type": "code",
   "execution_count": null,
   "id": "d39a689f",
   "metadata": {},
   "outputs": [],
   "source": [
    "#3 minmax\n",
    "N = int(input(\"N = \"))\n",
    "\n",
    "a = int(input(f'{1}-elementni kiriting\\n>>>'))\n",
    "b = int(input(f'{1}-elementni kiritinf\\n>>>'))\n",
    "\n",
    "maxi = 2*(a+b)\n",
    "\n",
    "for i in range(1, N):\n",
    "    a = int(input(f'{i+1}-elementni kiriting\\n>>'))\n",
    "    b = int(input(f'{i+1}-elementni kiriting\\n>>'))\n",
    "    \n",
    "    if maxi<2*(a+b):\n",
    "        maxi = 2*(a+b)\n",
    "    print(maxi)"
   ]
  },
  {
   "cell_type": "code",
   "execution_count": 14,
   "id": "284c2472",
   "metadata": {},
   "outputs": [
    {
     "name": "stdout",
     "output_type": "stream",
     "text": [
      "N = 4\n",
      "0 = 5\n",
      "1 = 6\n",
      "2 = 7\n",
      "3 = 4\n",
      "Eng kichik son 4 va u 3-indexda kiritildi\n"
     ]
    }
   ],
   "source": [
    "#4 minmax\n",
    "\n",
    "N = int(input(\"N = \"))\n",
    "\n",
    "idx = 0\n",
    "mini = int(input(\"0 = \"))\n",
    "\n",
    "for i in range(1, N):\n",
    "    a = int(input(f'{i} = '))\n",
    "    if mini>a:\n",
    "        mini = a\n",
    "        idx = i\n",
    "print(f'Eng kichik son {mini} va u {idx}-indexda kiritildi')"
   ]
  },
  {
   "cell_type": "code",
   "execution_count": null,
   "id": "3e21eb38",
   "metadata": {},
   "outputs": [],
   "source": [
    "#5 minmax\n",
    "\n",
    "n = int(input(\"n = \"))\n",
    "m = int(input(f'{1}-elementni kiriting\\n'>>))\n",
    "v = int(input(f'{1}-elementni kiriting\\n'>>))\n",
    "po = m/v"
   ]
  },
  {
   "cell_type": "code",
   "execution_count": 28,
   "id": "f70634dd",
   "metadata": {},
   "outputs": [
    {
     "name": "stdout",
     "output_type": "stream",
     "text": [
      "n = 6\n",
      "a = 5\n",
      "a = 4\n",
      "a = 3\n",
      "a = 4\n",
      "a = 5\n",
      "a = 4\n",
      "3 5\n"
     ]
    }
   ],
   "source": [
    "#6\n",
    "\n",
    "n = int(input(\"n = \"))\n",
    "i = 1\n",
    "x = True\n",
    "while i<=n:\n",
    "    a = int(input(\"a = \"))\n",
    "    if x:\n",
    "        mini = a\n",
    "        maxi = a\n",
    "        k,j = i,i\n",
    "        x = False\n",
    "    if maxi<=a:\n",
    "        maxi = a\n",
    "        k = i\n",
    "    if mini>a:\n",
    "        mini = a\n",
    "        j = i\n",
    "    i += 1\n",
    "print(j,k)"
   ]
  },
  {
   "cell_type": "code",
   "execution_count": 26,
   "id": "bbf74ed7",
   "metadata": {},
   "outputs": [
    {
     "name": "stdout",
     "output_type": "stream",
     "text": [
      "n = 6\n",
      "a = 5\n",
      "a = 4\n",
      "a = 3\n",
      "a = 4\n",
      "a = 3\n",
      "a = 3\n",
      "1 6\n"
     ]
    }
   ],
   "source": [
    "#7\n",
    "n = int(input(\"n = \"))\n",
    "i = 1\n",
    "x = True\n",
    "while n>=i:\n",
    "    a = int(input(\"a = \"))\n",
    "    if x:\n",
    "        mini = a\n",
    "        maxi = a\n",
    "        k,j=i,i\n",
    "        x = False \n",
    "    if maxi<a:\n",
    "        maxi = a\n",
    "        k = i\n",
    "    if mini>=a:\n",
    "        mini = a\n",
    "        j = i\n",
    "    i+=1\n",
    "print(k,j)\n",
    "\n"
   ]
  },
  {
   "cell_type": "code",
   "execution_count": 31,
   "id": "19e860b6",
   "metadata": {},
   "outputs": [
    {
     "name": "stdout",
     "output_type": "stream",
     "text": [
      "n = 5\n",
      "a = 1\n",
      "a = 2\n",
      "a = 3\n",
      "a = 1\n",
      "a = 4\n",
      "1 4\n"
     ]
    }
   ],
   "source": [
    "#8 minmax\n",
    "\n",
    "n = int(input(\"n = \"))\n",
    "i = 1\n",
    "x = True\n",
    "while i<=n:\n",
    "    a = int(input(\"a = \"))\n",
    "    if x:\n",
    "        minib = a\n",
    "        minio = a\n",
    "        k,j=i,i\n",
    "        x = False\n",
    "    if minib > a:\n",
    "        minib = a\n",
    "        k = i\n",
    "    if minio >= a:\n",
    "        minio = a\n",
    "        j = i\n",
    "    i += 1\n",
    "print(k,j)"
   ]
  },
  {
   "cell_type": "code",
   "execution_count": 33,
   "id": "3012b46e",
   "metadata": {},
   "outputs": [
    {
     "name": "stdout",
     "output_type": "stream",
     "text": [
      "n = 5\n",
      "a = 4\n",
      "a = 3\n",
      "a = 5\n",
      "a = 4\n",
      "a = 5\n",
      "3 5\n"
     ]
    }
   ],
   "source": [
    "#9 minmax\n",
    "\n",
    "n = int(input(\"n = \"))\n",
    "i = 1\n",
    "x = True\n",
    "while i<=n:\n",
    "    a = int(input(\"a = \"))\n",
    "    if x:\n",
    "        maxib = a\n",
    "        maxio = a\n",
    "        k,j = i,i\n",
    "        x = False\n",
    "    if maxib < a:\n",
    "        maxib = a\n",
    "        k = i\n",
    "    if maxio <= a:\n",
    "        maxio = a\n",
    "        j = i\n",
    "    i += 1\n",
    "print(k,j)"
   ]
  },
  {
   "cell_type": "code",
   "execution_count": 4,
   "id": "9d9854b6",
   "metadata": {},
   "outputs": [
    {
     "name": "stdout",
     "output_type": "stream",
     "text": [
      "n = 6\n",
      "a = 5\n",
      "a = 4\n",
      "a = 6\n",
      "a = 8\n",
      "a = 9\n",
      "a = 0\n",
      "5\n"
     ]
    }
   ],
   "source": [
    "#10 minmax\n",
    "\n",
    "n = int(input(\"n = \"))\n",
    "i = 1\n",
    "x = True\n",
    "while n>=i:\n",
    "    a = int(input(\"a = \"))\n",
    "    if x:\n",
    "        mini = a\n",
    "        maxi = a\n",
    "        k,j=i,i\n",
    "        x = False\n",
    "    if maxi<a:\n",
    "        maxi = a\n",
    "        k = i\n",
    "    if mini>a:\n",
    "        mini = a\n",
    "        j = i\n",
    "    i+=1\n",
    "if k>j:\n",
    "    print(j)\n",
    "else:\n",
    "    print(k)"
   ]
  },
  {
   "cell_type": "code",
   "execution_count": 34,
   "id": "dff6ad2a",
   "metadata": {},
   "outputs": [
    {
     "name": "stdout",
     "output_type": "stream",
     "text": [
      "n = 5\n",
      "a = 4\n",
      "a = 3\n",
      "a = 2\n",
      "a = 5\n",
      "a = 2\n",
      "4 5\n"
     ]
    }
   ],
   "source": [
    "#11 minmax\n",
    "\n",
    "n = int(input(\"n = \"))\n",
    "i = 1\n",
    "x = True\n",
    "while n>=i:\n",
    "    a = int(input(\"a = \"))\n",
    "    if x:\n",
    "        maxi = a\n",
    "        mini = a\n",
    "        k,j = i,i\n",
    "        x = False\n",
    "    if maxi<=a:\n",
    "        maxi = a\n",
    "        k = i\n",
    "    if mini>=a:\n",
    "        mini = a\n",
    "        j = i\n",
    "    i += 1\n",
    "print(k,j)"
   ]
  },
  {
   "cell_type": "code",
   "execution_count": 1,
   "id": "a1b1110e",
   "metadata": {},
   "outputs": [
    {
     "name": "stdout",
     "output_type": "stream",
     "text": [
      "n = 5\n",
      "a = 4\n",
      "a = 2\n",
      "a = 7\n",
      "a = 5\n",
      "a = 3\n",
      "2\n"
     ]
    }
   ],
   "source": [
    "#12\n",
    "\n",
    "n = int(input(\"n = \"))\n",
    "i = 1\n",
    "x = True\n",
    "while i<=n:\n",
    "    a = int(input(\"a = \"))\n",
    "    if a>0 and x:\n",
    "        mini  = a\n",
    "        x =False\n",
    "    if a>0 and mini>a:\n",
    "            mini = a\n",
    "    i += 1\n",
    "print(mini)"
   ]
  },
  {
   "cell_type": "code",
   "execution_count": 35,
   "id": "4c60ae2c",
   "metadata": {},
   "outputs": [
    {
     "name": "stdout",
     "output_type": "stream",
     "text": [
      "n = 4\n",
      "a = 3\n",
      "a = 5\n",
      "a = 6\n",
      "a = 6\n",
      "2\n"
     ]
    }
   ],
   "source": [
    "#13 minmax\n",
    "\n",
    "n = int(input(\"n = \"))\n",
    "i = 1\n",
    "x = True\n",
    "while n>=i:\n",
    "    a = int(input(\"a = \"))\n",
    "    if a%2==1 and x:\n",
    "        toq = a\n",
    "        k = i\n",
    "        x = False\n",
    "    if a%2==1 and a>toq:\n",
    "        toq = a\n",
    "        k = i\n",
    "    i += 1\n",
    "print(k)\n",
    "        "
   ]
  },
  {
   "cell_type": "code",
   "execution_count": 5,
   "id": "ea7298f9",
   "metadata": {},
   "outputs": [
    {
     "name": "stdout",
     "output_type": "stream",
     "text": [
      "B = 45\n",
      "a = 10\n"
     ]
    },
    {
     "ename": "NameError",
     "evalue": "name 'mini' is not defined",
     "output_type": "error",
     "traceback": [
      "\u001b[0;31m---------------------------------------------------------------------------\u001b[0m",
      "\u001b[0;31mNameError\u001b[0m                                 Traceback (most recent call last)",
      "\u001b[0;32m/var/folders/nx/h_hhzqx53bbcjldfl_ksywvr0000gn/T/ipykernel_945/739935832.py\u001b[0m in \u001b[0;36m<module>\u001b[0;34m\u001b[0m\n\u001b[1;32m     10\u001b[0m         \u001b[0mmini\u001b[0m \u001b[0;34m=\u001b[0m \u001b[0ma\u001b[0m\u001b[0;34m\u001b[0m\u001b[0;34m\u001b[0m\u001b[0m\n\u001b[1;32m     11\u001b[0m         \u001b[0mx\u001b[0m \u001b[0;34m=\u001b[0m \u001b[0;32mFalse\u001b[0m\u001b[0;34m\u001b[0m\u001b[0;34m\u001b[0m\u001b[0m\n\u001b[0;32m---> 12\u001b[0;31m     \u001b[0;32mif\u001b[0m \u001b[0mmini\u001b[0m\u001b[0;34m>\u001b[0m\u001b[0mB\u001b[0m\u001b[0;34m:\u001b[0m\u001b[0;34m\u001b[0m\u001b[0;34m\u001b[0m\u001b[0m\n\u001b[0m\u001b[1;32m     13\u001b[0m         \u001b[0mmini\u001b[0m \u001b[0;34m=\u001b[0m \u001b[0ma\u001b[0m\u001b[0;34m\u001b[0m\u001b[0;34m\u001b[0m\u001b[0m\n\u001b[1;32m     14\u001b[0m     \u001b[0mi\u001b[0m\u001b[0;34m+=\u001b[0m\u001b[0;36m1\u001b[0m\u001b[0;34m\u001b[0m\u001b[0;34m\u001b[0m\u001b[0m\n",
      "\u001b[0;31mNameError\u001b[0m: name 'mini' is not defined"
     ]
    }
   ],
   "source": [
    "#14 MinMax\n",
    "\n",
    "B = int(input(\"B = \"))\n",
    "n = 10\n",
    "i = 1\n",
    "x = True\n",
    "while n>=i:\n",
    "    a = int(input(\"a = \"))\n",
    "    if x and a>B:\n",
    "        mini = a\n",
    "        x = False\n",
    "    if mini>B:\n",
    "        mini = a\n",
    "    i+=1\n",
    "if x:\n",
    "    print(0)\n",
    "else:\n",
    "    print(mini)\n",
    "        "
   ]
  },
  {
   "cell_type": "code",
   "execution_count": 10,
   "id": "3007177c",
   "metadata": {},
   "outputs": [
    {
     "name": "stdout",
     "output_type": "stream",
     "text": [
      "A = 5\n",
      "B = 100\n",
      "n = 4\n",
      "a = 56\n",
      "a = 45\n",
      "a = 35\n",
      "a = 78\n",
      "78\n"
     ]
    }
   ],
   "source": [
    "#15 minmax\n",
    "A = int(input(\"A = \"))\n",
    "B = int(input(\"B = \"))\n",
    "n = int(input(\"n = \"))\n",
    "i = 1\n",
    "x =True\n",
    "while i<=n:\n",
    "    a = int(input(\"a = \"))\n",
    "    if x and A<a<B:\n",
    "        maxi = a\n",
    "        x = False\n",
    "    if maxi<a and A<a<B:\n",
    "        maxi = a\n",
    "    i+=1\n",
    "if x:\n",
    "    print(\"00\")\n",
    "else:\n",
    "    \n",
    "    print(maxi)"
   ]
  },
  {
   "cell_type": "code",
   "execution_count": null,
   "id": "dbc08c99",
   "metadata": {},
   "outputs": [],
   "source": [
    "#16 Minmax\n",
    "\n",
    "n = int(input(\"n = \"))\n"
   ]
  },
  {
   "cell_type": "code",
   "execution_count": 11,
   "id": "f9fc57c8",
   "metadata": {},
   "outputs": [
    {
     "name": "stdout",
     "output_type": "stream",
     "text": [
      "n = 4\n",
      "a = 3\n",
      "a = 56\n",
      "a = 7\n",
      "a = 6\n",
      "2\n"
     ]
    }
   ],
   "source": [
    "#17 minmax\n",
    "\n",
    "n = int(input(\"n = \"))\n",
    "i = 1\n",
    "x = True\n",
    "while i<=n:\n",
    "    a = int(input(\"a = \"))\n",
    "    if x:\n",
    "        maxi = a\n",
    "        k = i\n",
    "        x = False\n",
    "    if maxi<a:\n",
    "        maxi = a\n",
    "        k = i\n",
    "    i += 1\n",
    "print(k)"
   ]
  },
  {
   "cell_type": "code",
   "execution_count": null,
   "id": "6f4c1cdc",
   "metadata": {},
   "outputs": [],
   "source": [
    "#18 MinMax\n",
    "\n",
    "N = int(input(\"N = \"))\n",
    "i = 1\n",
    "x = True\n",
    "for i in range(N):\n",
    "    a = int(input(\"a = \"))\n",
    "    \n",
    "    if x and "
   ]
  },
  {
   "cell_type": "code",
   "execution_count": 7,
   "id": "3fa0da51",
   "metadata": {},
   "outputs": [
    {
     "name": "stdout",
     "output_type": "stream",
     "text": [
      "N = 4\n",
      "a = 3\n",
      "a = 2\n",
      "a = 1\n",
      "a = 1\n",
      "2\n"
     ]
    }
   ],
   "source": [
    "#19 MinMax\n",
    "\n",
    "N = int(input(\"N = \"))\n",
    "i = 1\n",
    "x = True\n",
    "for i in range(N):\n",
    "    a = int(input(\"a = \"))\n",
    "    \n",
    "    if x:\n",
    "        mini = a\n",
    "        S = 0\n",
    "        x = False\n",
    "    if mini>a:\n",
    "        mini = a\n",
    "        S = 1\n",
    "    elif mini == a:\n",
    "        S +=1\n",
    "\n",
    "print(S)\n"
   ]
  },
  {
   "cell_type": "code",
   "execution_count": 13,
   "id": "45a4e8c6",
   "metadata": {},
   "outputs": [
    {
     "name": "stdout",
     "output_type": "stream",
     "text": [
      "N = 3\n",
      "a = 1\n",
      "a = 1\n",
      "a = 1\n",
      "6\n"
     ]
    }
   ],
   "source": [
    "#20 MinMax\n",
    "\n",
    "N = int(input(\"N = \"))\n",
    "x = True\n",
    "for i in range(N):\n",
    "    a = int(input(\"a = \"))\n",
    "    \n",
    "    if x:\n",
    "        mini = a\n",
    "        maxi = a\n",
    "        S = 0\n",
    "        S1 = 0\n",
    "        x = False\n",
    "        \n",
    "    if maxi < a:\n",
    "        maxi = a\n",
    "        S = 1\n",
    "    elif maxi == a:\n",
    "        S +=1\n",
    "    \n",
    "    if mini > a:\n",
    "        mini = a\n",
    "        S = 1\n",
    "    elif mini == a:\n",
    "        S += 1\n",
    "\n",
    "if mini == maxi:\n",
    "    print(S)\n",
    "else:\n",
    "    print(S+S1)"
   ]
  },
  {
   "cell_type": "code",
   "execution_count": null,
   "id": "55c49533",
   "metadata": {},
   "outputs": [],
   "source": [
    "#21 Minmax\n",
    "\n",
    "N = int(input(\"N = \"))\n"
   ]
  },
  {
   "cell_type": "code",
   "execution_count": 27,
   "id": "153deb5c",
   "metadata": {},
   "outputs": [
    {
     "name": "stdout",
     "output_type": "stream",
     "text": [
      "n = 5\n",
      "a = 3\n",
      "a = 2\n",
      "a = 5\n",
      "a = 6\n",
      "a = 1\n",
      "1 2\n"
     ]
    }
   ],
   "source": [
    "#22 Minmax\n",
    "\n",
    "n = int(input(\"n = \"))\n",
    "\n",
    "mini1 = int(input(\"a = \"))\n",
    "mini2 = int(input(\"a = \"))\n",
    "\n",
    "if mini1>=mini2:\n",
    "    mini1,mini2=mini2,mini1\n",
    "\n",
    "for i in range(3, n+1):\n",
    "    a = int(input(\"a = \"))\n",
    "    if a<mini1:\n",
    "        mini2=mini1\n",
    "        mini1=a\n",
    "print(mini1,mini2)"
   ]
  },
  {
   "cell_type": "code",
   "execution_count": 9,
   "id": "60f9a789",
   "metadata": {},
   "outputs": [
    {
     "name": "stdout",
     "output_type": "stream",
     "text": [
      "n = 4\n",
      "a = 34\n",
      "a = 54\n",
      "a = 6\n",
      "a = 5\n",
      "54 34 6\n"
     ]
    }
   ],
   "source": [
    "#23 MinMax\n",
    "\n",
    "n = int(input(\"n = \"))\n",
    "\n",
    "maxi1 = int(input(\"a = \"))\n",
    "maxi2 = int(input(\"a = \"))\n",
    "maxi3 = int(input(\"a = \"))\n",
    "\n",
    "if maxi1<=maxi2:\n",
    "    maxi1,maxi2 = maxi2,maxi1\n",
    "if maxi2<=maxi3:\n",
    "    maxi2,maxi3 = maxi3,maxi2\n",
    "if maxi1<=maxi3:\n",
    "    maxi1,maxi3 = maxi3,maxi1\n",
    "\n",
    "for i in range(4, n+1):\n",
    "    a = int(input(\"a = \"))\n",
    "    if a>maxi1:\n",
    "        maxi3 = maxi2\n",
    "        maxi2 = maxi1\n",
    "        maxi1 = a\n",
    "    elif maxi1>=a and a>maxi2:\n",
    "        maxi3 = maxi2\n",
    "        maxi2 = a\n",
    "    elif maxi2>=a and a>maxi3:\n",
    "        maxi3 = a\n",
    "        \n",
    "print(maxi1,maxi2,maxi3)"
   ]
  },
  {
   "cell_type": "code",
   "execution_count": 29,
   "id": "67ef546b",
   "metadata": {},
   "outputs": [
    {
     "name": "stdout",
     "output_type": "stream",
     "text": [
      "n = 5\n",
      "son2 = 4\n",
      "son = 3\n",
      "son = 7\n",
      "son = 6\n",
      "son = 5\n",
      "13\n"
     ]
    }
   ],
   "source": [
    "#24 Minmax\n",
    "\n",
    "n = int(input(\"n = \"))\n",
    "x = True\n",
    "son2 = int(input(\"son2 = \"))\n",
    "\n",
    "for i in range(2, n+1):\n",
    "    \n",
    "    son = int(input(\"son = \"))\n",
    "    S = son2+son\n",
    "    \n",
    "    if x:\n",
    "        maxi=S\n",
    "        x = False\n",
    "        \n",
    "    elif S>maxi:\n",
    "        maxi = S\n",
    "    son2 = son\n",
    "print(maxi)"
   ]
  },
  {
   "cell_type": "code",
   "execution_count": 10,
   "id": "8478f568",
   "metadata": {},
   "outputs": [
    {
     "name": "stdout",
     "output_type": "stream",
     "text": [
      "n = 4\n",
      "son2 = 3\n",
      "son = 4\n",
      "son = 6\n",
      "son = 1\n",
      "2 va 3\n"
     ]
    }
   ],
   "source": [
    "#25 Minmax\n",
    "\n",
    "n = int(input(\"n = \"))\n",
    "x = True\n",
    "son2 = int(input(\"son2 = \"))\n",
    "\n",
    "for i in range(2, n+1):\n",
    "    \n",
    "    son = int(input(\"son = \"))\n",
    "    S = son2*son\n",
    "    \n",
    "    if x:\n",
    "        maxi = S\n",
    "        idx = i\n",
    "        x = False\n",
    "    elif S>maxi:\n",
    "        maxi = S\n",
    "        idx = i\n",
    "        \n",
    "    son2 = son\n",
    "print(idx-1, \"va\", idx)\n",
    "    "
   ]
  },
  {
   "cell_type": "code",
   "execution_count": 23,
   "id": "b668dc57",
   "metadata": {},
   "outputs": [
    {
     "name": "stdout",
     "output_type": "stream",
     "text": [
      "N = 4\n",
      "a = 5\n",
      "a = 4\n",
      "a = 3\n",
      "a = 4\n",
      "1\n"
     ]
    }
   ],
   "source": [
    "#26 Minmax\n",
    "\n",
    "N = int(input(\"N = \"))\n",
    "S = 0; maxi_S = 0\n",
    "for i in range(1, N+1):\n",
    "    a = int(input(\"a = \"))\n",
    "    \n",
    "        \n",
    "    if a%2==0:\n",
    "        S+=1\n",
    "    else:\n",
    "        S = 0\n",
    "        \n",
    "    if maxi_S < S:\n",
    "        maxi_S = S\n",
    "if maxi_S==0:\n",
    "    print(\"Juft son yo'q\")\n",
    "else:\n",
    "    print(maxi_S)"
   ]
  },
  {
   "cell_type": "code",
   "execution_count": null,
   "id": "9a1d55be",
   "metadata": {},
   "outputs": [],
   "source": [
    "#27 minmax\n",
    "\n",
    "n = int(input(\"n = \"))\n",
    "S = 0"
   ]
  },
  {
   "cell_type": "code",
   "execution_count": 25,
   "id": "50ddd1e2",
   "metadata": {},
   "outputs": [
    {
     "name": "stdout",
     "output_type": "stream",
     "text": [
      "N = 6\n",
      "a = 1\n",
      "a = 1\n",
      "a = 1\n",
      "a = 1\n",
      "a = 1\n",
      "a = 1\n",
      "6 1\n"
     ]
    }
   ],
   "source": [
    "#28 Minmax\n",
    "\n",
    "N = int(input(\"N = \"))\n",
    "\n",
    "S = 0; maxi_S = 0\n",
    "for i in range(1, N+1):\n",
    "    a = int(input(\"a = \"))\n",
    "    \n",
    "    if a==1:\n",
    "        S+=1\n",
    "    else:\n",
    "        S = 0\n",
    "    if  maxi_S < S:\n",
    "        maxi_S = S\n",
    "        k = i\n",
    "if maxi_S==0:\n",
    "    print(\"Bir  yo'q\")\n",
    "else:\n",
    "    print(maxi_S, k-maxi_S+1)"
   ]
  },
  {
   "cell_type": "code",
   "execution_count": 30,
   "id": "87d16ed4",
   "metadata": {},
   "outputs": [
    {
     "name": "stdout",
     "output_type": "stream",
     "text": [
      "n = 5\n",
      "a = 3\n",
      "a = 4\n",
      "a = 2\n",
      "a = 4\n",
      "a = 5\n",
      "1\n"
     ]
    }
   ],
   "source": [
    "#29 minmax\n",
    "\n",
    "n = int(input(\"n = \"))\n",
    "x = True\n",
    "sana = 0; max_sana = 0\n",
    "for i in range(1, n+1):\n",
    "    a = int(input(\"a = \"))\n",
    "    if x:\n",
    "        mini = a\n",
    "        x = False\n",
    "    \n",
    "    if a<mini:\n",
    "        mini = a\n",
    "        sana = 1\n",
    "        max_sana = 1\n",
    "    \n",
    "    elif a == mini:\n",
    "        sana+=1\n",
    "        if sana>max_sana:\n",
    "            max_sana = sana\n",
    "    else:\n",
    "        sana = 0\n",
    "print(max_sana)"
   ]
  },
  {
   "cell_type": "code",
   "execution_count": 31,
   "id": "b3eba459",
   "metadata": {},
   "outputs": [
    {
     "name": "stdout",
     "output_type": "stream",
     "text": [
      "n = 6\n",
      "a = 4\n",
      "a = 5\n",
      "a = 4\n",
      "a = 3\n",
      "a = 6\n",
      "a = 5\n",
      "2\n"
     ]
    }
   ],
   "source": [
    "#30 Min max\n",
    "\n",
    "n = int(input(\"n = \"))\n",
    "x = True\n",
    "sana = 0; max_sana = 0\n",
    "for i in range(1, n+1):\n",
    "    a = int(input(\"a = \"))\n",
    "    \n",
    "    if x:\n",
    "        maxi = a\n",
    "        x = False\n",
    "        \n",
    "    if a>maxi:\n",
    "        maxi = a\n",
    "        sana = 1\n",
    "        max_sana = n-i+1\n",
    "        \n",
    "    elif a==maxi:\n",
    "        sana+=1\n",
    "    \n",
    "    else:\n",
    "        if sana<max_sana and sana!=0:\n",
    "            max_sana==sana\n",
    "        sana = 0\n",
    "        \n",
    "if sana <max_sana and sana!=0:\n",
    "    max_sana = sana\n",
    "print(max_sana)"
   ]
  },
  {
   "cell_type": "code",
   "execution_count": null,
   "id": "08efe65f",
   "metadata": {},
   "outputs": [],
   "source": []
  }
 ],
 "metadata": {
  "kernelspec": {
   "display_name": "Python 3 (ipykernel)",
   "language": "python",
   "name": "python3"
  },
  "language_info": {
   "codemirror_mode": {
    "name": "ipython",
    "version": 3
   },
   "file_extension": ".py",
   "mimetype": "text/x-python",
   "name": "python",
   "nbconvert_exporter": "python",
   "pygments_lexer": "ipython3",
   "version": "3.9.7"
  }
 },
 "nbformat": 4,
 "nbformat_minor": 5
}
